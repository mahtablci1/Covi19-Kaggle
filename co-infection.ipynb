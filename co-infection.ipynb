{
 "cells": [
  {
   "cell_type": "markdown",
   "metadata": {},
   "source": [
    "## Data on potential risk factors:  Co-infections (determine whether co-existing respiratory/viral infections make the virus more transmissible or virulent) and other co-morbidities"
   ]
  },
  {
   "cell_type": "code",
   "execution_count": 122,
   "metadata": {},
   "outputs": [],
   "source": [
    "import os\n",
    "import json\n",
    "from pprint import pprint\n",
    "from copy import deepcopy\n",
    "\n",
    "import numpy as np\n",
    "import pandas as pd\n",
    "import numpy as np\n",
    "import json\n",
    "import glob\n",
    "import sys\n",
    "\n",
    "sys.path.insert(0, \"../\")\n",
    "\n",
    "root_path = '/Users/u6066091/Desktop/kaggle/input/corona_challenge/'\n",
    "\n",
    "corona_features = {\"doc_id\": [None], \"source\": [None], \"title\": [None],\n",
    "                  \"abstract\": [None], \"text_body\": [None]}\n",
    "corona_df = pd.DataFrame.from_dict(corona_features)\n",
    "\n",
    "json_filenames = glob.glob(f'{root_path}/**/*.json', recursive=True)"
   ]
  },
  {
   "cell_type": "code",
   "execution_count": 3,
   "metadata": {},
   "outputs": [],
   "source": [
    "\n",
    "root = '/Users/u6066091/Desktop/kaggle'"
   ]
  },
  {
   "cell_type": "code",
   "execution_count": 6,
   "metadata": {},
   "outputs": [
    {
     "data": {
      "text/html": [
       "<div>\n",
       "<style scoped>\n",
       "    .dataframe tbody tr th:only-of-type {\n",
       "        vertical-align: middle;\n",
       "    }\n",
       "\n",
       "    .dataframe tbody tr th {\n",
       "        vertical-align: top;\n",
       "    }\n",
       "\n",
       "    .dataframe thead th {\n",
       "        text-align: right;\n",
       "    }\n",
       "</style>\n",
       "<table border=\"1\" class=\"dataframe\">\n",
       "  <thead>\n",
       "    <tr style=\"text-align: right;\">\n",
       "      <th></th>\n",
       "      <th>Task</th>\n",
       "      <th>Question</th>\n",
       "      <th>Subquestion</th>\n",
       "      <th>Outcome.list</th>\n",
       "      <th>Differences.list</th>\n",
       "      <th>Design.list</th>\n",
       "      <th>Notes</th>\n",
       "    </tr>\n",
       "  </thead>\n",
       "  <tbody>\n",
       "    <tr>\n",
       "      <th>0</th>\n",
       "      <td>What is known about transmission, incubation, ...</td>\n",
       "      <td>Range of incubation periods for the disease in...</td>\n",
       "      <td>Range of incubation periods for humans: genera...</td>\n",
       "      <td>incubation period</td>\n",
       "      <td>age.</td>\n",
       "      <td>contact tracing, survival analysis, time-to-ev...</td>\n",
       "      <td>https://www.ncbi.nlm.nih.gov/pmc/articles/PMC4...</td>\n",
       "    </tr>\n",
       "    <tr>\n",
       "      <th>1</th>\n",
       "      <td>What is known about transmission, incubation, ...</td>\n",
       "      <td>Range of incubation periods for the disease in...</td>\n",
       "      <td>Range of incubation periods for humans: by age...</td>\n",
       "      <td>incubation period, stratified by age group</td>\n",
       "      <td>age.</td>\n",
       "      <td>contact tracing, survival analysis, time-to-ev...</td>\n",
       "      <td>Notes</td>\n",
       "    </tr>\n",
       "    <tr>\n",
       "      <th>2</th>\n",
       "      <td>What is known about transmission, incubation, ...</td>\n",
       "      <td>Range of incubation periods for the disease in...</td>\n",
       "      <td>Range of incubation periods for humans: by hea...</td>\n",
       "      <td>incubation period, stratified by health status...</td>\n",
       "      <td>health status (diabetes, hypertension, heart d...</td>\n",
       "      <td>contact tracing, survival analysis, time-to-ev...</td>\n",
       "      <td>Notes</td>\n",
       "    </tr>\n",
       "    <tr>\n",
       "      <th>3</th>\n",
       "      <td>What is known about transmission, incubation, ...</td>\n",
       "      <td>Range of incubation periods for the disease in...</td>\n",
       "      <td>How long are individuals contagious, even afte...</td>\n",
       "      <td>infectious period, serial interval, generation...</td>\n",
       "      <td>age, health status (diabetes, hypertension, he...</td>\n",
       "      <td>excretion profiles from experimental infection...</td>\n",
       "      <td>https://idpjournal.biomedcentral.com/articles/...</td>\n",
       "    </tr>\n",
       "    <tr>\n",
       "      <th>4</th>\n",
       "      <td>What is known about transmission, incubation, ...</td>\n",
       "      <td>Prevalence of asymptomatic shedding and transm...</td>\n",
       "      <td>Prevalence of asymptomatic shedding: general p...</td>\n",
       "      <td>nasal carriage, asymptomatic shedding</td>\n",
       "      <td>age, health status (diabetes, hypertension, he...</td>\n",
       "      <td>population prevalence survey using nasopharyng...</td>\n",
       "      <td>https://www.ncbi.nlm.nih.gov/pmc/articles/PMC6...</td>\n",
       "    </tr>\n",
       "  </tbody>\n",
       "</table>\n",
       "</div>"
      ],
      "text/plain": [
       "                                                Task  \\\n",
       "0  What is known about transmission, incubation, ...   \n",
       "1  What is known about transmission, incubation, ...   \n",
       "2  What is known about transmission, incubation, ...   \n",
       "3  What is known about transmission, incubation, ...   \n",
       "4  What is known about transmission, incubation, ...   \n",
       "\n",
       "                                            Question  \\\n",
       "0  Range of incubation periods for the disease in...   \n",
       "1  Range of incubation periods for the disease in...   \n",
       "2  Range of incubation periods for the disease in...   \n",
       "3  Range of incubation periods for the disease in...   \n",
       "4  Prevalence of asymptomatic shedding and transm...   \n",
       "\n",
       "                                         Subquestion  \\\n",
       "0  Range of incubation periods for humans: genera...   \n",
       "1  Range of incubation periods for humans: by age...   \n",
       "2  Range of incubation periods for humans: by hea...   \n",
       "3  How long are individuals contagious, even afte...   \n",
       "4  Prevalence of asymptomatic shedding: general p...   \n",
       "\n",
       "                                        Outcome.list  \\\n",
       "0                                  incubation period   \n",
       "1         incubation period, stratified by age group   \n",
       "2  incubation period, stratified by health status...   \n",
       "3  infectious period, serial interval, generation...   \n",
       "4              nasal carriage, asymptomatic shedding   \n",
       "\n",
       "                                    Differences.list  \\\n",
       "0                                               age.   \n",
       "1                                               age.   \n",
       "2  health status (diabetes, hypertension, heart d...   \n",
       "3  age, health status (diabetes, hypertension, he...   \n",
       "4  age, health status (diabetes, hypertension, he...   \n",
       "\n",
       "                                         Design.list  \\\n",
       "0  contact tracing, survival analysis, time-to-ev...   \n",
       "1  contact tracing, survival analysis, time-to-ev...   \n",
       "2  contact tracing, survival analysis, time-to-ev...   \n",
       "3  excretion profiles from experimental infection...   \n",
       "4  population prevalence survey using nasopharyng...   \n",
       "\n",
       "                                               Notes  \n",
       "0  https://www.ncbi.nlm.nih.gov/pmc/articles/PMC4...  \n",
       "1                                              Notes  \n",
       "2                                              Notes  \n",
       "3  https://idpjournal.biomedcentral.com/articles/...  \n",
       "4  https://www.ncbi.nlm.nih.gov/pmc/articles/PMC6...  "
      ]
     },
     "execution_count": 6,
     "metadata": {},
     "output_type": "execute_result"
    }
   ],
   "source": [
    "root = '/Users/u6066091/Desktop/kaggle'\n",
    "sub_que = pd.read_csv(root + '/input/kaggle_annotated/COVID-19_dictionary_sub_question.csv')\n",
    "sub_que.head()"
   ]
  },
  {
   "cell_type": "code",
   "execution_count": 55,
   "metadata": {},
   "outputs": [],
   "source": [
    "co_infec  = sub_que[sub_que['Question'] == 'Data on potential risk factors:  Co-infections (determine whether co-existing respiratory/viral infections make the virus more transmissible or virulent) and other co-morbidities']\n"
   ]
  },
  {
   "cell_type": "code",
   "execution_count": 103,
   "metadata": {},
   "outputs": [
    {
     "data": {
      "text/plain": [
       "['HIV, AIDS',\n",
       " 'new or progressive infiltrate on chest radiograph, leukocytosis, fever',\n",
       " 'tuberculosis, tuberculosis stage, chest x-ray',\n",
       " 'influenza',\n",
       " 'progressive infiltrate',\n",
       " 'new infiltrate']"
      ]
     },
     "execution_count": 103,
     "metadata": {},
     "output_type": "execute_result"
    }
   ],
   "source": [
    "co_infect = set(co_infec['Differences.list'])\n",
    "design =  set(co_infec['Design.list'])\n",
    "des_list = list(des_list)\n",
    "co_infect = list(co_infect)\n",
    "co_infect.extend(['progressive infiltrate','new infiltrate'])\n",
    "co_infect"
   ]
  },
  {
   "cell_type": "code",
   "execution_count": 105,
   "metadata": {},
   "outputs": [
    {
     "data": {
      "text/plain": [
       "[' matched case-control',\n",
       " ' medical records review',\n",
       " ' cross-sectional case-control',\n",
       " ' survival analysis',\n",
       " ' hospital-acquired infection surveillance',\n",
       " ' observational case series',\n",
       " ' logistic regression',\n",
       " ' mortality records review',\n",
       " 'hospital infection control epidemiology',\n",
       " ' retrospective cohort',\n",
       " ' time series analysis',\n",
       " 'risk factor analysis',\n",
       " ' outbreak investigation',\n",
       " 'case-control',\n",
       " 'hospital infection control']"
      ]
     },
     "execution_count": 105,
     "metadata": {},
     "output_type": "execute_result"
    }
   ],
   "source": [
    "list_des = list(set(des_list[0]+des_list[1]))\n",
    "list_des.extend(['case-control','hospital infection control'])\n",
    "list_des"
   ]
  },
  {
   "cell_type": "code",
   "execution_count": 72,
   "metadata": {},
   "outputs": [],
   "source": [
    "import re\n",
    "import json\n",
    "co_infect_list = []\n",
    "for i in range(0,len(json_filenames)):\n",
    "    \n",
    "    with open(json_filenames[i], \"r\") as infile:\n",
    "        filetext = infile.read()\n",
    "    with open(json_filenames[i]) as data:\n",
    "        data = json.load(data)\n",
    "        \n",
    "        pattern = r'\"text\": \"([^\"]*(%s)[^\"]*)((?!\"section\").)*\"section\": \"([^\"]*)\"' % \"|\".join(co_infect)\n",
    "        regex = re.compile(pattern, re.DOTALL)\n",
    "   \n",
    "        results = regex.findall(filetext)\n",
    "        for match in results:\n",
    "            co_infect_list.append([data['paper_id'], match[3], match[1], match[0]])\n",
    "#             print ('Match in section \"%s\":\\n %s \\n-------------------' % (match[3], match[0]))"
   ]
  },
  {
   "cell_type": "code",
   "execution_count": 75,
   "metadata": {},
   "outputs": [],
   "source": [
    "import pandas as pd\n",
    "co_infect_sections = pd.DataFrame(co_infect_list, columns = ['doc_id', 'section', 'co_infect', 'text'])"
   ]
  },
  {
   "cell_type": "code",
   "execution_count": 109,
   "metadata": {},
   "outputs": [],
   "source": [
    "sec_risk = []\n",
    "for i in range(0, len(co_infect_sections['text'])):\n",
    "    text = co_infect_sections.loc[i,'text']\n",
    "    design = list_des\n",
    "    design_list = [re.findall(ri.lower(), text) for ri in design]\n",
    "    for des in design_list:\n",
    "        if des != []:\n",
    "            sec_risk.append([co_infect_sections.loc[i,'doc_id'],co_infect_sections.loc[i,'section'],des,text, co_infect_sections.loc[i,'co_infect']])\n",
    "                                                                                                                   \n",
    "                                                                                                                   \n",
    "                                                                                                                   \n",
    "                                                                                                                   \n",
    "                                                                                                                   \n",
    "                                                                                                                   \n",
    "                                                                                                                   \n",
    "                                                                                                                   \n",
    "                                                                                                                   \n",
    "                                                                                                                   "
   ]
  },
  {
   "cell_type": "code",
   "execution_count": 112,
   "metadata": {},
   "outputs": [],
   "source": [
    "co_infect = pd.DataFrame(sec_risk, columns = ['doc_id','section','design', 'text', 'co-infect'])\n",
    "co_infect.to_csv('/Users/u6066091/Desktop/kaggle/output/dataframe/co_infect.csv')"
   ]
  },
  {
   "cell_type": "code",
   "execution_count": 120,
   "metadata": {},
   "outputs": [],
   "source": [
    "cov_list = []\n",
    "for i in range(0,len(co_infect)):\n",
    "    covid = [re.findall('cov',co_infect.loc[i,'text'])]\n",
    "    for cov in covid:\n",
    "        if cov != []:\n",
    "            cov_list.append(co_infect.loc[i,'text'])\n"
   ]
  }
 ],
 "metadata": {
  "kernelspec": {
   "display_name": "Python 3",
   "language": "python",
   "name": "python3"
  },
  "language_info": {
   "codemirror_mode": {
    "name": "ipython",
    "version": 3
   },
   "file_extension": ".py",
   "mimetype": "text/x-python",
   "name": "python",
   "nbconvert_exporter": "python",
   "pygments_lexer": "ipython3",
   "version": "3.7.6"
  }
 },
 "nbformat": 4,
 "nbformat_minor": 4
}
