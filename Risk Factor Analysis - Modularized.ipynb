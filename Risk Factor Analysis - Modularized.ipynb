{
 "cells": [
  {
   "cell_type": "markdown",
   "metadata": {},
   "source": [
    "## Table of Contents:\n",
    "* [Team](#team)\n",
    "* [Task](#task)\n",
    "* [How we approach the challenge](#approach)\n",
    "* [Our hypotheses/why](#hypotheses)\n",
    "* [How we solve it](#solve)\n",
    "* [First approach](#first)\n",
    "* [Second approach](#second)\n",
    "* [Pros and cons of our approach and platform](#pros)\n",
    "* [Acknowledgement](#ackn)\n",
    "* [Code](#code)\n",
    "* [Keyword Analysis (Phase 1)](#phase1)\n",
    "* [Question Search (Phase 2)](#phase2)\n",
    "\n",
    "<a id=\"team\"></a>\n",
    "## Team:\n",
    "#### We are a team of three: a senior data scientist, a front-end senior software engineer and a data science intern who all work at Thomson Reuters, and that’s how we know each other. If you are looking to contact us, here is our contact information:\n",
    "- Nikhil Budathoki : nbudatho@uwaterloo.ca\n",
    "- Maria Kamali: maria.kamali@thomsonreuters.com\n",
    "- Keshav Vardachari: keshav.varadachari@thomsonreuters.com\n",
    "\n",
    "<a id=\"task\"></a>\n",
    "# Task: \n",
    "## What do we know about COVID-19 risk factors? \n",
    "\n",
    "<a id=\"approach\"></a>\n",
    "## Purpose: \n",
    "Our platform was built based on the following principles: \n",
    "- Empower users (health researchers) to conduct literature survey efficiently. \n",
    "- Adaptable to future needs and challenges of health researchers.  \n",
    "- Modularized to have the capability of being improved and polished in a short time and in parallel.  \n",
    "\n",
    "<a id=\"hypotheses\"></a>\n",
    "## Hypotheses/why? \n",
    "\n",
    "AI can benefit researchers by extracting and visualizing information in the most efficient and relevant manner at scale.  In the absence of expert feedback and annotations, we have built/provided a platform that extracts and ranks relevant info with potential for improvement in the future by taking advantage of expert annotation. We believe that there is value in extracting excerpts that provide context on the facts presented.\n",
    "\n",
    "<a id=\"solve\"></a>\n",
    "## Our Solution \n",
    "\n",
    "The project was done in two slightly different approaches.  \n",
    "The first approach focused on developing an end to end pipeline to address the first subtask which was: \n",
    "- Data on potential risks factors \n",
    "- Smoking, pre-existing pulmonary disease \n",
    "- Co-infections (determine whether co-existing respiratory/viral infections make the virus more transmissible or virulent) and other co-    morbidities \n",
    "- Neonates and pregnant women \n",
    "- Socio-economic and behavioral factors to understand the economic impact of the virus and whether there were differences. \n",
    "\n",
    "We have developed a web app to visually accompany the analysis carried out for this task. You can check out the app in our project's [GitHub](https://github.com/mahtablci1/Kaggle/)\n",
    "\n",
    "The second approach was focused on question information retrieval but isn’t accompanied by with a web-app yet due to time constraint. \n",
    "\n",
    "<a id=\"first\"></a>\n",
    "## First approach has the following recipe: \n",
    "The platform is designed to visualize snippets of relevant topics through the following process: \n",
    "- Merge different sources of the data\n",
    "- Extract all COVID19 related papers \n",
    "- Expand and process the list of keywords\n",
    "- Find excerpts of papers that include the keywords \n",
    "- Rank the excerpts\n",
    "- Create an extractive summary for each paper\n",
    "- Serve it to the web-app for visualization\n",
    "\n",
    "<a id=\"second\"></a>\n",
    "## Second approach has the following recipe: \n",
    "The platform is designed to rank snippets of relevant topics through the following process: \n",
    "\n",
    "- Merge different sources of the data\n",
    "- Extract all COVID 19 related paper s\n",
    "- Convert a question into set of keywords (The questions are extracted from the [medical dictionary](https://docs.google.com/spreadsheets/d/1NoiAFJoydk3zuc-G0qqROarkhaGpfgbQhTVYhbYtLCM/edit#gid=0) shared with Kaggle participants.\n",
    "- Expand the list of keywords\n",
    "- Find excerpts of papers that include the keywords \n",
    "- Rank the excerpts\n",
    "- Create an extractive summary for each paper\n",
    "\n",
    "Here is a screenshot of our platform:\n",
    "![Demo](https://github.com/mahtablci1/Kaggle/blob/master/platform_sample.png?raw=true)\n",
    "\n",
    "<a id=\"pros\"></a>\n",
    "\n",
    "### Pros and Cons of our approach and platform: \n",
    "\n",
    "#### Pros: \n",
    "\n",
    "- The code base and the approach is highly modular and simple. It is a well structured baseleine to start.   \n",
    "- The code is very well documented \n",
    "- The visualization resonates with researchers. We interviewed an expert in epidemiology, since that is our target user. He liked all  aspects of it including the extractive summaries of the papers. He also noted that using this platform could reduce the time taken for a literature survey, which normally takes 3 to 4 months, to less than a month.  \n",
    "- The platform is taking a high recall approach to include everything \n",
    "- With a little bit of effort, we can convert this platform to an expert annotation platform where experts can interactively click on irrelevant sentences in the snippets and convert a completely unsupervised approach to a supervised learning task. \n",
    "\n",
    "#### Cons: \n",
    "- The output wasn't reviewed and validated by a subject matter expert\n",
    "- Keyword search is not the most efficient search. Word embedding is known to be a better approach for text analysis but there wasn’t enough time to implement and evaluate that. \n",
    "- Our ranking follows a simple approach, where an expert should decide on the metric for ranking the importance of a snippet. \n",
    "- The second approach is not coming with a visualization. \n",
    "- There may be more risk factors than what we currently searched for and an algorithm should extract the unknown risks too. "
   ]
  },
  {
   "cell_type": "markdown",
   "metadata": {},
   "source": [
    "<a id=\"ackn\"></a>\n",
    "### Acknowledgement\n",
    "We would like to thank Brian Romer (https://www.linkedin.com/in/brianromer/) for his valuable help in designing the visualization as well as Serge Myroshnychenko (https://www.linkedin.com/in/smyroshnychenko/) for his valuable feedback on the interface."
   ]
  },
  {
   "cell_type": "markdown",
   "metadata": {},
   "source": [
    "<a id=\"code\"></a>\n",
    "# Code"
   ]
  },
  {
   "cell_type": "markdown",
   "metadata": {},
   "source": [
    "## Requirements"
   ]
  },
  {
   "cell_type": "code",
   "execution_count": 1,
   "metadata": {},
   "outputs": [
    {
     "name": "stdout",
     "output_type": "stream",
     "text": [
      "\u001b[31mCOVID.DATA.LIC.AGMT.pdf\u001b[m\u001b[m*              \u001b[31mjson_schema.txt\u001b[m\u001b[m*\r\n",
      "\u001b[34mbiorxiv_medrxiv\u001b[m\u001b[m/                      \u001b[31mmetadata.csv\u001b[m\u001b[m*\r\n",
      "\u001b[34mcomm_use_subset\u001b[m\u001b[m/                      \u001b[31mmetadata.readme\u001b[m\u001b[m*\r\n",
      "\u001b[34mcord19_specter_embeddings_2020-04-10\u001b[m\u001b[m/ \u001b[34mnoncomm_use_subset\u001b[m\u001b[m/\r\n",
      "\u001b[34mcustom_license\u001b[m\u001b[m/                       scimagoj_2018.csv\r\n"
     ]
    }
   ],
   "source": [
    "ls ../data/"
   ]
  },
  {
   "cell_type": "code",
   "execution_count": 2,
   "metadata": {},
   "outputs": [],
   "source": [
    "import os\n",
    "import io\n",
    "import re\n",
    "import sys\n",
    "import glob\n",
    "import json\n",
    "import string\n",
    "import requests\n",
    "\n",
    "import numpy as np\n",
    "import pandas as pd\n",
    "from tqdm.notebook import tqdm\n",
    "\n",
    "from nltk.corpus import stopwords\n",
    "from nltk.stem import PorterStemmer\n",
    "from nltk.tokenize import word_tokenize, sent_tokenize\n",
    "\n",
    "stemmer = PorterStemmer()\n",
    "root = '../data/'\n",
    "stop_words = list(set(stopwords.words('english')))\n",
    "stop_words.extend(['within', 'what', 'how', 'eg', 'ie'])"
   ]
  },
  {
   "cell_type": "markdown",
   "metadata": {},
   "source": [
    "## Data Parsing and Extraction"
   ]
  },
  {
   "cell_type": "markdown",
   "metadata": {},
   "source": [
    "### `PaperLoader` class will load all papers for the challenge and provide an interface for us to obtain `DataFrames` to work with. The focus will be on:\n",
    "- Obtaining Paper title, Abstract, Body\n",
    "    - The text body is filtered to remove sections containing lots of citations and hyperlinks\n",
    "- Obtaining Authors, Journal of Publication, Publication Date and Publication Date"
   ]
  },
  {
   "cell_type": "markdown",
   "metadata": {},
   "source": [
    "## Data Parsing and Extraction"
   ]
  },
  {
   "cell_type": "markdown",
   "metadata": {},
   "source": [
    "### `PaperLoader` class will load all papers for the challenge and provide an interface for us to obtain `DataFrames` to work with. The focus will be on:\n",
    "- Obtaining Paper title, Abstract, Body\n",
    "    - The text body is filtered to remove sections containing lots of citations and hyperlinks\n",
    "- Obtaining Authors, Journal of Publication, Publication Date and Publication Date\n",
    "- Obtaining journal ratings(H index) to potentially sort paper based on journal quality\n",
    "    - For the journal ratings, we use a list we obtained from **INSERT LINK HERE**"
   ]
  },
  {
   "cell_type": "code",
   "execution_count": 3,
   "metadata": {},
   "outputs": [],
   "source": [
    "class PaperLoader():\n",
    "    \"\"\"\n",
    "    Loads, parses and merges metadata for papers\n",
    "    \"\"\"\n",
    "    \n",
    "    def __init__(self, root_dir, no_bib=True):\n",
    "        \"\"\"\n",
    "        Initializes PaperLoader class to read all .json files from root_directory\n",
    "            \n",
    "            no_bib: if true, clean noisy sections with bibliographies\n",
    "            root_dir: root directory for papers\n",
    "        \"\"\"\n",
    "        self.ROOT_DIR = root_dir\n",
    "        self.JSON_FILES = glob.glob(f'{root}/**/*.json', recursive=True)\n",
    "        self.PAPERS_COLUMN = {\n",
    "            \"doc_id\": [None],\n",
    "            \"title\": [None],\n",
    "            \"abstract\": [None],\n",
    "            \"text_body\": [None]\n",
    "        }\n",
    "        self.PAPERS_DF = None\n",
    "        self.NO_BIB = no_bib\n",
    "\n",
    "    \n",
    "    def __clean_bib(self, body_text, thres):\n",
    "        \"\"\"\n",
    "        Removes sections with more than 5 URL/DOI/HTTP instances\n",
    "            \n",
    "            body_text: array of dictionaries for text_body\n",
    "            thres: number of hyperlinks tolerated before removal \n",
    "        \"\"\"\n",
    "        # Sometimes, the text body has duplicate sections consecutively.\n",
    "        merged_body = []\n",
    "        for segment in body_text:\n",
    "            # We will combine these duplicate sections\n",
    "            if len(merged_body) > 0:\n",
    "                if merged_body[-1]['section'] == segment['section']:\n",
    "                    merged_body[-1]['text'] += '\\n' + segment['text']\n",
    "                    continue\n",
    "            merged_body.append(segment)\n",
    "\n",
    "        merged_body = [\n",
    "            segment for segment in merged_body\n",
    "            if len(re.findall(\"(http|doi|www)\", segment['text'])) <= thres\n",
    "        ]\n",
    "        return merged_body\n",
    "\n",
    "\n",
    "    def create_paper_df(self):\n",
    "        \"\"\"\n",
    "        Creates a Pandas DataFrame from all json files in root_directory\n",
    "        Each json file represents a paper. \n",
    "        Features extracted are: doc_id, title, abstract, text_body\n",
    "        \"\"\"\n",
    "        df_list = []\n",
    "        \n",
    "        for i in tqdm(range(len(self.JSON_FILES))):\n",
    "            file_name = self.JSON_FILES[i]\n",
    "            \n",
    "            #Initialize row for returned df. Each row represents a paper\n",
    "            row = {x: None for x in self.PAPERS_COLUMN}\n",
    "\n",
    "            with open(file_name) as json_data:\n",
    "                data = json.load(json_data)\n",
    "\n",
    "                row['doc_id'] = data['paper_id']\n",
    "                row['title'] = data['metadata']['title']\n",
    "                \n",
    "                # If title is empty, we skip the paper\n",
    "                if len(row['title']) <= 2:\n",
    "                    continue\n",
    "\n",
    "                # If a paper does not have an abstract of a body, we will skip it\n",
    "                if ('abstract' not in data or 'body_text' not in data):\n",
    "                    continue\n",
    "                else:\n",
    "                    # Now need all of the abstract. Put it all in\n",
    "                    # a list then use str.join() \n",
    "                    abstract_list = [abst['text'] for abst in data['abstract']]\n",
    "                    abstract = \"\\n \".join(abstract_list)\n",
    "\n",
    "                # Skip the paper if abstract is empty\n",
    "                if len(abstract) <= 2:\n",
    "                    continue\n",
    "\n",
    "                row['abstract'] = abstract\n",
    "\n",
    "                # And lastly the body of the text.\n",
    "                # These clauses check if the user wants to clean up references\n",
    "                if self.NO_BIB:\n",
    "                    body_list = self.__clean_bib(data['body_text'], 4)\n",
    "                else:\n",
    "                    body_list = [bt for bt in data['body_text']]\n",
    "\n",
    "                row['text_body'] = body_list\n",
    "\n",
    "                df_list.append(row)\n",
    "        # create final dataframe\n",
    "        self.PAPERS_DF = pd.DataFrame(df_list)\n",
    "\n",
    "\n",
    "    def merge_metadata(self, metadata = 'metadata.csv'):\n",
    "        \"\"\"\n",
    "            Joins paper information with information on journal for paper,\n",
    "            authors, doi and published date  \n",
    "                metadata: path to csv file containing metadata\n",
    "        \"\"\"\n",
    "        metadata_df = pd.read_csv(self.ROOT_DIR + metadata)\n",
    "        metadata_df = metadata_df.loc[:, \n",
    "                          ['sha', 'publish_time', 'authors', 'journal', 'doi']]\n",
    "        self.PAPERS_DF = self.PAPERS_DF.merge(metadata_df,\n",
    "                                              left_on='doc_id',\n",
    "                                              right_on='sha',\n",
    "                                              how='inner')\n",
    "\n",
    "\n",
    "    def get_df(self):\n",
    "        \"\"\"\n",
    "        Returns processed dataframe\n",
    "        \"\"\"\n",
    "        self.PAPERS_DF = self.PAPERS_DF.dropna(\n",
    "            subset=['abstract', 'text_body'])\n",
    "        return self.PAPERS_DF"
   ]
  },
  {
   "cell_type": "markdown",
   "metadata": {},
   "source": [
    "We will now parse the papers from our data(root) directory and store them in `papers_df`."
   ]
  },
  {
   "cell_type": "code",
   "execution_count": 4,
   "metadata": {},
   "outputs": [
    {
     "data": {
      "application/vnd.jupyter.widget-view+json": {
       "model_id": "e856b88de2ea49a9b3e2b4f5e9158a7e",
       "version_major": 2,
       "version_minor": 0
      },
      "text/plain": [
       "HBox(children=(FloatProgress(value=0.0, max=59311.0), HTML(value='')))"
      ]
     },
     "metadata": {},
     "output_type": "display_data"
    },
    {
     "name": "stdout",
     "output_type": "stream",
     "text": [
      "\n"
     ]
    }
   ],
   "source": [
    "paper_loader = PaperLoader(root)\n",
    "paper_loader.create_paper_df()\n",
    "paper_loader.merge_metadata()\n",
    "papers_df = paper_loader.get_df()"
   ]
  },
  {
   "cell_type": "code",
   "execution_count": 5,
   "metadata": {},
   "outputs": [
    {
     "data": {
      "text/html": [
       "<div>\n",
       "<style scoped>\n",
       "    .dataframe tbody tr th:only-of-type {\n",
       "        vertical-align: middle;\n",
       "    }\n",
       "\n",
       "    .dataframe tbody tr th {\n",
       "        vertical-align: top;\n",
       "    }\n",
       "\n",
       "    .dataframe thead th {\n",
       "        text-align: right;\n",
       "    }\n",
       "</style>\n",
       "<table border=\"1\" class=\"dataframe\">\n",
       "  <thead>\n",
       "    <tr style=\"text-align: right;\">\n",
       "      <th></th>\n",
       "      <th>doc_id</th>\n",
       "      <th>title</th>\n",
       "      <th>abstract</th>\n",
       "      <th>text_body</th>\n",
       "      <th>sha</th>\n",
       "      <th>publish_time</th>\n",
       "      <th>authors</th>\n",
       "      <th>journal</th>\n",
       "      <th>doi</th>\n",
       "    </tr>\n",
       "  </thead>\n",
       "  <tbody>\n",
       "    <tr>\n",
       "      <th>0</th>\n",
       "      <td>306ef95a3a91e13a93bcc37fb2c509b67c0b5640</td>\n",
       "      <td>A Novel Approach for a Novel Pathogen: using a...</td>\n",
       "      <td>Thousands of people in the United States have ...</td>\n",
       "      <td>[{'text': 'The 2019 novel coronavirus (SARS-Co...</td>\n",
       "      <td>306ef95a3a91e13a93bcc37fb2c509b67c0b5640</td>\n",
       "      <td>2020-03-12</td>\n",
       "      <td>Bryson-Cahn, Chloe; Duchin, Jeffrey; Makarewic...</td>\n",
       "      <td>Clin Infect Dis</td>\n",
       "      <td>10.1093/cid/ciaa256</td>\n",
       "    </tr>\n",
       "    <tr>\n",
       "      <th>1</th>\n",
       "      <td>6599ebbef3d868afac9daa4f80fa075675cf03bc</td>\n",
       "      <td>International aviation emissions to 2025: Can ...</td>\n",
       "      <td>International aviation is growing rapidly, res...</td>\n",
       "      <td>[{'text': 'Sixty years ago, civil aviation was...</td>\n",
       "      <td>6599ebbef3d868afac9daa4f80fa075675cf03bc</td>\n",
       "      <td>2009-01-31</td>\n",
       "      <td>Macintosh, Andrew; Wallace, Lailey</td>\n",
       "      <td>Energy Policy</td>\n",
       "      <td>10.1016/j.enpol.2008.08.029</td>\n",
       "    </tr>\n",
       "  </tbody>\n",
       "</table>\n",
       "</div>"
      ],
      "text/plain": [
       "                                     doc_id  \\\n",
       "0  306ef95a3a91e13a93bcc37fb2c509b67c0b5640   \n",
       "1  6599ebbef3d868afac9daa4f80fa075675cf03bc   \n",
       "\n",
       "                                               title  \\\n",
       "0  A Novel Approach for a Novel Pathogen: using a...   \n",
       "1  International aviation emissions to 2025: Can ...   \n",
       "\n",
       "                                            abstract  \\\n",
       "0  Thousands of people in the United States have ...   \n",
       "1  International aviation is growing rapidly, res...   \n",
       "\n",
       "                                           text_body  \\\n",
       "0  [{'text': 'The 2019 novel coronavirus (SARS-Co...   \n",
       "1  [{'text': 'Sixty years ago, civil aviation was...   \n",
       "\n",
       "                                        sha publish_time  \\\n",
       "0  306ef95a3a91e13a93bcc37fb2c509b67c0b5640   2020-03-12   \n",
       "1  6599ebbef3d868afac9daa4f80fa075675cf03bc   2009-01-31   \n",
       "\n",
       "                                             authors          journal  \\\n",
       "0  Bryson-Cahn, Chloe; Duchin, Jeffrey; Makarewic...  Clin Infect Dis   \n",
       "1                 Macintosh, Andrew; Wallace, Lailey    Energy Policy   \n",
       "\n",
       "                           doi  \n",
       "0          10.1093/cid/ciaa256  \n",
       "1  10.1016/j.enpol.2008.08.029  "
      ]
     },
     "execution_count": 5,
     "metadata": {},
     "output_type": "execute_result"
    }
   ],
   "source": [
    "papers_df.head(2)"
   ]
  },
  {
   "cell_type": "code",
   "execution_count": 6,
   "metadata": {},
   "outputs": [
    {
     "data": {
      "text/plain": [
       "(25264, 9)"
      ]
     },
     "execution_count": 6,
     "metadata": {},
     "output_type": "execute_result"
    }
   ],
   "source": [
    "papers_df.shape"
   ]
  },
  {
   "cell_type": "markdown",
   "metadata": {},
   "source": [
    "## Filtering for covid-19 related papers released after 2019\n",
    "There is a lot of noise in this dataset due to information about other strains of coronavirus so we will select only the papers that are related to Covid-19. \n",
    "\n",
    "While the older papers may contain some important insight on the variance among the  different strains of coronavirus, for our purposes, we will only be looking at papers published on 2019 or later because that is when Covid-19 was first discovered in humans."
   ]
  },
  {
   "cell_type": "code",
   "execution_count": 7,
   "metadata": {},
   "outputs": [],
   "source": [
    "# List of keywords for covid-19\n",
    "cov_list = [\n",
    "    'novel coronavi',\n",
    "    'covid',\n",
    "    'cov_2',\n",
    "    'cord-19',\n",
    "    'cord 19',\n",
    "    '2019-nCoV',\n",
    "    '2019 ncov',\n",
    "    '2019 cov',\n",
    "    'wuhan coronavi',\n",
    "]"
   ]
  },
  {
   "cell_type": "markdown",
   "metadata": {},
   "source": [
    "### `RelevantFilter` class will filter the dataframe from `PaperLoader` and filter for covid-19 papers published on 2019 or later. \n",
    "We will need to supply a list of covid-related keywords to filter from to the `constructor`\n"
   ]
  },
  {
   "cell_type": "code",
   "execution_count": 8,
   "metadata": {},
   "outputs": [],
   "source": [
    "class RelevantFilter():\n",
    "    \n",
    "    def __init__(self, keywords, year='2019'):\n",
    "        \"\"\"\n",
    "        constructor for RelevantFilter\n",
    "            keywords: keywords to filter for\n",
    "            year: papers written before this year will be discarded\n",
    "        \"\"\"\n",
    "        self.KEYWORDS = keywords\n",
    "        self.YEAR = year\n",
    "\n",
    "    def extract_recent(self, df):\n",
    "        \"\"\"\n",
    "        extracts documents published on or after self.YEAR\n",
    "        \"\"\"\n",
    "        return df[df['publish_time'] >= self.YEAR]\n",
    "\n",
    "    def filter_papers(self, df):\n",
    "        \"\"\"\n",
    "        Filters for papers whose title have mention of \n",
    "        any of the terms in self.KEYWORDS\n",
    "        \"\"\"\n",
    "        pattern = re.compile('(' + \"|\".join(self.KEYWORDS) + ')',\n",
    "                                 re.IGNORECASE)\n",
    "        # We will filter for rows with one or more matches \n",
    "        # for title and covid keywords\n",
    "        df = df[df['title'].apply(lambda x: \n",
    "                                  len(pattern.findall(x)) >= 1\n",
    "                                  if x else False)]\n",
    "        \n",
    "        return df"
   ]
  },
  {
   "cell_type": "markdown",
   "metadata": {},
   "source": [
    "We will filter through `papers_df` to get only covid-19 related papers in `covid_df`"
   ]
  },
  {
   "cell_type": "code",
   "execution_count": 9,
   "metadata": {},
   "outputs": [],
   "source": [
    "covid_filter = RelevantFilter(cov_list, '2019')\n",
    "covid_df = covid_filter.filter_papers(papers_df)\n",
    "covid_df = covid_filter.extract_recent(covid_df)"
   ]
  },
  {
   "cell_type": "code",
   "execution_count": 10,
   "metadata": {},
   "outputs": [
    {
     "data": {
      "text/plain": [
       "(926, 9)"
      ]
     },
     "execution_count": 10,
     "metadata": {},
     "output_type": "execute_result"
    }
   ],
   "source": [
    "covid_df.shape"
   ]
  },
  {
   "cell_type": "code",
   "execution_count": 11,
   "metadata": {},
   "outputs": [
    {
     "data": {
      "text/html": [
       "<div>\n",
       "<style scoped>\n",
       "    .dataframe tbody tr th:only-of-type {\n",
       "        vertical-align: middle;\n",
       "    }\n",
       "\n",
       "    .dataframe tbody tr th {\n",
       "        vertical-align: top;\n",
       "    }\n",
       "\n",
       "    .dataframe thead th {\n",
       "        text-align: right;\n",
       "    }\n",
       "</style>\n",
       "<table border=\"1\" class=\"dataframe\">\n",
       "  <thead>\n",
       "    <tr style=\"text-align: right;\">\n",
       "      <th></th>\n",
       "      <th>doc_id</th>\n",
       "      <th>title</th>\n",
       "      <th>abstract</th>\n",
       "      <th>text_body</th>\n",
       "      <th>sha</th>\n",
       "      <th>publish_time</th>\n",
       "      <th>authors</th>\n",
       "      <th>journal</th>\n",
       "      <th>doi</th>\n",
       "    </tr>\n",
       "  </thead>\n",
       "  <tbody>\n",
       "    <tr>\n",
       "      <th>0</th>\n",
       "      <td>306ef95a3a91e13a93bcc37fb2c509b67c0b5640</td>\n",
       "      <td>A Novel Approach for a Novel Pathogen: using a...</td>\n",
       "      <td>Thousands of people in the United States have ...</td>\n",
       "      <td>[{'text': 'The 2019 novel coronavirus (SARS-Co...</td>\n",
       "      <td>306ef95a3a91e13a93bcc37fb2c509b67c0b5640</td>\n",
       "      <td>2020-03-12</td>\n",
       "      <td>Bryson-Cahn, Chloe; Duchin, Jeffrey; Makarewic...</td>\n",
       "      <td>Clin Infect Dis</td>\n",
       "      <td>10.1093/cid/ciaa256</td>\n",
       "    </tr>\n",
       "  </tbody>\n",
       "</table>\n",
       "</div>"
      ],
      "text/plain": [
       "                                     doc_id  \\\n",
       "0  306ef95a3a91e13a93bcc37fb2c509b67c0b5640   \n",
       "\n",
       "                                               title  \\\n",
       "0  A Novel Approach for a Novel Pathogen: using a...   \n",
       "\n",
       "                                            abstract  \\\n",
       "0  Thousands of people in the United States have ...   \n",
       "\n",
       "                                           text_body  \\\n",
       "0  [{'text': 'The 2019 novel coronavirus (SARS-Co...   \n",
       "\n",
       "                                        sha publish_time  \\\n",
       "0  306ef95a3a91e13a93bcc37fb2c509b67c0b5640   2020-03-12   \n",
       "\n",
       "                                             authors          journal  \\\n",
       "0  Bryson-Cahn, Chloe; Duchin, Jeffrey; Makarewic...  Clin Infect Dis   \n",
       "\n",
       "                   doi  \n",
       "0  10.1093/cid/ciaa256  "
      ]
     },
     "execution_count": 11,
     "metadata": {},
     "output_type": "execute_result"
    }
   ],
   "source": [
    "covid_df.head(1)"
   ]
  },
  {
   "cell_type": "code",
   "execution_count": 12,
   "metadata": {},
   "outputs": [
    {
     "data": {
      "text/plain": [
       "['A Novel Approach for a Novel Pathogen: using a home assessment team to evaluate patients for 2019 novel coronavirus (SARS-CoV-2)',\n",
       " 'Modeling the dynamics of novel coronavirus (2019-nCov) with fractional derivative']"
      ]
     },
     "execution_count": 12,
     "metadata": {},
     "output_type": "execute_result"
    }
   ],
   "source": [
    "list(covid_df.head(2)['title'].values)"
   ]
  },
  {
   "cell_type": "markdown",
   "metadata": {},
   "source": [
    "<a id=\"phase1\"></a>\n",
    "## Keyword Analysis (Phase 1)"
   ]
  },
  {
   "cell_type": "markdown",
   "metadata": {},
   "source": [
    "We will now go through the papers to extract and rank excerpts that contain relevant information about risk factors for covid-19. \n",
    "We will do this through an analysis of:\n",
    "\n",
    "- Risk factors for covid-19\n",
    "- Study designs\n",
    "    - We will use this to evaluate the quality of a paper's methodologies for our rankings\n",
    "- Outcomes\n",
    "    - We will incentivise excerpts to explicitly mention outcomes that we have found researchers look for(in our interviews)\n",
    "- Fatality\n",
    "    - We have determined that information on mortality and fatality would be of high value to researcehrs, and rightly so.\n",
    "\n",
    "**Note**: The list of keywords were all obtained from a crowdsourced medical dictionary that researchers had assembled. You can find more details [here](https://docs.google.com/spreadsheets/d/1t2e3CHGxHJBiFgHeW0dfwtvCG4x0CDCzcTFX7yz9Z2E/edit#gid=1217643351)"
   ]
  },
  {
   "cell_type": "code",
   "execution_count": 13,
   "metadata": {},
   "outputs": [],
   "source": [
    "risk_factors = [{\n",
    "    'name': 'smoking',\n",
    "    'pattern': '(smoki|smoker|cigar|nicotine|cannabis|marijuana)'\n",
    "}, {\n",
    "    'name': 'diabetes',\n",
    "    'pattern': '(diabet|insulin|blood sugar|blood glucose|ketoacidosis|hyperglycemi)'\n",
    "}, {\n",
    "    'name': 'pregnancy',\n",
    "    'pattern': 'pregnan'\n",
    "}, {\n",
    "    'name': 'tuberculosis',\n",
    "    'pattern': '(tubercul|mtb|\\btb[A-Za-z0-9]\\b)'\n",
    "}, {\n",
    "    'name': 'hypertension',\n",
    "    'pattern': '(hypertension|blood pressure|hbp)'\n",
    "}, {\n",
    "    'name': 'cancer',\n",
    "    'pattern': 'cancer'\n",
    "}, {\n",
    "    'name': 'neonates',\n",
    "    'pattern': '(baby|neonate|enfant)'\n",
    "},\n",
    "    {\n",
    "    'name': 'liver disease',\n",
    "    'pattern': 'liver disease'\n",
    "},{\n",
    "    'name': 'COPD',\n",
    "    'pattern': 'COPD'\n",
    "},{\n",
    "    'name': 'pulmonary disease',\n",
    "    'pattern': 'pulm'\n",
    "},{\n",
    "    'name': 'race/ethnicity',\n",
    "    'pattern': 'ethn'\n",
    "}]"
   ]
  },
  {
   "cell_type": "code",
   "execution_count": 14,
   "metadata": {},
   "outputs": [],
   "source": [
    "design_list = [\n",
    "    'mathemat', 'profil', 'cross sectional case control',\n",
    "    'matched case control', 'contact', 'surviv', 'time to event',\n",
    "    'time-to-event', 'risk factor analysis', 'logistic regression',\n",
    "    'cross-sectional case-control', 'matched case-control',\n",
    "    'observational case series', 'time series analysis', 'survival analysis',\n",
    "    'investigati', 'model', 'outbreak', 'stochast', 'statist', 'analysi',\n",
    "    'experiment', 'excret', 'investig',\n",
    "    'retrospective cohort', 'cross-sectional case-control',\n",
    "    'cross sectional case control', 'prevalence survey', 'systematic review ',\n",
    "    'meta-analysis', 'meta analysis', 'matched case-control',\n",
    "    'matched case control', 'medical record review',\n",
    "    'observational case series', 'time series analysis',\n",
    "    'pseudo-randomized controlled', 'pseudo randomized controlled',\n",
    "    'randomized controlled', 'retrospective analysis', 'retrospective study',\n",
    "    'retrospective studies'\n",
    "]"
   ]
  },
  {
   "cell_type": "code",
   "execution_count": 15,
   "metadata": {},
   "outputs": [],
   "source": [
    "outcome_list = [\n",
    "    'risk', 'range', 'duration', 'asymptomatic', 'infecti', 'reproducti',\n",
    "    'route', 'age', 'transmm'\n",
    "    'stratifi', 'period,', 'health', 'r0', 'shedd', 'viral'\n",
    "    'period', 'incub', 'generat', 'factor', 'interval,', 'serial'\n",
    "]"
   ]
  },
  {
   "cell_type": "code",
   "execution_count": 16,
   "metadata": {},
   "outputs": [],
   "source": [
    "fatality_list = ['icu', 'fatal', 'death', 'die', 'dead', 'dying', 'mortal']"
   ]
  },
  {
   "cell_type": "markdown",
   "metadata": {},
   "source": [
    "#### The next cell will contain the default coeffecients for the algorithm's prioritization of different features. These coeffecients are a work in progress and we seek to constantly improve them with more expert feedback."
   ]
  },
  {
   "cell_type": "code",
   "execution_count": 17,
   "metadata": {},
   "outputs": [],
   "source": [
    "evaluation_weights= {\n",
    "    'risk': 5,\n",
    "    'design': 0.5,\n",
    "    'outcome': 0.5,\n",
    "    'fatality': 0.5,\n",
    "    'section': 0.5,\n",
    "    'inverse_length': 1000\n",
    "}"
   ]
  },
  {
   "cell_type": "markdown",
   "metadata": {},
   "source": [
    "### `PaperAnalyzer` class will take in a DataFrame of papers and then analyze each paper. \n",
    "The analysis is done with with its `analyze_risks()`, `analyze_designs()` and `analyze_outcomes()` methods that will analyze the risk factors, designs and outcomes respectively for excerpts in the paper. Finally, the `get_df()` method will return a new DataFrame with rankings for relevancy of excerpts. The rankings also factor in the `section` of the paper that the excerpt is from, with sections like **discussion** or **results** that seem to have pertinent, concise information ranked higher. Furthermore, these rankings are also normalized by the lenght of the excerpts\n",
    "\n",
    "*Note: These rankings for sections were determined through our interviews with epidimiologists.*"
   ]
  },
  {
   "cell_type": "markdown",
   "metadata": {},
   "source": [
    "#### Helper functions for `PaperAnalyzer` "
   ]
  },
  {
   "cell_type": "code",
   "execution_count": 18,
   "metadata": {},
   "outputs": [],
   "source": [
    "def rank_design(design_keyword):\n",
    "    \"\"\"\n",
    "    This helper function ranks study designs. So far we have\n",
    "    confirmed rankings for only three study designs, but this\n",
    "    data will be expanded and improved further with time as we \n",
    "    speak to more epidimiologists\n",
    "    \"\"\"\n",
    "    design_rankings = {\n",
    "        'meta': 10,\n",
    "        'random': 8,\n",
    "        'pseudo': 6,\n",
    "    }\n",
    "    current_ranking = -1\n",
    "    for key in design_rankings.keys():\n",
    "        if key in design_keyword.lower():\n",
    "            current_ranking = min(current_ranking, design_rankings[key])\n",
    "    \n",
    "    if current_ranking == -1:\n",
    "        current_ranking = 4\n",
    "    return current_ranking    \n",
    "\n",
    "def flatten(arr):\n",
    "    \"\"\"\n",
    "    Returns a single flat list from a list of lists\n",
    "    \"\"\"\n",
    "    return [item \n",
    "            for sublist in arr \n",
    "            for item in sublist]"
   ]
  },
  {
   "cell_type": "code",
   "execution_count": 19,
   "metadata": {},
   "outputs": [],
   "source": [
    "class PaperAnalyzer():    \n",
    "    \"\"\"\n",
    "    Takes in a dataframe of papers and sets it up for analysis\n",
    "    \"\"\"\n",
    "    # Setting up static constants\n",
    "    DEFAULT_RISKS = risk_factors\n",
    "    DEFAULT_DESIGNS = design_list\n",
    "    DEFAULT_OUTCOMES = outcome_list\n",
    "    DEFAULT_FATAL = fatality_list\n",
    "    DEFAULT_WEIGHTS = evaluation_weights\n",
    "    \n",
    "    def __init__(self, parent_df, weights = None):\n",
    "        \"\"\"\n",
    "        Explodes the passed dataframe on sections for more granular analysis\n",
    "        Sets up ranks to be updated later by methods. Client can supply their\n",
    "        own dictionary of weights for different features.\n",
    "        \"\"\"\n",
    "        # Section ratings\n",
    "        self.section_ratings = {\n",
    "                        'discus': 10,\n",
    "                        'concl': 10,\n",
    "                        'resul': 10,\n",
    "                        'analy': 9,\n",
    "                        'impli': 9,\n",
    "                        'valu': 9,\n",
    "                        'intro': 6\n",
    "                        }\n",
    "        # Extracting full text from array of dicts in \"text_body\"\n",
    "        parent_df['full_text'] = parent_df['text_body'].apply(lambda x: \n",
    "                                                              '\\n'.join([sec['text'] for sec in x]))\n",
    "        \n",
    "        # Exploding \"text_body\" into individual dicts, each representing a section\n",
    "        self.df = parent_df.explode('text_body')\n",
    "        # Extracting section headers\n",
    "        self.df['section'] = self.df['text_body'].apply(lambda x: \n",
    "                                                        x['section'] \n",
    "                                                        if type(x) == dict \n",
    "                                                        else None)\n",
    "        # Extracting section text\n",
    "        self.df['text_body'] = self.df['text_body'].apply(lambda x:\n",
    "                                                          x['text'] \n",
    "                                                          if type(x) == dict \n",
    "                                                          else None)\n",
    "        # Dropping rows where section text is empty\n",
    "        self.df = self.df[self.df['text_body'].notna()]\n",
    "        # Initializing total rank\n",
    "        self.df['total_rank'] = 0\n",
    "        # If manual weights have been provided, then updating weights\n",
    "        if weights:\n",
    "            self.weights = weights\n",
    "        else:\n",
    "            self.weights = PaperAnalyzer.DEFAULT_WEIGHTS\n",
    "        # TQDM is used for progress bars\n",
    "        tqdm.pandas()\n",
    "\n",
    "    def analyze_risks(self, risk_factors):\n",
    "        \"\"\"\n",
    "        Analyses papers in self.df for risk factors and returns a report df\n",
    "        with columns has_{risk_factor}?, {risk_factor}_count, \n",
    "        {risk_factor}_in_title and updates {total_rank} for each row.\n",
    "        The match_indices column is produced for ease of visualization\n",
    "        in the web app.\n",
    "        \"\"\"\n",
    "        # Fallback to default risks if risk factors haven't been provided\n",
    "        if risk_factors == None:\n",
    "            risk_factors = PaperAnalyzer.DEFAULT_RISKS\n",
    "        \n",
    "        # This clause accomodates for both risk factor strings and \n",
    "        # risk factor dicts with names and regex patterns\n",
    "        if type(risk_factors[0]) == dict:\n",
    "            patterns = [risk['pattern'] for risk in risk_factors]\n",
    "        elif type(risk_factors[0]) == str:\n",
    "            patterns = [risk for risk in risk_factors]\n",
    "        \n",
    "        # Dropping excerpts that do not contain info about risk factors\n",
    "        self.df = self.df[self.df['text_body'].apply(lambda x:\n",
    "                                                    any(re.compile(pattern, re.IGNORECASE).findall(x)\n",
    "                                                       for pattern in patterns)\n",
    "                                                    )]\n",
    "        \n",
    "        # These columns will have the risk factors and \n",
    "        # their locations in text for the web app\n",
    "        self.df['risk_factors'] = [[]] * len(self.df)\n",
    "        self.df['match_indices'] = [[]] * len(self.df)\n",
    "        \n",
    "        \n",
    "        for i in tqdm(range(len(risk_factors))):\n",
    "            factor = risk_factors[i]\n",
    "            # Accomodating for variation in risk factor input\n",
    "            if type(factor) == dict:\n",
    "                name = factor['name']\n",
    "                pattern = re.compile(factor['pattern'], re.IGNORECASE)\n",
    "            elif type(factor) == str:\n",
    "                name = factor\n",
    "                pattern = re.compile(factor, re.IGNORECASE)\n",
    "    \n",
    "            # Temporary column that stores match data\n",
    "            # (matched string and start index) for risk factors\n",
    "            self.df['_matches'] = self.df['text_body'].apply(lambda x: \n",
    "                                                                      [(m.start(), m.group()) \n",
    "                                                                       for m in pattern.finditer(x)])\n",
    "            # Count the number of occurances for risk factor\n",
    "            self.df[name + '_count'] = self.df['_matches'].apply(lambda x: len(x))\n",
    "            # Boolean to indicate if excerpt has the risk factor\n",
    "            self.df['has_' + name + '?'] = self.df[name + '_count'].apply(lambda x: x > 0)\n",
    "            # Boolean to indicate if paper title has the risk factor\n",
    "            self.df[name + '_in_title'] = self.df['title'].apply(lambda x:\n",
    "                                                                         len(pattern.findall(x)) > 0)\n",
    "            \n",
    "            # Update total rank\n",
    "            self.df['total_rank'] += self.weights['risk'] * self.df[name + '_count']\n",
    "            \n",
    "            # Append risk factors list\n",
    "            self.df['risk_factors'] = self.df.apply(lambda x: \n",
    "                                    x['risk_factors'] + [name] if x['has_' + name + '?']\n",
    "                                    else x['risk_factors'],\n",
    "                                   axis=1)\n",
    "            # Append start indices for matches\n",
    "            self.df['match_indices'] = self.df.apply(lambda x: \n",
    "                                    x['match_indices'] + [n[0] for n in x['_matches']] if x['has_' + name + '?']\n",
    "                                    else x['match_indices'],\n",
    "                                   axis=1)\n",
    "            # Drop temporary column\n",
    "            self.df.drop('_matches', axis=1, inplace=True)\n",
    "            \n",
    "\n",
    "    def analyze_designs(self, design_list):\n",
    "        \"\"\"\n",
    "        Analyses papers in self.df for study designs and returns a report df \n",
    "        with 'design' and 'design_rank'. 'design_rank' is decided upon from the \n",
    "        input in crowdsourced medical dictionary.\n",
    "        \"\"\"\n",
    "        # Fallback to default design_list if none provided\n",
    "        if design_list == None:\n",
    "            design_list = PaperAnalyzer.DEFAULT_DESIGNS\n",
    "        \n",
    "        # Extract design keywords in excerpt\n",
    "        self.df['design'] = self.df['text_body'].progress_apply(lambda x:\n",
    "                                                                      flatten([re.findall(des, x, re.IGNORECASE) \n",
    "                                                                       for des in design_list\n",
    "                                                                       if re.findall(des, x, re.IGNORECASE)\n",
    "                                                                      ]))\n",
    "        # Convert # of keywords into a ranking\n",
    "        self.df['design_rank'] = self.df['design'].apply(lambda x:\n",
    "                                                                len(x))\n",
    "        # Rate each study design for its quality\n",
    "        self.df['design_rank'] += self.df['design'].apply(lambda x: rank_design(' '.join(x)))\n",
    "        # Update total rank\n",
    "        self.df['total_rank'] += self.weights['design'] * self.df['design_rank']\n",
    "\n",
    "    def analyze_outcomes(self, outcomes):\n",
    "        \"\"\"\n",
    "        Analyses papers in self.df for outcomes and returns a report df \n",
    "        with 'outcomes' and 'outcome_rank'. 'outcome_rank' is decided upon \n",
    "        by the frequency of mentions of outcomes in the excerpt\n",
    "        \"\"\"\n",
    "        # Fallback to default outcomes if none provided\n",
    "        if outcomes == None:\n",
    "            outcomes = PaperAnalyzer.DEFAULT_OUTCOMES\n",
    "        # Extract outcome keywords in excerpts\n",
    "        self.df['outcomes'] = self.df['text_body'].progress_apply(lambda x:\n",
    "                                                                        flatten([re.findall(outc, x, re.IGNORECASE)\n",
    "                                                                         for outc in outcomes\n",
    "                                                                         if re.findall(outc, x, re.IGNORECASE)\n",
    "                                                                        ]))\n",
    "        # Convert # of keyword matches into ranking\n",
    "        self.df['outcome_rank'] = self.df['outcomes'].apply(lambda x: len(x))\n",
    "        # Update total rank\n",
    "        self.df['total_rank'] += self.weights['outcome']* self.df['outcome_rank']\n",
    "        \n",
    "    def analyze_fatality(self, fatality_list):\n",
    "        \"\"\"\n",
    "        Analyses papers in self.df for information on fatality \n",
    "        returns a report df with 'fatality_rank'. \n",
    "        'fatality_rank' is decided upon by the frequency of \n",
    "        mentions of fatality in the excerpt\n",
    "        \"\"\"\n",
    "        # Fallback to default outcomes if none provided\n",
    "        if fatality_list == None:\n",
    "            fatality_list = PaperAnalyzer.DEFAULT_FATAL\n",
    "        # Extract fatality keywords in excerpts\n",
    "        self.df['fatality_count'] = self.df['text_body'].progress_apply(lambda x:\n",
    "                                                                        len([re.findall(key, x, re.IGNORECASE)\n",
    "                                                                         for key in fatality_list]))\n",
    "        # Indicate whether an excerpt has info on fatality\n",
    "        self.df['fatal_info?'] = self.df['fatality_count'].apply(lambda x: x > 0)\n",
    "        # Update total ranking\n",
    "        self.df['total_rank'] += self.weights['fatality']* self.df['fatality_count']\n",
    "\n",
    "    def perform_analysis(self, risk_factors, design_list=None, outcomes=None, fatality_list = None):\n",
    "        \"\"\"\n",
    "        This function is a wrapper function that provides interface\n",
    "        to conduct analysis on all of risk factors, study designs and\n",
    "        outcomes. Users may specify their own design_list or outcomes. If not,\n",
    "        the default is used.\n",
    "        \"\"\"\n",
    "        print(\"Analyzing risks\")\n",
    "        self.analyze_risks(risk_factors)\n",
    "        print(\"Analyzing study designs\")\n",
    "        self.analyze_designs(design_list)\n",
    "        print(\"Analyzing outcomes\")\n",
    "        self.analyze_outcomes(outcomes)\n",
    "        print(\"Analyzing fatality\")\n",
    "        self.analyze_fatality(fatality_list)\n",
    "        print(\"Generating final rankings\")\n",
    "        self.generate_risk_rankings()\n",
    "\n",
    "        \n",
    "    def generate_risk_rankings(self):\n",
    "        \"\"\"\n",
    "        Appends columns in self.df that contain individual rankings for \n",
    "        each risk factor\n",
    "        \"\"\"\n",
    "        # Rank each excerpt based on what section it belongs to\n",
    "        self.df['section_rank'] = self.df['section'].apply(lambda x: self.section_ratings[x] \n",
    "                                                           if x in self.section_ratings else 5)\n",
    "        # Obtaining list of risk factors\n",
    "        risk_factors = [column for column in self.df.columns if 'has_' in column]\n",
    "        # Trim risk factors(has_smoking? to smoking)\n",
    "        risk_factors = [factor[4:-1] for factor in risk_factors]\n",
    "        \n",
    "        for i in tqdm(range(len(risk_factors))):\n",
    "            factor = risk_factors[i]\n",
    "            self.df[factor + '_rank'] = ( # The next few lines will aggregate rankings\n",
    "                            self.weights['risk']*self.df[factor + '_count'] + # No. of risk matches\n",
    "                            self.weights['section']*self.df['section_rank'] + # Section quality\n",
    "                            self.weights['design']*self.df['design_rank'] + # Study design quality\n",
    "                            self.weights['outcome']*self.df['outcome_rank'] + # No. of outcome matches\n",
    "                            self.weights['fatality']* self.df['fatality_count'] # No. of fatality matches\n",
    "            )\n",
    "            # Increase rank if paper contains the factor in title\n",
    "            self.df[factor + '_rank'] = self.df.apply(lambda x: x[factor + '_rank'] + 60\n",
    "                                                         if x[factor + '_in_title']\n",
    "                                                      else x[factor + '_rank'],\n",
    "                                                      axis=1\n",
    "                                                     )\n",
    "            # Normalizing risk rank for length of excerpts\n",
    "            self.df[factor + '_rank'] = self.df.apply(lambda x: x[factor + '_rank'] + \n",
    "                                                        (self.weights['inverse_length']/\n",
    "                                                         (len(word_tokenize(x['text_body'])))), \n",
    "                                              axis=1)\n",
    "        \n",
    "        # This will be used to sort papers when no filters applied\n",
    "        self.df['max_rank'] = self.df[[factor + '_rank' for factor in risk_factors]].max(axis=1)\n",
    "        self.df['total_rank'] += self.weights['section'] * self.df['section_rank']\n",
    "        \n",
    "        # Normalizing total rank for length of excerpts\n",
    "        self.df['total_rank'] = self.df.apply(lambda x: x['total_rank'] + \n",
    "                                                        (self.weights['inverse_length']/\n",
    "                                                         (len(word_tokenize(x['text_body'])))), \n",
    "                                              axis=1)\n",
    "    \n",
    "    def get_df(self, risk_factor=None):\n",
    "        \"\"\"\n",
    "        Applies section ratings, updates total ratings and returns reporting df\n",
    "            risk_factor: if specified, the returned df will only have excerpts\n",
    "                            that mention this risk factor\n",
    "        \"\"\"\n",
    "        if risk_factor:\n",
    "            if not self.__ANALYZED_RISKS:\n",
    "                raise ValueError(self.__ERROR_MESSAGE)\n",
    "            return self.df[self.df['has_' + risk_factor + '?'] == True]\n",
    "        return self.df"
   ]
  },
  {
   "cell_type": "markdown",
   "metadata": {},
   "source": [
    "#### We will now look into the results of the risk factor extraction"
   ]
  },
  {
   "cell_type": "code",
   "execution_count": 20,
   "metadata": {},
   "outputs": [
    {
     "name": "stderr",
     "output_type": "stream",
     "text": [
      "/opt/anaconda3/lib/python3.7/site-packages/tqdm/std.py:658: FutureWarning: The Panel class is removed from pandas. Accessing it from the top-level namespace will also be removed in the next version\n",
      "  from pandas import Panel\n"
     ]
    }
   ],
   "source": [
    "covid_analysis = PaperAnalyzer(covid_df)"
   ]
  },
  {
   "cell_type": "code",
   "execution_count": 21,
   "metadata": {},
   "outputs": [
    {
     "data": {
      "application/vnd.jupyter.widget-view+json": {
       "model_id": "a9b419a1a4694ec991ad8b3e2b7d76ed",
       "version_major": 2,
       "version_minor": 0
      },
      "text/plain": [
       "HBox(children=(FloatProgress(value=0.0, max=11.0), HTML(value='')))"
      ]
     },
     "metadata": {},
     "output_type": "display_data"
    },
    {
     "name": "stdout",
     "output_type": "stream",
     "text": [
      "\n"
     ]
    },
    {
     "data": {
      "application/vnd.jupyter.widget-view+json": {
       "model_id": "9fa14a5c85db46ec8898838fa2f18ecf",
       "version_major": 2,
       "version_minor": 0
      },
      "text/plain": [
       "HBox(children=(FloatProgress(value=0.0, max=650.0), HTML(value='')))"
      ]
     },
     "metadata": {},
     "output_type": "display_data"
    },
    {
     "name": "stdout",
     "output_type": "stream",
     "text": [
      "\n"
     ]
    },
    {
     "data": {
      "application/vnd.jupyter.widget-view+json": {
       "model_id": "83b696b8d6a84701a0e5d04a2d555108",
       "version_major": 2,
       "version_minor": 0
      },
      "text/plain": [
       "HBox(children=(FloatProgress(value=0.0, max=650.0), HTML(value='')))"
      ]
     },
     "metadata": {},
     "output_type": "display_data"
    },
    {
     "name": "stdout",
     "output_type": "stream",
     "text": [
      "\n"
     ]
    },
    {
     "data": {
      "application/vnd.jupyter.widget-view+json": {
       "model_id": "7fa1ee2052684369b30170252698812f",
       "version_major": 2,
       "version_minor": 0
      },
      "text/plain": [
       "HBox(children=(FloatProgress(value=0.0, max=650.0), HTML(value='')))"
      ]
     },
     "metadata": {},
     "output_type": "display_data"
    },
    {
     "name": "stdout",
     "output_type": "stream",
     "text": [
      "\n"
     ]
    },
    {
     "data": {
      "application/vnd.jupyter.widget-view+json": {
       "model_id": "623235de199947949121c250016f5d3c",
       "version_major": 2,
       "version_minor": 0
      },
      "text/plain": [
       "HBox(children=(FloatProgress(value=0.0, max=11.0), HTML(value='')))"
      ]
     },
     "metadata": {},
     "output_type": "display_data"
    },
    {
     "name": "stdout",
     "output_type": "stream",
     "text": [
      "\n"
     ]
    }
   ],
   "source": [
    "covid_analysis.analyze_risks(risk_factors)\n",
    "covid_analysis.analyze_designs(design_list)\n",
    "covid_analysis.analyze_outcomes(outcome_list)\n",
    "covid_analysis.analyze_fatality(fatality_list)\n",
    "covid_analysis.generate_risk_rankings()"
   ]
  },
  {
   "cell_type": "code",
   "execution_count": 22,
   "metadata": {},
   "outputs": [
    {
     "data": {
      "text/plain": [
       "(650, 66)"
      ]
     },
     "execution_count": 22,
     "metadata": {},
     "output_type": "execute_result"
    }
   ],
   "source": [
    "risk_df = covid_analysis.get_df()\n",
    "risk_df.shape"
   ]
  },
  {
   "cell_type": "markdown",
   "metadata": {},
   "source": [
    "Let's look at the best excerpt identified for diabetes"
   ]
  },
  {
   "cell_type": "code",
   "execution_count": 24,
   "metadata": {},
   "outputs": [
    {
     "name": "stdout",
     "output_type": "stream",
     "text": [
      "In this retrospective cohort study, we characterized 258 COVID-19 patients with respect to demographics, clinical features, preexisting chronic comorbidities, treatment, and short-term prognosis. We found that COVID-19 patients had a relatively high proportion (24%) of diabetes, and demonstrated that diabetes was associated with alterations in laboratory markers, severer clinical subtype at . CC-BY-NC-ND 4.0 International license It is made available under a author/funder, who has granted medRxiv a license to display the preprint in perpetuity.\n",
      "is the (which was not peer-reviewed) The copyright holder for this preprint .\n",
      "presentation, and poorer prognosis compared to those without diabetes, after SARS-CoV-2 infection.\n",
      "To the best of our knowledge, the study was the first to investigate the clinical characteristics and prognosis of COVID-19 patients with diabetes. The prevalence of diabetes mellitus is sharply climbing in China during the past decades. According to the latest nationally representative cross-sectional survey in mainland China in 2013, the estimated prevalence of diabetes in elderly participants (≥60 years old) was 20.2%\n",
      "[4]. Previous studies reported 9% to 14% prevalence of diabetes in COVID-19\n",
      "patients [1, 8, 13, 15 ]. Here, we reported a higher prevalence rate of diabetes in these patients, which might be due to the larger proportion of geriatric patients infected by SARS-CoV-2 in our study. The median age of all the participants was 64 years old, which was older than the data previously reported [1, 7, 8 ]. In the current study, 53.5% of the patients were male, and the percentage is similar to that reported by Wang et al The laboratory findings on admission showed that leucocytes and neutrophils counts and the proportion of increased leucocytes were higher in COVID-19 patients with diabetes than those without, which might be explained by the fact that diabetic patients were more susceptible to pathogens after viral infection due to lower immune function. During hospitalization, the diabetic patients were more likely to receive . CC-BY-NC-ND 4.0 International license It is made available under a author/funder, who has granted medRxiv a license to display the preprint in perpetuity.\n",
      "is the (which was not peer-reviewed) The copyright holder for this preprint .\n",
      "antibiotic therapy as well. Decreased lymphocytes counts and eosinophil counts were also common in these patients; this was consistent with the results of previous studies [15] . However, no significant differences were found in the cell counts and percentage lymphocytes and eosinophil counts between COVID-19 patients with or without diabetes. The data revealed that diabetic COVID-19 patients had a higher NLR, which was recently reported as a predictor of severity of COVID-19 in the early stage [16].\n",
      "We found that COVID-19 patients with diabetes were more likely to develop severely or critically ill subtypes, including more complications with ARDS, acute cardiac injury, resulting in receiving more antibiotic therapy and mechanical ventilation. Cox regression model indicated that both diabetes and FBG level on admission were independent predictor for the fatality of COVID, after adjusting for potential confounders. Based on these findings, we deliberately concluded that diabetes was associated with deteriorated disease severity and poorer prognosis in patients with\n"
     ]
    }
   ],
   "source": [
    "diabetes_df = risk_df.sort_values(by='diabetes_rank', ascending=False).reset_index(drop=True)\n",
    "#temp['design']\n",
    "print(diabetes_df.loc[:,['title','text_body','diabetes_rank']].iloc[0]['text_body'])"
   ]
  },
  {
   "cell_type": "markdown",
   "metadata": {},
   "source": [
    "5 Best Ranked Excerpts for Smoking"
   ]
  },
  {
   "cell_type": "code",
   "execution_count": 26,
   "metadata": {},
   "outputs": [
    {
     "data": {
      "text/html": [
       "<div>\n",
       "<style scoped>\n",
       "    .dataframe tbody tr th:only-of-type {\n",
       "        vertical-align: middle;\n",
       "    }\n",
       "\n",
       "    .dataframe tbody tr th {\n",
       "        vertical-align: top;\n",
       "    }\n",
       "\n",
       "    .dataframe thead th {\n",
       "        text-align: right;\n",
       "    }\n",
       "</style>\n",
       "<table border=\"1\" class=\"dataframe\">\n",
       "  <thead>\n",
       "    <tr style=\"text-align: right;\">\n",
       "      <th></th>\n",
       "      <th>title</th>\n",
       "      <th>doi</th>\n",
       "      <th>publish_time</th>\n",
       "      <th>design</th>\n",
       "      <th>excerpt</th>\n",
       "    </tr>\n",
       "  </thead>\n",
       "  <tbody>\n",
       "    <tr>\n",
       "      <th>0</th>\n",
       "      <td>Bulk and single-cell transcriptomics identify ...</td>\n",
       "      <td>10.1101/2020.02.05.20020107</td>\n",
       "      <td>2020-02-11</td>\n",
       "      <td>[statist, statist, analysi, analysi, analysi, ...</td>\n",
       "      <td>We found a significant higher ACE2 gene expres...</td>\n",
       "    </tr>\n",
       "    <tr>\n",
       "      <th>1</th>\n",
       "      <td>Prevalence, Severity and Mortality associated ...</td>\n",
       "      <td>10.1101/2020.03.25.20043745</td>\n",
       "      <td>2020-03-27</td>\n",
       "      <td>[model, analysi, investig, systematic review ,...</td>\n",
       "      <td>unknown, and undoubtedly more research is need...</td>\n",
       "    </tr>\n",
       "    <tr>\n",
       "      <th>2</th>\n",
       "      <td>Bulk and single-cell transcriptomics identify ...</td>\n",
       "      <td>10.1101/2020.02.05.20020107</td>\n",
       "      <td>2020-02-11</td>\n",
       "      <td>[model, model, model, analysi, analysi]</td>\n",
       "      <td>Duclos G et.al. studied human bronchial epithe...</td>\n",
       "    </tr>\n",
       "    <tr>\n",
       "      <th>3</th>\n",
       "      <td>Prevalence, Severity and Mortality associated ...</td>\n",
       "      <td>10.1101/2020.03.25.20043745</td>\n",
       "      <td>2020-03-27</td>\n",
       "      <td>[]</td>\n",
       "      <td>The pooled prevalence of COVID-19 patients who...</td>\n",
       "    </tr>\n",
       "    <tr>\n",
       "      <th>4</th>\n",
       "      <td>Prevalence, Severity and Mortality associated ...</td>\n",
       "      <td>10.1101/2020.03.25.20043745</td>\n",
       "      <td>2020-03-27</td>\n",
       "      <td>[analysi, meta-analysis]</td>\n",
       "      <td>Smoking exposure including (current and ex-smo...</td>\n",
       "    </tr>\n",
       "  </tbody>\n",
       "</table>\n",
       "</div>"
      ],
      "text/plain": [
       "                                               title  \\\n",
       "0  Bulk and single-cell transcriptomics identify ...   \n",
       "1  Prevalence, Severity and Mortality associated ...   \n",
       "2  Bulk and single-cell transcriptomics identify ...   \n",
       "3  Prevalence, Severity and Mortality associated ...   \n",
       "4  Prevalence, Severity and Mortality associated ...   \n",
       "\n",
       "                           doi publish_time  \\\n",
       "0  10.1101/2020.02.05.20020107   2020-02-11   \n",
       "1  10.1101/2020.03.25.20043745   2020-03-27   \n",
       "2  10.1101/2020.02.05.20020107   2020-02-11   \n",
       "3  10.1101/2020.03.25.20043745   2020-03-27   \n",
       "4  10.1101/2020.03.25.20043745   2020-03-27   \n",
       "\n",
       "                                              design  \\\n",
       "0  [statist, statist, analysi, analysi, analysi, ...   \n",
       "1  [model, analysi, investig, systematic review ,...   \n",
       "2            [model, model, model, analysi, analysi]   \n",
       "3                                                 []   \n",
       "4                           [analysi, meta-analysis]   \n",
       "\n",
       "                                             excerpt  \n",
       "0  We found a significant higher ACE2 gene expres...  \n",
       "1  unknown, and undoubtedly more research is need...  \n",
       "2  Duclos G et.al. studied human bronchial epithe...  \n",
       "3  The pooled prevalence of COVID-19 patients who...  \n",
       "4  Smoking exposure including (current and ex-smo...  "
      ]
     },
     "execution_count": 26,
     "metadata": {},
     "output_type": "execute_result"
    }
   ],
   "source": [
    "# There are some papers that appear more than once. This is because we rank excerpts within papers, and could simply mean that two different excerpts within the same paper were ranked high in relevance by our algorithm.\n",
    "\n",
    "smoking_df = risk_df.sort_values(by='smoking_rank', ascending=False)\\\n",
    "            .loc[:,['title','doi','publish_time','design','text_body']]\\\n",
    "            .reset_index(drop=True).rename(columns={'text_body':'excerpt'})\n",
    "smoking_df.head()"
   ]
  },
  {
   "cell_type": "code",
   "execution_count": 27,
   "metadata": {},
   "outputs": [
    {
     "data": {
      "text/html": [
       "<div>\n",
       "<style scoped>\n",
       "    .dataframe tbody tr th:only-of-type {\n",
       "        vertical-align: middle;\n",
       "    }\n",
       "\n",
       "    .dataframe tbody tr th {\n",
       "        vertical-align: top;\n",
       "    }\n",
       "\n",
       "    .dataframe thead th {\n",
       "        text-align: right;\n",
       "    }\n",
       "</style>\n",
       "<table border=\"1\" class=\"dataframe\">\n",
       "  <thead>\n",
       "    <tr style=\"text-align: right;\">\n",
       "      <th></th>\n",
       "      <th>title</th>\n",
       "      <th>doi</th>\n",
       "      <th>publish_time</th>\n",
       "      <th>design</th>\n",
       "      <th>excerpt</th>\n",
       "    </tr>\n",
       "  </thead>\n",
       "  <tbody>\n",
       "    <tr>\n",
       "      <th>0</th>\n",
       "      <td>Bulk and single-cell transcriptomics identify ...</td>\n",
       "      <td>10.1101/2020.02.05.20020107</td>\n",
       "      <td>2020-02-11</td>\n",
       "      <td>[statist, statist, analysi, analysi, analysi, ...</td>\n",
       "      <td>We found a significant higher ACE2 gene expres...</td>\n",
       "    </tr>\n",
       "    <tr>\n",
       "      <th>1</th>\n",
       "      <td>Prevalence, Severity and Mortality associated ...</td>\n",
       "      <td>10.1101/2020.03.25.20043745</td>\n",
       "      <td>2020-03-27</td>\n",
       "      <td>[model, analysi, investig, systematic review ,...</td>\n",
       "      <td>unknown, and undoubtedly more research is need...</td>\n",
       "    </tr>\n",
       "    <tr>\n",
       "      <th>2</th>\n",
       "      <td>): e35 REVIEW ARTICLE A. Prevalence of Underly...</td>\n",
       "      <td>NaN</td>\n",
       "      <td>2020-03-24</td>\n",
       "      <td>[contact, contact, contact, contact, model, ou...</td>\n",
       "      <td>China and the rest of the world have faced an ...</td>\n",
       "    </tr>\n",
       "    <tr>\n",
       "      <th>3</th>\n",
       "      <td>Articles Clinical and epidemiological features...</td>\n",
       "      <td>10.1016/s1473-3099(20)30198-5</td>\n",
       "      <td>2020-03-25</td>\n",
       "      <td>[]</td>\n",
       "      <td>Pulmonary ground-glass opacities 6 (60%) 13 (5...</td>\n",
       "    </tr>\n",
       "    <tr>\n",
       "      <th>4</th>\n",
       "      <td>The COVID-19 pandemic and the use of MS diseas...</td>\n",
       "      <td>10.1016/j.msard.2020.102073</td>\n",
       "      <td>2020-03-27</td>\n",
       "      <td>[profil, profil, contact, contact, analysi]</td>\n",
       "      <td>It is clear that COVID-19 is a pandemic and gl...</td>\n",
       "    </tr>\n",
       "  </tbody>\n",
       "</table>\n",
       "</div>"
      ],
      "text/plain": [
       "                                               title  \\\n",
       "0  Bulk and single-cell transcriptomics identify ...   \n",
       "1  Prevalence, Severity and Mortality associated ...   \n",
       "2  ): e35 REVIEW ARTICLE A. Prevalence of Underly...   \n",
       "3  Articles Clinical and epidemiological features...   \n",
       "4  The COVID-19 pandemic and the use of MS diseas...   \n",
       "\n",
       "                             doi publish_time  \\\n",
       "0    10.1101/2020.02.05.20020107   2020-02-11   \n",
       "1    10.1101/2020.03.25.20043745   2020-03-27   \n",
       "2                            NaN   2020-03-24   \n",
       "3  10.1016/s1473-3099(20)30198-5   2020-03-25   \n",
       "4    10.1016/j.msard.2020.102073   2020-03-27   \n",
       "\n",
       "                                              design  \\\n",
       "0  [statist, statist, analysi, analysi, analysi, ...   \n",
       "1  [model, analysi, investig, systematic review ,...   \n",
       "2  [contact, contact, contact, contact, model, ou...   \n",
       "3                                                 []   \n",
       "4        [profil, profil, contact, contact, analysi]   \n",
       "\n",
       "                                             excerpt  \n",
       "0  We found a significant higher ACE2 gene expres...  \n",
       "1  unknown, and undoubtedly more research is need...  \n",
       "2  China and the rest of the world have faced an ...  \n",
       "3  Pulmonary ground-glass opacities 6 (60%) 13 (5...  \n",
       "4  It is clear that COVID-19 is a pandemic and gl...  "
      ]
     },
     "execution_count": 27,
     "metadata": {},
     "output_type": "execute_result"
    }
   ],
   "source": [
    "# Here is a title-deduplicated version of the previous dataframe\n",
    "# Each paper will only appear once with its highest rated excerpt\n",
    "smoking_df.drop_duplicates('title', keep='first').reset_index(drop=True).head()"
   ]
  },
  {
   "cell_type": "markdown",
   "metadata": {},
   "source": [
    "5 Best Ranked Excerpts for Diabetes"
   ]
  },
  {
   "cell_type": "code",
   "execution_count": 28,
   "metadata": {},
   "outputs": [
    {
     "data": {
      "text/html": [
       "<div>\n",
       "<style scoped>\n",
       "    .dataframe tbody tr th:only-of-type {\n",
       "        vertical-align: middle;\n",
       "    }\n",
       "\n",
       "    .dataframe tbody tr th {\n",
       "        vertical-align: top;\n",
       "    }\n",
       "\n",
       "    .dataframe thead th {\n",
       "        text-align: right;\n",
       "    }\n",
       "</style>\n",
       "<table border=\"1\" class=\"dataframe\">\n",
       "  <thead>\n",
       "    <tr style=\"text-align: right;\">\n",
       "      <th></th>\n",
       "      <th>title</th>\n",
       "      <th>doi</th>\n",
       "      <th>publish_time</th>\n",
       "      <th>design</th>\n",
       "      <th>excerpt</th>\n",
       "    </tr>\n",
       "  </thead>\n",
       "  <tbody>\n",
       "    <tr>\n",
       "      <th>0</th>\n",
       "      <td>Comorbid Diabetes Mellitus was Associated with...</td>\n",
       "      <td>10.1101/2020.03.24.20042358</td>\n",
       "      <td>2020-03-26</td>\n",
       "      <td>[model, investig, retrospective cohort]</td>\n",
       "      <td>In this retrospective cohort study, we charact...</td>\n",
       "    </tr>\n",
       "    <tr>\n",
       "      <th>1</th>\n",
       "      <td>Journal Pre-proof Telemedicine for Diabetes Ca...</td>\n",
       "      <td>10.1016/j.dsx.2020.04.001</td>\n",
       "      <td>2020-04-04</td>\n",
       "      <td>[analysi, randomized controlled]</td>\n",
       "      <td>Diabetes is a chronic disease, which requires ...</td>\n",
       "    </tr>\n",
       "    <tr>\n",
       "      <th>2</th>\n",
       "      <td>Exploring diseases/traits and blood proteins c...</td>\n",
       "      <td>10.1101/2020.03.04.20031237</td>\n",
       "      <td>2020-03-08</td>\n",
       "      <td>[statist, analysi, analysi, analysi, analysi, ...</td>\n",
       "      <td>Remarkably, a number of top-ranked results wer...</td>\n",
       "    </tr>\n",
       "    <tr>\n",
       "      <th>3</th>\n",
       "      <td>Articles Clinical and epidemiological features...</td>\n",
       "      <td>10.1016/s1473-3099(20)30198-5</td>\n",
       "      <td>2020-03-25</td>\n",
       "      <td>[]</td>\n",
       "      <td>Pulmonary ground-glass opacities 6 (60%) 13 (5...</td>\n",
       "    </tr>\n",
       "    <tr>\n",
       "      <th>4</th>\n",
       "      <td>Acute liver injury and its association with de...</td>\n",
       "      <td>10.1101/2020.04.02.20050997</td>\n",
       "      <td>2020-04-06</td>\n",
       "      <td>[logistic regression, analysi, investig]</td>\n",
       "      <td>The present study aimed to analyze SARS-CoV-2-...</td>\n",
       "    </tr>\n",
       "  </tbody>\n",
       "</table>\n",
       "</div>"
      ],
      "text/plain": [
       "                                               title  \\\n",
       "0  Comorbid Diabetes Mellitus was Associated with...   \n",
       "1  Journal Pre-proof Telemedicine for Diabetes Ca...   \n",
       "2  Exploring diseases/traits and blood proteins c...   \n",
       "3  Articles Clinical and epidemiological features...   \n",
       "4  Acute liver injury and its association with de...   \n",
       "\n",
       "                             doi publish_time  \\\n",
       "0    10.1101/2020.03.24.20042358   2020-03-26   \n",
       "1      10.1016/j.dsx.2020.04.001   2020-04-04   \n",
       "2    10.1101/2020.03.04.20031237   2020-03-08   \n",
       "3  10.1016/s1473-3099(20)30198-5   2020-03-25   \n",
       "4    10.1101/2020.04.02.20050997   2020-04-06   \n",
       "\n",
       "                                              design  \\\n",
       "0            [model, investig, retrospective cohort]   \n",
       "1                   [analysi, randomized controlled]   \n",
       "2  [statist, analysi, analysi, analysi, analysi, ...   \n",
       "3                                                 []   \n",
       "4           [logistic regression, analysi, investig]   \n",
       "\n",
       "                                             excerpt  \n",
       "0  In this retrospective cohort study, we charact...  \n",
       "1  Diabetes is a chronic disease, which requires ...  \n",
       "2  Remarkably, a number of top-ranked results wer...  \n",
       "3  Pulmonary ground-glass opacities 6 (60%) 13 (5...  \n",
       "4  The present study aimed to analyze SARS-CoV-2-...  "
      ]
     },
     "execution_count": 28,
     "metadata": {},
     "output_type": "execute_result"
    }
   ],
   "source": [
    "diabetes_df = risk_df.sort_values(by='diabetes_rank', ascending=False)\\\n",
    "                .loc[:,['title','doi','publish_time','design','text_body']]\\\n",
    "                .reset_index(drop=True).rename(columns={'text_body':'excerpt'})\n",
    "# Each paper will only appear once with its highest rated excerpt\n",
    "diabetes_df.drop_duplicates('title', keep='first').reset_index(drop=True).head()"
   ]
  },
  {
   "cell_type": "markdown",
   "metadata": {},
   "source": [
    "5 Best Ranked Excerpts for Pregnancy"
   ]
  },
  {
   "cell_type": "code",
   "execution_count": 31,
   "metadata": {},
   "outputs": [
    {
     "data": {
      "text/html": [
       "<div>\n",
       "<style scoped>\n",
       "    .dataframe tbody tr th:only-of-type {\n",
       "        vertical-align: middle;\n",
       "    }\n",
       "\n",
       "    .dataframe tbody tr th {\n",
       "        vertical-align: top;\n",
       "    }\n",
       "\n",
       "    .dataframe thead th {\n",
       "        text-align: right;\n",
       "    }\n",
       "</style>\n",
       "<table border=\"1\" class=\"dataframe\">\n",
       "  <thead>\n",
       "    <tr style=\"text-align: right;\">\n",
       "      <th></th>\n",
       "      <th>title</th>\n",
       "      <th>doi</th>\n",
       "      <th>publish_time</th>\n",
       "      <th>design</th>\n",
       "      <th>excerpt</th>\n",
       "    </tr>\n",
       "  </thead>\n",
       "  <tbody>\n",
       "    <tr>\n",
       "      <th>0</th>\n",
       "      <td>Comorbid Diabetes Mellitus was Associated with...</td>\n",
       "      <td>10.1101/2020.03.24.20042358</td>\n",
       "      <td>2020-03-26</td>\n",
       "      <td>[model, investig, retrospective cohort]</td>\n",
       "      <td>In this retrospective cohort study, we charact...</td>\n",
       "    </tr>\n",
       "    <tr>\n",
       "      <th>1</th>\n",
       "      <td>Journal Pre-proof Telemedicine for Diabetes Ca...</td>\n",
       "      <td>10.1016/j.dsx.2020.04.001</td>\n",
       "      <td>2020-04-04</td>\n",
       "      <td>[analysi, randomized controlled]</td>\n",
       "      <td>Diabetes is a chronic disease, which requires ...</td>\n",
       "    </tr>\n",
       "    <tr>\n",
       "      <th>2</th>\n",
       "      <td>Exploring diseases/traits and blood proteins c...</td>\n",
       "      <td>10.1101/2020.03.04.20031237</td>\n",
       "      <td>2020-03-08</td>\n",
       "      <td>[statist, analysi, analysi, analysi, analysi, ...</td>\n",
       "      <td>Remarkably, a number of top-ranked results wer...</td>\n",
       "    </tr>\n",
       "    <tr>\n",
       "      <th>3</th>\n",
       "      <td>Articles Clinical and epidemiological features...</td>\n",
       "      <td>10.1016/s1473-3099(20)30198-5</td>\n",
       "      <td>2020-03-25</td>\n",
       "      <td>[]</td>\n",
       "      <td>Pulmonary ground-glass opacities 6 (60%) 13 (5...</td>\n",
       "    </tr>\n",
       "    <tr>\n",
       "      <th>4</th>\n",
       "      <td>Acute liver injury and its association with de...</td>\n",
       "      <td>10.1101/2020.04.02.20050997</td>\n",
       "      <td>2020-04-06</td>\n",
       "      <td>[logistic regression, analysi, investig]</td>\n",
       "      <td>The present study aimed to analyze SARS-CoV-2-...</td>\n",
       "    </tr>\n",
       "  </tbody>\n",
       "</table>\n",
       "</div>"
      ],
      "text/plain": [
       "                                               title  \\\n",
       "0  Comorbid Diabetes Mellitus was Associated with...   \n",
       "1  Journal Pre-proof Telemedicine for Diabetes Ca...   \n",
       "2  Exploring diseases/traits and blood proteins c...   \n",
       "3  Articles Clinical and epidemiological features...   \n",
       "4  Acute liver injury and its association with de...   \n",
       "\n",
       "                             doi publish_time  \\\n",
       "0    10.1101/2020.03.24.20042358   2020-03-26   \n",
       "1      10.1016/j.dsx.2020.04.001   2020-04-04   \n",
       "2    10.1101/2020.03.04.20031237   2020-03-08   \n",
       "3  10.1016/s1473-3099(20)30198-5   2020-03-25   \n",
       "4    10.1101/2020.04.02.20050997   2020-04-06   \n",
       "\n",
       "                                              design  \\\n",
       "0            [model, investig, retrospective cohort]   \n",
       "1                   [analysi, randomized controlled]   \n",
       "2  [statist, analysi, analysi, analysi, analysi, ...   \n",
       "3                                                 []   \n",
       "4           [logistic regression, analysi, investig]   \n",
       "\n",
       "                                             excerpt  \n",
       "0  In this retrospective cohort study, we charact...  \n",
       "1  Diabetes is a chronic disease, which requires ...  \n",
       "2  Remarkably, a number of top-ranked results wer...  \n",
       "3  Pulmonary ground-glass opacities 6 (60%) 13 (5...  \n",
       "4  The present study aimed to analyze SARS-CoV-2-...  "
      ]
     },
     "execution_count": 31,
     "metadata": {},
     "output_type": "execute_result"
    }
   ],
   "source": [
    "pregnancy_df = risk_df.sort_values(by='pregnancy_rank', ascending=False)\\\n",
    "                .loc[:,['title','doi','publish_time','design','text_body']]\\\n",
    "                .reset_index(drop=True).rename(columns={'text_body':'excerpt'})\n",
    "# Each paper will only appear once with its highest rated excerpt\n",
    "diabetes_df.drop_duplicates('title', keep='first').reset_index(drop=True).head()"
   ]
  },
  {
   "cell_type": "markdown",
   "metadata": {},
   "source": [
    "5 Best Ranked Excerpts for Hypertension"
   ]
  },
  {
   "cell_type": "code",
   "execution_count": 32,
   "metadata": {},
   "outputs": [
    {
     "data": {
      "text/html": [
       "<div>\n",
       "<style scoped>\n",
       "    .dataframe tbody tr th:only-of-type {\n",
       "        vertical-align: middle;\n",
       "    }\n",
       "\n",
       "    .dataframe tbody tr th {\n",
       "        vertical-align: top;\n",
       "    }\n",
       "\n",
       "    .dataframe thead th {\n",
       "        text-align: right;\n",
       "    }\n",
       "</style>\n",
       "<table border=\"1\" class=\"dataframe\">\n",
       "  <thead>\n",
       "    <tr style=\"text-align: right;\">\n",
       "      <th></th>\n",
       "      <th>title</th>\n",
       "      <th>doi</th>\n",
       "      <th>publish_time</th>\n",
       "      <th>design</th>\n",
       "      <th>excerpt</th>\n",
       "    </tr>\n",
       "  </thead>\n",
       "  <tbody>\n",
       "    <tr>\n",
       "      <th>0</th>\n",
       "      <td>Angiotensin II Receptor Blockers and Angiotens...</td>\n",
       "      <td>10.1101/2020.03.31.20038935</td>\n",
       "      <td>2020-04-04</td>\n",
       "      <td>[]</td>\n",
       "      <td>After the initial screen, 462 COVID-2019 patie...</td>\n",
       "    </tr>\n",
       "    <tr>\n",
       "      <th>1</th>\n",
       "      <td>Articles Clinical and epidemiological features...</td>\n",
       "      <td>10.1016/s1473-3099(20)30198-5</td>\n",
       "      <td>2020-03-25</td>\n",
       "      <td>[]</td>\n",
       "      <td>Pulmonary ground-glass opacities 6 (60%) 13 (5...</td>\n",
       "    </tr>\n",
       "    <tr>\n",
       "      <th>2</th>\n",
       "      <td>The COVID-19 pandemic and the use of MS diseas...</td>\n",
       "      <td>10.1016/j.msard.2020.102073</td>\n",
       "      <td>2020-03-27</td>\n",
       "      <td>[profil, profil, contact, contact, analysi]</td>\n",
       "      <td>It is clear that COVID-19 is a pandemic and gl...</td>\n",
       "    </tr>\n",
       "    <tr>\n",
       "      <th>3</th>\n",
       "      <td>Acute liver injury and its association with de...</td>\n",
       "      <td>10.1101/2020.04.02.20050997</td>\n",
       "      <td>2020-04-06</td>\n",
       "      <td>[logistic regression, analysi, investig]</td>\n",
       "      <td>The present study aimed to analyze SARS-CoV-2-...</td>\n",
       "    </tr>\n",
       "    <tr>\n",
       "      <th>4</th>\n",
       "      <td>Comorbid Diabetes Mellitus was Associated with...</td>\n",
       "      <td>10.1101/2020.03.24.20042358</td>\n",
       "      <td>2020-03-26</td>\n",
       "      <td>[model]</td>\n",
       "      <td>To further assess the association of diabetes ...</td>\n",
       "    </tr>\n",
       "  </tbody>\n",
       "</table>\n",
       "</div>"
      ],
      "text/plain": [
       "                                               title  \\\n",
       "0  Angiotensin II Receptor Blockers and Angiotens...   \n",
       "1  Articles Clinical and epidemiological features...   \n",
       "2  The COVID-19 pandemic and the use of MS diseas...   \n",
       "3  Acute liver injury and its association with de...   \n",
       "4  Comorbid Diabetes Mellitus was Associated with...   \n",
       "\n",
       "                             doi publish_time  \\\n",
       "0    10.1101/2020.03.31.20038935   2020-04-04   \n",
       "1  10.1016/s1473-3099(20)30198-5   2020-03-25   \n",
       "2    10.1016/j.msard.2020.102073   2020-03-27   \n",
       "3    10.1101/2020.04.02.20050997   2020-04-06   \n",
       "4    10.1101/2020.03.24.20042358   2020-03-26   \n",
       "\n",
       "                                        design  \\\n",
       "0                                           []   \n",
       "1                                           []   \n",
       "2  [profil, profil, contact, contact, analysi]   \n",
       "3     [logistic regression, analysi, investig]   \n",
       "4                                      [model]   \n",
       "\n",
       "                                             excerpt  \n",
       "0  After the initial screen, 462 COVID-2019 patie...  \n",
       "1  Pulmonary ground-glass opacities 6 (60%) 13 (5...  \n",
       "2  It is clear that COVID-19 is a pandemic and gl...  \n",
       "3  The present study aimed to analyze SARS-CoV-2-...  \n",
       "4  To further assess the association of diabetes ...  "
      ]
     },
     "execution_count": 32,
     "metadata": {},
     "output_type": "execute_result"
    }
   ],
   "source": [
    "hypertension_df = risk_df.sort_values(by='hypertension_rank', ascending=False)\\\n",
    "                    .loc[:,['title','doi','publish_time','design','text_body']]\\\n",
    "                    .reset_index(drop=True).rename(columns={'text_body':'excerpt'})\n",
    "# Each paper will only appear once with its highest rated excerpt\n",
    "hypertension_df.drop_duplicates('title', keep='first').reset_index(drop=True).head()"
   ]
  },
  {
   "cell_type": "markdown",
   "metadata": {},
   "source": [
    "5 Best Ranked Excerpts for Tuberculosis"
   ]
  },
  {
   "cell_type": "code",
   "execution_count": 33,
   "metadata": {},
   "outputs": [
    {
     "data": {
      "text/html": [
       "<div>\n",
       "<style scoped>\n",
       "    .dataframe tbody tr th:only-of-type {\n",
       "        vertical-align: middle;\n",
       "    }\n",
       "\n",
       "    .dataframe tbody tr th {\n",
       "        vertical-align: top;\n",
       "    }\n",
       "\n",
       "    .dataframe thead th {\n",
       "        text-align: right;\n",
       "    }\n",
       "</style>\n",
       "<table border=\"1\" class=\"dataframe\">\n",
       "  <thead>\n",
       "    <tr style=\"text-align: right;\">\n",
       "      <th></th>\n",
       "      <th>title</th>\n",
       "      <th>doi</th>\n",
       "      <th>publish_time</th>\n",
       "      <th>design</th>\n",
       "      <th>excerpt</th>\n",
       "    </tr>\n",
       "  </thead>\n",
       "  <tbody>\n",
       "    <tr>\n",
       "      <th>0</th>\n",
       "      <td>Active or latent tuberculosis increases suscep...</td>\n",
       "      <td>10.1101/2020.03.10.20033795</td>\n",
       "      <td>2020-03-16</td>\n",
       "      <td>[]</td>\n",
       "      <td>The copyright holder for this preprint . https...</td>\n",
       "    </tr>\n",
       "    <tr>\n",
       "      <th>1</th>\n",
       "      <td>Articles Clinical and epidemiological features...</td>\n",
       "      <td>10.1016/s1473-3099(20)30198-5</td>\n",
       "      <td>2020-03-25</td>\n",
       "      <td>[]</td>\n",
       "      <td>Pulmonary ground-glass opacities 6 (60%) 13 (5...</td>\n",
       "    </tr>\n",
       "    <tr>\n",
       "      <th>2</th>\n",
       "      <td>Comorbid Diabetes Mellitus was Associated with...</td>\n",
       "      <td>10.1101/2020.03.24.20042358</td>\n",
       "      <td>2020-03-26</td>\n",
       "      <td>[model]</td>\n",
       "      <td>To further assess the association of diabetes ...</td>\n",
       "    </tr>\n",
       "    <tr>\n",
       "      <th>3</th>\n",
       "      <td>The COVID-19 pandemic and the use of MS diseas...</td>\n",
       "      <td>10.1016/j.msard.2020.102073</td>\n",
       "      <td>2020-03-27</td>\n",
       "      <td>[profil, profil, contact, contact, analysi]</td>\n",
       "      <td>It is clear that COVID-19 is a pandemic and gl...</td>\n",
       "    </tr>\n",
       "    <tr>\n",
       "      <th>4</th>\n",
       "      <td>viruses Perspective Potential Maternal and Inf...</td>\n",
       "      <td>10.3390/v12020194</td>\n",
       "      <td>2020</td>\n",
       "      <td>[outbreak]</td>\n",
       "      <td>At times of SARS outbreaks, all pregnant patie...</td>\n",
       "    </tr>\n",
       "  </tbody>\n",
       "</table>\n",
       "</div>"
      ],
      "text/plain": [
       "                                               title  \\\n",
       "0  Active or latent tuberculosis increases suscep...   \n",
       "1  Articles Clinical and epidemiological features...   \n",
       "2  Comorbid Diabetes Mellitus was Associated with...   \n",
       "3  The COVID-19 pandemic and the use of MS diseas...   \n",
       "4  viruses Perspective Potential Maternal and Inf...   \n",
       "\n",
       "                             doi publish_time  \\\n",
       "0    10.1101/2020.03.10.20033795   2020-03-16   \n",
       "1  10.1016/s1473-3099(20)30198-5   2020-03-25   \n",
       "2    10.1101/2020.03.24.20042358   2020-03-26   \n",
       "3    10.1016/j.msard.2020.102073   2020-03-27   \n",
       "4              10.3390/v12020194         2020   \n",
       "\n",
       "                                        design  \\\n",
       "0                                           []   \n",
       "1                                           []   \n",
       "2                                      [model]   \n",
       "3  [profil, profil, contact, contact, analysi]   \n",
       "4                                   [outbreak]   \n",
       "\n",
       "                                             excerpt  \n",
       "0  The copyright holder for this preprint . https...  \n",
       "1  Pulmonary ground-glass opacities 6 (60%) 13 (5...  \n",
       "2  To further assess the association of diabetes ...  \n",
       "3  It is clear that COVID-19 is a pandemic and gl...  \n",
       "4  At times of SARS outbreaks, all pregnant patie...  "
      ]
     },
     "execution_count": 33,
     "metadata": {},
     "output_type": "execute_result"
    }
   ],
   "source": [
    "tuberculosis_df = risk_df.sort_values(by='tuberculosis_rank', ascending=False)\\\n",
    "                .loc[:,['title','doi','publish_time','design','text_body']]\\\n",
    "                .reset_index(drop=True).rename(columns={'text_body':'excerpt'})\n",
    "# Each paper will only appear once with its highest rated excerpt\n",
    "tuberculosis_df.drop_duplicates('title', keep='first').reset_index(drop=True).head()"
   ]
  },
  {
   "cell_type": "code",
   "execution_count": 34,
   "metadata": {},
   "outputs": [],
   "source": [
    "#smoking_df.to_csv('smoking_risk_analysis.csv')\n",
    "#tuberculosis_df.to_csv('smoking_risk_analysis.csv')\n",
    "#hypertension_df.to_csv('smoking_risk_analysis.csv')\n",
    "#pregnancy_df.to_csv('smoking_risk_analysis.csv')\n",
    "#diabetes_df.to_csv('smoking_risk_analysis.csv')"
   ]
  },
  {
   "cell_type": "code",
   "execution_count": 36,
   "metadata": {},
   "outputs": [
    {
     "data": {
      "text/plain": [
       "(650, 66)"
      ]
     },
     "execution_count": 36,
     "metadata": {},
     "output_type": "execute_result"
    }
   ],
   "source": [
    "risk_df.to_json(\"../../risk_df.json\", orient='records')\n",
    "risk_df.to_csv(\"../../risk_df.csv\")\n",
    "risk_df.shape"
   ]
  },
  {
   "cell_type": "markdown",
   "metadata": {},
   "source": [
    "#### This marks the end of phase 1. The resulting dataframe will be stored as a json to be served by the web app."
   ]
  },
  {
   "cell_type": "markdown",
   "metadata": {},
   "source": [
    "<a id=\"phase2\"></a>\n",
    "## Question Search (Phase 2)\n",
    "We will extend the capabilities from the `PaperAnalyzer` class and attempt to answer some questions."
   ]
  },
  {
   "cell_type": "markdown",
   "metadata": {},
   "source": [
    "### The `Question` class will decompose and resolve a question about risk factors.\n",
    "The result will then be piped to an instance of `PaperAnalyzer` to conduct similar analysis. Users will be able to specify their own list of outcomes. If not specified, the default set of outcomes will be used."
   ]
  },
  {
   "cell_type": "code",
   "execution_count": 37,
   "metadata": {},
   "outputs": [],
   "source": [
    "class Question():\n",
    "    \"\"\"\n",
    "    The purpose of this class is to resolve a question for \n",
    "    keyword searching\n",
    "    \"\"\"\n",
    "    def __init__(self, question, design_list=None, outcomes=None):\n",
    "        \"\"\"\n",
    "        The constuctor does most of the method-calling for question resolution\n",
    "        \"\"\"\n",
    "        self.DESIGN_LIST = design_list\n",
    "        self.OUTCOMES = outcomes\n",
    "        self.RISK = question\n",
    "        self.risk_factors = None\n",
    "        self.design_list = None\n",
    "        self.outcome_list = None\n",
    "        self.__resolve_question()\n",
    "        if design_list:\n",
    "            self.__resolve_design()\n",
    "        if outcomes:\n",
    "            self.__resolve_outcomes()\n",
    "\n",
    "    def __question_tokenize(self, sent):\n",
    "        \"\"\"\n",
    "        Cleans the question string\n",
    "        \"\"\"\n",
    "        abbvr_pattern = re.compile('(e.g.|i.e.)')\n",
    "        sent = abbvr_pattern.sub('', sent)\n",
    "        remove_punct_dict = {key: \" \" for key in string.punctuation}\n",
    "        remove_punct_dict['.'] = ''\n",
    "        remove_punct = str.maketrans(remove_punct_dict)\n",
    "        sent = sent.translate(remove_punct)\n",
    "        return sent.replace('R', 'R0').replace('-', ' ')\n",
    "\n",
    "    def __resolve_question(self):\n",
    "        \"\"\"\n",
    "        stems and removes irreleavnt words from questions\n",
    "        to create keywords for keyword analysis\n",
    "        \"\"\"\n",
    "        subquestion = self.RISK\n",
    "        sub_q = self.__question_tokenize(subquestion)\n",
    "        keywords = set([\n",
    "            stemmer.stem(word) for word in word_tokenize(sub_q)\n",
    "            if word.lower() not in stop_words and 'cov' not in word.lower()\n",
    "            and word.lower().islower()  #This checks and removes numbers\n",
    "        ])\n",
    "        self.risk_factors = list(keywords)\n",
    "\n",
    "    def __resolve_design(self):\n",
    "        \"\"\"\n",
    "        Resolves study designs to allow for study-design evaluation\n",
    "        \"\"\"\n",
    "        design_keys = self.DESIGN_LIST.split(\",\")\n",
    "        self.design_list = list(set(design_keys))\n",
    "\n",
    "    def __resolve_outcomes(self):\n",
    "        \"\"\"\n",
    "        Resolves outcomes to allow for outcome evaluation\n",
    "        \"\"\"\n",
    "        outcome_keys = self.__question_tokenize(self.OUTCOMES)\n",
    "        outcome_keys = set([\n",
    "            stemmer.stem(word) for word in word_tokenize(outcome_keys)\n",
    "            if word.lower() not in stop_words\n",
    "            and word.lower().islower()  #This checks and removes numbers\n",
    "        ])\n",
    "        self.outcome_list = list(outcome_keys)\n",
    "\n",
    "    def get_keywords(self):\n",
    "        \"\"\"\n",
    "        Returns keywords from earlier methods\n",
    "        \"\"\"\n",
    "        result = {'risk': None, 'design': None, 'outcome': None}\n",
    "        result['risk'] = self.risk_factors\n",
    "        if self.design_list:\n",
    "            result['design'] = self.design_list\n",
    "        if self.outcome_list:\n",
    "            result['outcome'] = self.outcome_list\n",
    "        return result"
   ]
  },
  {
   "cell_type": "code",
   "execution_count": 38,
   "metadata": {},
   "outputs": [],
   "source": [
    "def analyze_question(df, question):\n",
    "    \"\"\"\n",
    "    Function to take in a Question instance and a \n",
    "    dataframe with covid-excerpts to perform \n",
    "    evaluation and rankings on information relevancy\n",
    "    \"\"\"\n",
    "    reference_df = PaperAnalyzer(df)\n",
    "    keys = question.get_keywords()\n",
    "    reference_df.perform_analysis(keys['risk'], keys['design'],\n",
    "                                  keys['outcome'])\n",
    "    return reference_df.get_df()"
   ]
  },
  {
   "cell_type": "markdown",
   "metadata": {},
   "source": [
    "We will be trying out the question answering pipeline now with a few questions from the aforementionned [medical dictionary](https://docs.google.com/spreadsheets/d/1t2e3CHGxHJBiFgHeW0dfwtvCG4x0CDCzcTFX7yz9Z2E/edit#gid=1217643351) that was available to Kaggle competitors."
   ]
  },
  {
   "cell_type": "code",
   "execution_count": 43,
   "metadata": {},
   "outputs": [],
   "source": [
    "def get_google_sheet(url, sheet_name):\n",
    "    response=requests.get(url=url)\n",
    "    sample_file = io.BytesIO(response.content)\n",
    "    df = pd.read_excel(sample_file, sheet_name = sheet_name)\n",
    "    return df\n",
    "\n",
    "dict_url = 'https://docs.google.com/spreadsheets/d/1t2e3CHGxHJBiFgHeW0dfwtvCG4x0CDCzcTFX7yz9Z2E/export?format=xlsx&id=1t2e3CHGxHJBiFgHeW0dfwtvCG4x0CDCzcTFX7yz9Z2E'\n",
    "questions_df = get_google_sheet(dict_url, 'sub.question.matching')"
   ]
  },
  {
   "cell_type": "code",
   "execution_count": 44,
   "metadata": {},
   "outputs": [
    {
     "data": {
      "text/html": [
       "<div>\n",
       "<style scoped>\n",
       "    .dataframe tbody tr th:only-of-type {\n",
       "        vertical-align: middle;\n",
       "    }\n",
       "\n",
       "    .dataframe tbody tr th {\n",
       "        vertical-align: top;\n",
       "    }\n",
       "\n",
       "    .dataframe thead th {\n",
       "        text-align: right;\n",
       "    }\n",
       "</style>\n",
       "<table border=\"1\" class=\"dataframe\">\n",
       "  <thead>\n",
       "    <tr style=\"text-align: right;\">\n",
       "      <th></th>\n",
       "      <th>Unnamed: 0</th>\n",
       "      <th>Question</th>\n",
       "      <th>Subquestion</th>\n",
       "      <th>Outcome.list</th>\n",
       "      <th>Differences.list</th>\n",
       "      <th>Design.list</th>\n",
       "      <th>Notes</th>\n",
       "    </tr>\n",
       "  </thead>\n",
       "  <tbody>\n",
       "    <tr>\n",
       "      <th>0</th>\n",
       "      <td>What is known about transmission, incubation, ...</td>\n",
       "      <td>Range of incubation periods for the disease in...</td>\n",
       "      <td>Range of incubation periods for humans: genera...</td>\n",
       "      <td>incubation period</td>\n",
       "      <td>age.</td>\n",
       "      <td>contact tracing, survival analysis, time-to-ev...</td>\n",
       "      <td>https://www.ncbi.nlm.nih.gov/pmc/articles/PMC4...</td>\n",
       "    </tr>\n",
       "    <tr>\n",
       "      <th>1</th>\n",
       "      <td>What is known about transmission, incubation, ...</td>\n",
       "      <td>Range of incubation periods for the disease in...</td>\n",
       "      <td>Range of incubation periods for humans: by age...</td>\n",
       "      <td>incubation period, stratified by age group</td>\n",
       "      <td>age.</td>\n",
       "      <td>contact tracing, survival analysis, time-to-ev...</td>\n",
       "      <td>Notes</td>\n",
       "    </tr>\n",
       "  </tbody>\n",
       "</table>\n",
       "</div>"
      ],
      "text/plain": [
       "                                          Unnamed: 0  \\\n",
       "0  What is known about transmission, incubation, ...   \n",
       "1  What is known about transmission, incubation, ...   \n",
       "\n",
       "                                            Question  \\\n",
       "0  Range of incubation periods for the disease in...   \n",
       "1  Range of incubation periods for the disease in...   \n",
       "\n",
       "                                         Subquestion  \\\n",
       "0  Range of incubation periods for humans: genera...   \n",
       "1  Range of incubation periods for humans: by age...   \n",
       "\n",
       "                                 Outcome.list Differences.list  \\\n",
       "0                           incubation period             age.   \n",
       "1  incubation period, stratified by age group             age.   \n",
       "\n",
       "                                         Design.list  \\\n",
       "0  contact tracing, survival analysis, time-to-ev...   \n",
       "1  contact tracing, survival analysis, time-to-ev...   \n",
       "\n",
       "                                               Notes  \n",
       "0  https://www.ncbi.nlm.nih.gov/pmc/articles/PMC4...  \n",
       "1                                              Notes  "
      ]
     },
     "execution_count": 44,
     "metadata": {},
     "output_type": "execute_result"
    }
   ],
   "source": [
    "questions_df.head(2)"
   ]
  },
  {
   "cell_type": "markdown",
   "metadata": {},
   "source": [
    "We will now try to conduct analysis on a sample question about transmission and droplets to answer the second subtask in the Risk Factor Task of the Dataset"
   ]
  },
  {
   "cell_type": "code",
   "execution_count": 45,
   "metadata": {},
   "outputs": [
    {
     "data": {
      "text/plain": [
       "'Is COVID-19 transmitted on droplets?'"
      ]
     },
     "execution_count": 45,
     "metadata": {},
     "output_type": "execute_result"
    }
   ],
   "source": [
    "# Picking a sample question for analysis\n",
    "ques = questions_df.iloc[127]['Subquestion']\n",
    "ques = sent_tokenize(ques)[0]\n",
    "ques"
   ]
  },
  {
   "cell_type": "code",
   "execution_count": 46,
   "metadata": {},
   "outputs": [
    {
     "data": {
      "text/plain": [
       "'risk factor analysis, logistic regression, cross-sectional case-control, matched case-control, observational case series, time series analysis, survival analysis'"
      ]
     },
     "execution_count": 46,
     "metadata": {},
     "output_type": "execute_result"
    }
   ],
   "source": [
    "# Designs recommended for sample question\n",
    "des = questions_df.iloc[127]['Design.list']\n",
    "des"
   ]
  },
  {
   "cell_type": "code",
   "execution_count": 47,
   "metadata": {},
   "outputs": [
    {
     "data": {
      "text/plain": [
       "'odds of COVID-19 acquisition by occupation, age group, PPE use, observed/self-reported risk behaviors (e.g., inappropriately lowering mask to speak, touching face, eating without washing hands)'"
      ]
     },
     "execution_count": 47,
     "metadata": {},
     "output_type": "execute_result"
    }
   ],
   "source": [
    "# Outcomes recommended for sample question\n",
    "outc = questions_df.iloc[127]['Outcome.list']\n",
    "outc"
   ]
  },
  {
   "cell_type": "code",
   "execution_count": 48,
   "metadata": {},
   "outputs": [
    {
     "name": "stdout",
     "output_type": "stream",
     "text": [
      "Analyzing risks\n"
     ]
    },
    {
     "data": {
      "application/vnd.jupyter.widget-view+json": {
       "model_id": "1f1e86063146460b83ff4bcfe06caab4",
       "version_major": 2,
       "version_minor": 0
      },
      "text/plain": [
       "HBox(children=(FloatProgress(value=0.0, max=2.0), HTML(value='')))"
      ]
     },
     "metadata": {},
     "output_type": "display_data"
    },
    {
     "name": "stdout",
     "output_type": "stream",
     "text": [
      "\n",
      "Analyzing study designs\n"
     ]
    },
    {
     "data": {
      "application/vnd.jupyter.widget-view+json": {
       "model_id": "688475ccbc2e45ed87a2cd68ac279d94",
       "version_major": 2,
       "version_minor": 0
      },
      "text/plain": [
       "HBox(children=(FloatProgress(value=0.0, max=304.0), HTML(value='')))"
      ]
     },
     "metadata": {},
     "output_type": "display_data"
    },
    {
     "name": "stdout",
     "output_type": "stream",
     "text": [
      "\n",
      "Analyzing outcomes\n"
     ]
    },
    {
     "data": {
      "application/vnd.jupyter.widget-view+json": {
       "model_id": "107726484725401290d8120774ba5e70",
       "version_major": 2,
       "version_minor": 0
      },
      "text/plain": [
       "HBox(children=(FloatProgress(value=0.0, max=304.0), HTML(value='')))"
      ]
     },
     "metadata": {},
     "output_type": "display_data"
    },
    {
     "name": "stdout",
     "output_type": "stream",
     "text": [
      "\n",
      "Analyzing fatality\n"
     ]
    },
    {
     "data": {
      "application/vnd.jupyter.widget-view+json": {
       "model_id": "c5544d5579464236a64816dc929372c7",
       "version_major": 2,
       "version_minor": 0
      },
      "text/plain": [
       "HBox(children=(FloatProgress(value=0.0, max=304.0), HTML(value='')))"
      ]
     },
     "metadata": {},
     "output_type": "display_data"
    },
    {
     "name": "stdout",
     "output_type": "stream",
     "text": [
      "\n",
      "Generating final rankings\n"
     ]
    },
    {
     "data": {
      "application/vnd.jupyter.widget-view+json": {
       "model_id": "b113ece3a0e648e2af67ffb83ac876f7",
       "version_major": 2,
       "version_minor": 0
      },
      "text/plain": [
       "HBox(children=(FloatProgress(value=0.0, max=2.0), HTML(value='')))"
      ]
     },
     "metadata": {},
     "output_type": "display_data"
    },
    {
     "name": "stdout",
     "output_type": "stream",
     "text": [
      "\n"
     ]
    }
   ],
   "source": [
    "report_df = analyze_question(covid_df, Question(ques, des, outc))"
   ]
  },
  {
   "cell_type": "markdown",
   "metadata": {},
   "source": [
    "5 Best Ranked Excerpts to Answer the Question: _(Is COVID-19 transmitted on droplets?)_"
   ]
  },
  {
   "cell_type": "code",
   "execution_count": 49,
   "metadata": {},
   "outputs": [
    {
     "name": "stdout",
     "output_type": "stream",
     "text": [
      "A decision tree algorithm describing our institutional guidelines for precautions for operating room team members was created ( Figure 1 ). The underlying assumption was that every patient is potentially infected with COVID-19 until proven otherwise. This assumption is based on growing community spread of COVID-19 which placed the burden for ruling out infection upon the healthcare team. Patients were initially triaged by acuity into urgent and emergency procedures. No guidance was provided for elective procedures as these had been stopped in accordance with county order (4) . Rapid testing for COVID-19 virus was not possible for emergency procedures. We assumed all patients undergoing emergency procedures to be infected by COVID-19 until proven otherwise. The PPE requirement for the entire team managing emergency cases is to donn a fitted N-95 respirator mask in addition to droplet PPE (gown, gloves, eye protection).\n",
      "Urgent cases were stratified into high-and low-risk procedures depen\n",
      "----------------------------- \n",
      "\n",
      "U ntil the very end of 2019, there were six coronaviruses known to cause disease in humans. Four of these result in little more than a common cold and are endemic around the world. The viruses known as human coronavirus (hCoV)-229E, hCoV-HKU1, hCoV-NL63, and hCoV-OC43 are of little concern at a global public health level. The other two, however, have caused more widespread concern. In 2002, severe acute respiratory syndrome coronavirus (SARS-CoV) emerged in the human population. In a matter of months, this virus from a bat that transmitted via a palm civet to infect a human in the Guangdong province of China infected over 8,000 people, killing roughly 10% (1) . In 2003, SARS-CoV infections stopped, and the virus has not been seen since. A second epidemic coronavirus, known as Middle East respiratory syndrome coronavirus (MERS-CoV), emerged in 2012. Like the SARS-CoV outbreak, MERS-CoV started with a patient suffering pneumonia and came from a zoonotic event (this time from a bat via a \n",
      "----------------------------- \n",
      "\n",
      "Contact lenses represent a highly effective form of vision correction for an estimated 140 million people worldwide, with a very low incidence of either microbial keratitis or symptomatic inflammatory keratitis in strict daily wear of contact lenses [11, 12] . It is well established that contact lens wear, and particularly overnight contact lens wear, increases the risk of bacterial keratitis [12] [13] [14] [15] [16] . It is also well established that viral conjunctivitis is the overall most common type of conjunctivitis [17] . Yet, the eye, ocular surface and tear film employ a variety of host-defense mechanisms such as physical barriers and immunological strategies that help reduce the chance of infection in the cornea and conjunctiva.\n",
      "A PubMed search on 24th March 2020 found no evidence that contact lens wearers are more likely to contract COVID-19 than spectacle wearers. The likely belief for this being a concern relates to the fact that SARS-CoV-2 has been isolated in tears, albei\n",
      "----------------------------- \n",
      "\n",
      "Coronaviruses are enveloped positive sense RNA viruses ranging from 60 nm to 140 nm in diameter with spike like projections on its surface giving it a crown like appearance under the electron microscope; hence the name coronavirus [3] . Four corona viruses namely HKU1, NL63, 229E and OC43 have been in circulation in humans, and generally cause mild respiratory disease.\n",
      "There have been two events in the past two decades wherein crossover of animal betacorona viruses to humans has resulted in severe disease. The first such instance was in 2002-2003 when a new coronavirus of the β genera and with origin in bats crossed over to humans via the intermediary host of palm civet cats in the Guangdong province of China. This virus, designated as severe acute respiratory syndrome coronavirus affected 8422 people mostly in China and Hong Kong and caused 916 deaths (mortality rate 11%) before being contained [4] . Almost a decade later in 2012, the Middle East respiratory syndrome coronavirus (MERS\n",
      "----------------------------- \n",
      "\n",
      "Intubating a patient with COVID-19 is a high-risk procedure, due to the proximity of the health care workers to the patients' oropharynx and the exposure to airway secretions, which can carry a high viral load. 47 During the SARS outbreak in 2003, health care workers performing intubations were shown to be at a significantly increased risk of nosocomial transmission. 48 This risk was shown to be greatly reduced where PPE was used appropriately and infection control measures were followed. 10 The availability and suitability of facemasks and respirators has escalated into an emotive, as well as scientific debate. A fluid resistant surgical facemask protects the wearer against sprays of bodily fluids and large droplets, whereas N95, FFP2 and FFP3 respirators are thought to protect the wearer against aerosolised and airborne pathogens as well. In laboratory studies, a FFP2 mask filters at least 94% of all particles that are 0.3 microns in diameter or larger; N95 masks block at least 95%, \n",
      "----------------------------- \n",
      "\n"
     ]
    }
   ],
   "source": [
    "for i in range(5, 10):\n",
    "    print(report_df.sort_values(by='droplet_rank', ascending = False).iloc[i]['text_body'][:1000])\n",
    "    print(\"-----------------------------\",\"\\n\")"
   ]
  },
  {
   "cell_type": "code",
   "execution_count": null,
   "metadata": {},
   "outputs": [],
   "source": []
  }
 ],
 "metadata": {
  "kernelspec": {
   "display_name": "Python 3.7.4 64-bit ('anaconda3': virtualenv)",
   "language": "python",
   "name": "python37464bitanaconda3virtualenv11568a5b709c405b925f37b6b0b6dbdb"
  },
  "language_info": {
   "codemirror_mode": {
    "name": "ipython",
    "version": 3
   },
   "file_extension": ".py",
   "mimetype": "text/x-python",
   "name": "python",
   "nbconvert_exporter": "python",
   "pygments_lexer": "ipython3",
   "version": "3.7.4"
  }
 },
 "nbformat": 4,
 "nbformat_minor": 2
}
