{
 "cells": [
  {
   "cell_type": "markdown",
   "metadata": {},
   "source": [
    "# Abstract\n",
    "The objective of this notebook will be to perform keyword analysis on the papers for Covid-19 risk factors."
   ]
  },
  {
   "cell_type": "code",
   "execution_count": 68,
   "metadata": {},
   "outputs": [],
   "source": [
    "import re\n",
    "import glob\n",
    "import json\n",
    "from os import path\n",
    "import pandas as np\n",
    "import pandas as pd\n",
    "from datetime import datetime"
   ]
  },
  {
   "cell_type": "code",
   "execution_count": 242,
   "metadata": {},
   "outputs": [],
   "source": [
    "sample = pd.read_csv('../../../Downloads/co_infect.csv', index_col = 0, keep_default_na=False)"
   ]
  },
  {
   "cell_type": "code",
   "execution_count": 245,
   "metadata": {},
   "outputs": [],
   "source": [
    "sample['is_covid_related'] = sample['doc_id'].apply(lambda x: x.lower() in covid_papers['doc_id'].values)\n",
    "sample = sample.merge(papers_df, how='left', on='doc_id')\n",
    "sample = sample.rename(columns={'text': 'section_text'})\n",
    "sample = sample.sort_values(by='is_covid_related').reset_index(drop=True)\n",
    "sample.to_json('../../../Downloads/co_infect.json', orient='records')"
   ]
  },
  {
   "cell_type": "code",
   "execution_count": 7,
   "metadata": {},
   "outputs": [],
   "source": [
    "def tokenize(text):\n",
    "    text = text.lower().strip()\n",
    "    if len(text) == 0:\n",
    "        return ''\n",
    "    if text[-1] == 's':\n",
    "        text = text[:-1]\n",
    "    return text"
   ]
  },
  {
   "cell_type": "code",
   "execution_count": 69,
   "metadata": {},
   "outputs": [],
   "source": [
    "papers_df = pd.read_csv('../output/papers_df.csv', \n",
    "                        index_col=0, \n",
    "                        keep_default_na=False,\n",
    "                       parse_dates=['publish_time'])"
   ]
  },
  {
   "cell_type": "code",
   "execution_count": 122,
   "metadata": {},
   "outputs": [
    {
     "data": {
      "text/plain": [
       "True"
      ]
     },
     "execution_count": 122,
     "metadata": {},
     "output_type": "execute_result"
    }
   ],
   "source": [
    "sample = papers_df[papers_df['doc_id'] == '5dc4268a42adf3d5c55c87b7f6518de600b057c5']['text_body'].iloc[0]\n",
    "any(key.lower() in sample.lower() for key in covid_keywords)"
   ]
  },
  {
   "cell_type": "code",
   "execution_count": 14,
   "metadata": {},
   "outputs": [],
   "source": [
    "design_list = [ 'retrospective cohort', 'cross-sectional case-control','prevalence survey', \n",
    "               'systematic review , meta-analysis','matched case-control',\n",
    "               'medical records review', 'observational case series','time series analysis',\n",
    "               'pseudo-randomized controlled trials' ,'randomized controlled trials']"
   ]
  },
  {
   "cell_type": "code",
   "execution_count": 70,
   "metadata": {},
   "outputs": [],
   "source": [
    "risk_factors = ['diabetes','hypertension', 'heart disease','cancer',\n",
    "                'smoking status','history of lung disease','local climate',\n",
    "                'elderly','small children','immune compromised groups', \n",
    "                'age deciles among adults between the ages of 15 and 65', \n",
    "                'race/ethnicity', 'education', 'income', 'insurance status',\n",
    "                 'housing status', 'immigration status', 'prison inmates', \n",
    "                'mental hospital inpatients', 'long-term care facility residents',\n",
    "                'health workers','first responders', 'hospital staff',\n",
    "                'nursing home staff', 'prison staff', 'pregnancy status','neonates']"
   ]
  },
  {
   "cell_type": "code",
   "execution_count": 71,
   "metadata": {},
   "outputs": [],
   "source": [
    "transmission_keywords = ['transmi', 'sneez', 'contact trac', 'reproduc', 'environ']"
   ]
  },
  {
   "cell_type": "code",
   "execution_count": 72,
   "metadata": {},
   "outputs": [],
   "source": [
    "smoke_keywords = ['smok']"
   ]
  },
  {
   "cell_type": "code",
   "execution_count": 150,
   "metadata": {},
   "outputs": [],
   "source": [
    "covid_keywords = ['COVID-19', 'HCoV-19', 'CORD-19' ,'2019-nCoV', 'Wuhan coronavirus', 'SARS-CoV-2', 'covid']\n",
    "covid_keywords = [word.lower() for word in covid_keywords]"
   ]
  },
  {
   "cell_type": "code",
   "execution_count": 215,
   "metadata": {},
   "outputs": [],
   "source": [
    "covid_papers = papers_df[papers_df['text_body'].apply(lambda x: \n",
    "                                                     any(key.lower() in x.lower()\n",
    "                                                        for key in covid_keywords))]"
   ]
  },
  {
   "cell_type": "code",
   "execution_count": 152,
   "metadata": {},
   "outputs": [
    {
     "data": {
      "text/html": [
       "<div>\n",
       "<style scoped>\n",
       "    .dataframe tbody tr th:only-of-type {\n",
       "        vertical-align: middle;\n",
       "    }\n",
       "\n",
       "    .dataframe tbody tr th {\n",
       "        vertical-align: top;\n",
       "    }\n",
       "\n",
       "    .dataframe thead th {\n",
       "        text-align: right;\n",
       "    }\n",
       "</style>\n",
       "<table border=\"1\" class=\"dataframe\">\n",
       "  <thead>\n",
       "    <tr style=\"text-align: right;\">\n",
       "      <th></th>\n",
       "      <th>doc_id</th>\n",
       "      <th>title</th>\n",
       "      <th>abstract</th>\n",
       "      <th>text_body</th>\n",
       "      <th>publish_time</th>\n",
       "      <th>authors</th>\n",
       "      <th>journal</th>\n",
       "      <th>doi</th>\n",
       "      <th>H index</th>\n",
       "    </tr>\n",
       "  </thead>\n",
       "  <tbody>\n",
       "    <tr>\n",
       "      <th>14116</th>\n",
       "      <td>8605e1247b39f6fa0d909b356eb198aacd09843c</td>\n",
       "      <td>Modeling the dynamics of novel coronavirus (20...</td>\n",
       "      <td>The present paper describes the mathematical m...</td>\n",
       "      <td>One of the greatest assignments given to human...</td>\n",
       "      <td>2020-03-14</td>\n",
       "      <td>Khan, Muhammad Altaf; Atangana, Abdon</td>\n",
       "      <td>Alexandria Engineering Journal</td>\n",
       "      <td>10.1016/j.aej.2020.02.033</td>\n",
       "      <td></td>\n",
       "    </tr>\n",
       "    <tr>\n",
       "      <th>14180</th>\n",
       "      <td>24b996db83d4d2622d87fb583e6dc6fa277a636f</td>\n",
       "      <td>Clinical and CT imaging features of 2019 novel...</td>\n",
       "      <td></td>\n",
       "      <td>Dear Editor, Tang JW, et al. and colleagues ha...</td>\n",
       "      <td>2020-03-03</td>\n",
       "      <td>Zhu, Ying; Liu, Yang-Li; Li, Zi-Ping; Kuang, J...</td>\n",
       "      <td>Journal of Infection</td>\n",
       "      <td>10.1016/j.jinf.2020.02.022</td>\n",
       "      <td>90.0</td>\n",
       "    </tr>\n",
       "  </tbody>\n",
       "</table>\n",
       "</div>"
      ],
      "text/plain": [
       "                                         doc_id  \\\n",
       "14116  8605e1247b39f6fa0d909b356eb198aacd09843c   \n",
       "14180  24b996db83d4d2622d87fb583e6dc6fa277a636f   \n",
       "\n",
       "                                                   title  \\\n",
       "14116  Modeling the dynamics of novel coronavirus (20...   \n",
       "14180  Clinical and CT imaging features of 2019 novel...   \n",
       "\n",
       "                                                abstract  \\\n",
       "14116  The present paper describes the mathematical m...   \n",
       "14180                                                      \n",
       "\n",
       "                                               text_body publish_time  \\\n",
       "14116  One of the greatest assignments given to human...   2020-03-14   \n",
       "14180  Dear Editor, Tang JW, et al. and colleagues ha...   2020-03-03   \n",
       "\n",
       "                                                 authors  \\\n",
       "14116              Khan, Muhammad Altaf; Atangana, Abdon   \n",
       "14180  Zhu, Ying; Liu, Yang-Li; Li, Zi-Ping; Kuang, J...   \n",
       "\n",
       "                              journal                         doi H index  \n",
       "14116  Alexandria Engineering Journal   10.1016/j.aej.2020.02.033          \n",
       "14180            Journal of Infection  10.1016/j.jinf.2020.02.022    90.0  "
      ]
     },
     "execution_count": 152,
     "metadata": {},
     "output_type": "execute_result"
    }
   ],
   "source": [
    "covid_papers.head(2)"
   ]
  },
  {
   "cell_type": "code",
   "execution_count": 153,
   "metadata": {},
   "outputs": [
    {
     "data": {
      "text/plain": [
       "(1275, 9)"
      ]
     },
     "execution_count": 153,
     "metadata": {},
     "output_type": "execute_result"
    }
   ],
   "source": [
    "covid_papers.shape"
   ]
  },
  {
   "cell_type": "code",
   "execution_count": 154,
   "metadata": {},
   "outputs": [],
   "source": [
    "risk_df = pd.read_csv('../../../Downloads/risk_doc.csv', index_col = 0)"
   ]
  },
  {
   "cell_type": "code",
   "execution_count": 162,
   "metadata": {},
   "outputs": [],
   "source": [
    "risk_df['is_covid_related'] = risk_df['doc_id'].apply(lambda x: x.lower() in covid_papers['doc_id'].values)"
   ]
  },
  {
   "cell_type": "code",
   "execution_count": 233,
   "metadata": {},
   "outputs": [],
   "source": [
    "risk_covid_join = risk_df.merge(papers_df, how='left', on='doc_id')"
   ]
  },
  {
   "cell_type": "code",
   "execution_count": 235,
   "metadata": {},
   "outputs": [],
   "source": [
    "risk_covid_join = risk_covid_join.rename(columns={\n",
    "    'text': 'relevant_section',\n",
    "    'study': 'design',\n",
    "    'text_body': 'full_text'\n",
    "})"
   ]
  },
  {
   "cell_type": "code",
   "execution_count": 236,
   "metadata": {},
   "outputs": [],
   "source": [
    "risk_covid_join = risk_covid_join.sort_values(by='is_covid_related').reset_index(drop=True)"
   ]
  },
  {
   "cell_type": "code",
   "execution_count": 179,
   "metadata": {},
   "outputs": [],
   "source": [
    "risk_df.to_csv('../../../Downloads/risk_doc.csv')"
   ]
  },
  {
   "cell_type": "code",
   "execution_count": 238,
   "metadata": {},
   "outputs": [],
   "source": [
    "risk_covid_join.to_json('../../../Downloads/risk_covid_join.json', orient='records')"
   ]
  },
  {
   "cell_type": "code",
   "execution_count": 206,
   "metadata": {},
   "outputs": [],
   "source": [
    "relevant_docs = []\n",
    "for doc_id in set(covid_risk_df['doc_id'].values):\n",
    "    for paper in covid_papers:\n",
    "        if paper['id'].split('.')[0] == doc_id:\n",
    "            text = json.dumps(paper['data']['body_text']).lower()\n",
    "            break\n",
    "    relevant_docs.append({\n",
    "        'doc_id': doc_id,\n",
    "        'text': text,\n",
    "        'title': paper['data']['metadata']['title']\n",
    "    })"
   ]
  },
  {
   "cell_type": "code",
   "execution_count": 212,
   "metadata": {},
   "outputs": [],
   "source": [
    "covid_pattern = r'\"text\": \"([^\"]*(%s)[^\"]*)((?!\"section\").)*\"section\": \"([^\"]*)\"' % \"|\".join(covid_keywords)\n",
    "covid_regex = re.compile(covid_pattern, re.DOTALL)\n",
    "\n",
    "\n",
    "match_arr = []\n",
    "for doc in relevant_docs:\n",
    "    title = doc['title']\n",
    "    doc_id = doc['doc_id']\n",
    "    text = doc['text'].lower()\n",
    "    matches = covid_regex.findall(text)\n",
    "    match_obj = {}\n",
    "    if matches:\n",
    "        match_obj['title'] = title\n",
    "        match_obj['matches'] = [(match[0], match[1]) for match in designs]\n",
    "        match_obj['doc_id'] = doc_id\n",
    "        match_arr.append(match_obj)"
   ]
  },
  {
   "cell_type": "code",
   "execution_count": 213,
   "metadata": {},
   "outputs": [
    {
     "data": {
      "text/plain": [
       "['Community acquired respiratory virus infections in cancer patientsdGuideline on diagnosis and management by the Infectious Diseases Working Party of the German Society for haematology and Medical Oncology',\n",
       " \"Minimising prescribing errors in the ICU DJ Melia, S Saha Queen' s Hospital, Romford, UK Critical Care\",\n",
       " 'Coronavirus Disease 2019 (COVID-19) Pandemic and Pregnancy',\n",
       " 'P001 Sepsis impairs the capillary response within hypoxic capillaries and decreases erythrocyte oxygen-dependent ATP efflux P002 Lower serum immunoglobulin G2 level does not predispose to severe flu']"
      ]
     },
     "execution_count": 213,
     "metadata": {},
     "output_type": "execute_result"
    }
   ],
   "source": [
    "[match['title'] for match in match_arr]"
   ]
  },
  {
   "cell_type": "code",
   "execution_count": 178,
   "metadata": {},
   "outputs": [
    {
     "name": "stdout",
     "output_type": "stream",
     "text": [
      "bf49df2796b5ffe29995062a4359dbb926777bfc covid\n",
      "5dc4268a42adf3d5c55c87b7f6518de600b057c5 covid-19\n",
      "5dc4268a42adf3d5c55c87b7f6518de600b057c5 sars-cov-2\n",
      "5dc4268a42adf3d5c55c87b7f6518de600b057c5 covid\n",
      "5dc4268a42adf3d5c55c87b7f6518de600b057c5 covid-19\n",
      "5dc4268a42adf3d5c55c87b7f6518de600b057c5 sars-cov-2\n",
      "5dc4268a42adf3d5c55c87b7f6518de600b057c5 covid\n",
      "6aadca94314fe7e81e278fbbef178f2a5bf4f538 covid\n",
      "6aadca94314fe7e81e278fbbef178f2a5bf4f538 covid\n",
      "b30770ae30b35cdfaf0a173863e74e93edbb0329 covid\n",
      "b30770ae30b35cdfaf0a173863e74e93edbb0329 covid\n"
     ]
    }
   ],
   "source": [
    "for doc in relevant_docs:\n",
    "    doc_id = doc['doc_id']\n",
    "    text = doc['text'].lower()\n",
    "    for key in covid_keywords:\n",
    "        if key in text:\n",
    "            print(doc_id, key)"
   ]
  },
  {
   "cell_type": "markdown",
   "metadata": {},
   "source": [
    "## Creating a list of paper dictionaries"
   ]
  },
  {
   "cell_type": "code",
   "execution_count": 180,
   "metadata": {},
   "outputs": [],
   "source": [
    "json_files = glob.glob(f'../data/**/*.json', recursive=True)"
   ]
  },
  {
   "cell_type": "code",
   "execution_count": 181,
   "metadata": {},
   "outputs": [],
   "source": [
    "papers = []\n",
    "for file in json_files:\n",
    "    name = path.basename(file)\n",
    "    with open(file) as f:\n",
    "        data = json.load(f)\n",
    "    paper_obj = {'id':name,\n",
    "                 'data':data}\n",
    "    papers.append(paper_obj)    "
   ]
  },
  {
   "cell_type": "markdown",
   "metadata": {},
   "source": [
    "### Filtering for covid related papers"
   ]
  },
  {
   "cell_type": "code",
   "execution_count": 182,
   "metadata": {},
   "outputs": [],
   "source": [
    "covid_papers = []\n",
    "for paper in papers:\n",
    "    body = paper['data']['body_text']\n",
    "    for paragraph in body:\n",
    "        text = paragraph['text']\n",
    "        match = any(key.lower() in text.lower()\n",
    "                   for key in covid_keywords)\n",
    "        if match:\n",
    "            covid_papers.append(paper)\n",
    "            break"
   ]
  },
  {
   "cell_type": "code",
   "execution_count": 13,
   "metadata": {},
   "outputs": [
    {
     "data": {
      "text/plain": [
       "1367"
      ]
     },
     "execution_count": 13,
     "metadata": {},
     "output_type": "execute_result"
    }
   ],
   "source": [
    "len(covid_papers)"
   ]
  },
  {
   "cell_type": "code",
   "execution_count": null,
   "metadata": {},
   "outputs": [],
   "source": []
  },
  {
   "cell_type": "markdown",
   "metadata": {},
   "source": [
    "## Analysis for different sections in the papers"
   ]
  },
  {
   "cell_type": "code",
   "execution_count": null,
   "metadata": {},
   "outputs": [],
   "source": [
    "sections = {}\n",
    "for paper in covid_papers:\n",
    "    body = paper['data']['body_text']\n",
    "    paper_sections = set()\n",
    "    for paragraph in body:\n",
    "        if 'section' in paragraph:\n",
    "            paper_sections.add(paragraph['section'])\n",
    "    \n",
    "    for section in paper_sections:\n",
    "        section = tokenize(section)\n",
    "        if section in sections:\n",
    "            sections[section] += 1\n",
    "        else:\n",
    "            sections[section] = 1"
   ]
  },
  {
   "cell_type": "code",
   "execution_count": null,
   "metadata": {},
   "outputs": [],
   "source": [
    "sorted(sections.items(), key=lambda x: x[1], reverse=True)"
   ]
  },
  {
   "cell_type": "markdown",
   "metadata": {},
   "source": [
    "### Sections vs Designs"
   ]
  },
  {
   "cell_type": "code",
   "execution_count": null,
   "metadata": {},
   "outputs": [],
   "source": [
    "design_secs = {}\n",
    "for paper in covid_papers:\n",
    "    body = paper['data']['body_text']\n",
    "    relevant = set()\n",
    "    for paragraph in body:\n",
    "        text = paragraph['text']\n",
    "        if(any(design in text.lower() for design in design_list)):\n",
    "            relevant.add(paragraph['section'])\n",
    "    for section in relevant:\n",
    "        section = tokenize(section)\n",
    "        if section in design_secs:\n",
    "            design_secs[section] += 1\n",
    "        else:\n",
    "            design_secs[section] = 1"
   ]
  },
  {
   "cell_type": "markdown",
   "metadata": {},
   "source": [
    "#### **Frequency table of sections where at least one of the designs appeared the most times**"
   ]
  },
  {
   "cell_type": "code",
   "execution_count": null,
   "metadata": {
    "scrolled": true
   },
   "outputs": [],
   "source": [
    "sorted(design_secs.items(), key=lambda x: x[1], reverse=True)"
   ]
  },
  {
   "cell_type": "markdown",
   "metadata": {},
   "source": [
    "## Analysis on risk factors alongside design choices\n",
    "Extracting papers mentionning risk factors for covid-19. Eventual goal is to rank these papers by the quality of their design choices."
   ]
  },
  {
   "cell_type": "code",
   "execution_count": 60,
   "metadata": {},
   "outputs": [],
   "source": [
    "design_pattern = r'\"text\": \"([^\"]*(%s)[^\"]*)((?!\"section\").)*\"section\": \"([^\"]*)\"' % \"|\".join(design_list)\n",
    "risk_pattern = r'\"text\": \"([^\"]*(%s)[^\"]*)((?!\"section\").)*\"section\": \"([^\"]*)\"' % \"|\".join(risk_factors)\n",
    "design_regex = re.compile(design_pattern, re.DOTALL)\n",
    "risk_regex = re.compile(risk_pattern, re.DOTALL)\n",
    "\n",
    "\n",
    "match_arr = []\n",
    "for paper in covid_papers:\n",
    "    body = json.dumps(paper['data']['body_text'])\n",
    "    designs = design_regex.findall(body)\n",
    "    risks = risk_regex.findall(body)\n",
    "    match_obj = {}\n",
    "    if designs:\n",
    "        match_obj['design'] = [(match[3], match[0]) for match in designs]\n",
    "    if risks:\n",
    "        match_obj['risk'] = [(match[3], match[0]) for match in risks]\n",
    "    if match_obj:\n",
    "        match_obj['paper'] = paper['data']['metadata']['title']\n",
    "        match_arr.append(match_obj)"
   ]
  },
  {
   "cell_type": "code",
   "execution_count": 65,
   "metadata": {},
   "outputs": [],
   "source": [
    "risk_design_same_section = []\n",
    "for match in match_arr:\n",
    "    if 'design' not in match:\n",
    "        continue\n",
    "    designs = match['design']\n",
    "    for design in designs:\n",
    "        for factor in risk_factors:\n",
    "            if factor in design[0]:\n",
    "                risk_design_same_section.append(match)"
   ]
  },
  {
   "cell_type": "code",
   "execution_count": 66,
   "metadata": {},
   "outputs": [
    {
     "data": {
      "text/plain": [
       "0"
      ]
     },
     "execution_count": 66,
     "metadata": {},
     "output_type": "execute_result"
    }
   ],
   "source": [
    "len(risk_design_same_section)"
   ]
  },
  {
   "cell_type": "markdown",
   "metadata": {},
   "source": [
    "There seem to be no sections that mention both a design choice and a risk factor. So, the next analysis will check if the same paper mentions it, albeit in different sections"
   ]
  },
  {
   "cell_type": "code",
   "execution_count": 64,
   "metadata": {},
   "outputs": [
    {
     "name": "stdout",
     "output_type": "stream",
     "text": [
      "{'design': [('Corticosteroids and NSAIDs', 'It has now been more than 70 years that corticosteroids (CS) are pivotal for RA management and their role as remission inducer and bridging therapy for the management of disease flare has recently been renewed by the latest update of EULAR recommendations for RA treatment [36] . Even though CS efficacy in rapidly suppressing inflammation during RA initial course or flares is well recognized [37] , their downside is the broad spectrum of adverse events, including severe infections and the high risk of developing comorbidities further increasing the risk of infection [27, 38] . Although RCTs conducted in the past with CS showed no higher risk of infections in RA patients [39] [40] [41] , cohort and case-control studies reported increased rates of overall infections in RA patients treated with CS, according to a dosedependent fashion [42] . The majority of these infectious events are of bacterial etiology, but RA patients receiving CS exhibit a greater risk of developing even viral infections. As an example, a 2012 retrospective cohort-study demonstrated an increased risk of Herpes Zoster infections with an incidence rate of 8.54 cases per 1000 patient-years in CS treated population [29] .'), ('Chloroquine/hydroxychloroquine', 'At clinically admissible concentrations chloroquine is able to increase the endosomal pH required for virus/cell fusion, to inhibit the toll-like receptor activity, and to interfere with terminal glycosylation of the cellular receptor ACE 2 [88] [89] [90] . All these functions may negatively influence the virus-receptor binding, resulting in a potential effect of the drug on both entry and post-entry stages of the SARS CoV infection. As a consequence, chloroquine has recently been included in at least 10 randomized controlled trials currently ongoing in China, where it is tested for the treatment of COVID-19 under various combination protocols with the anti-viral drugs mentioned above [91] . Interim results from more than 100 patients have demonstrated that chloroquine is superior to the control treatment in improving lung imaging findings, inhibiting the exacerbation of pneumonia, promoting a virus negative conversion, and shortening the disease course at different levels of severity [92] . More recently, hydroxychloroquine was demonstrated to be more 3-times more potent than chloroquine in an in vitro study based on pharmacokinetic models (PBPK). An oral loading dose of 400 mg twice daily, followed by a maintenance dose of 200 mg given twice daily for 4 days seems to be the best option for the management of SARS-CoV-2 infection [93] .')], 'risk': [('The pathophysiology of COVID-19 infection', 'Coronaviruses are the largest viruses with a positive-sense singlestranded-RNA genome. The host immune response is by one side essential for the resolution of COVID-19 infection, but it can also be crucial for the pathogenesis of major clinical manifestations of the disease. The angiotensin-converting enzyme 2 (ACE2) has been identified as the host cell-surface receptor for SARS-CoV2 envelope spike glycoprotein [12] . ACE2 is a type I membrane protein expressed on cells in the kidney, heart, gastrointestinal tract, blood vessels, and, importantly, lung AT2 alveolar epithelial cells, which are particularly prone to viral infection [13] . SARS-CoV-2 infection leads to the downregulation of ACE2 expression, thus resulting in excessive production of angiotensin II by the related enzyme ACE. It has been suggested that the stimulation of type 1a angiotensin II receptor (AGTR1A) increases pulmonary vascular permeability, thus potentially explaining the increased lung damage when the expression of ACE2 is decreased [14] . Due to this mechanism of action, it has been postulated that subjects with diabetes mellitus or hypertension using ACE-inhibitors or angiotensin receptor blockers may have an increase of both the risk of infection and the severity of COVID-19 [15] . As only scarce evidence supports this hypothesis, the European Society of Cardiology recently published a position statement that strongly recommends continuing these treatments despite the current epidemic [16] . An additional point to be clarified is also the role of the genetic predisposition for an increased risk of SARS-CoV-2 infection due to ACE2 polymorphisms that have been linked to hypertension, diabetes mellitus, and cerebral stroke, especially in Asian populations [15] .')], 'paper': 'COVID-19 infection and rheumatoid arthritis: Faraway, so close!'}\n",
      "{'design': [('Melatonin effects in cytokine levels in human', 'and lipoperoxides [57] . In the acute phase of inflammation, including during surgical stress [58] , brain reperfusion [59] , and coronary artery reperfusion [60] , J o u r n a l P r e -p r o o f 15 melatonin intake of 10mg/d, 6mg/d and 5mg/d of melatonin for less than 5 days induced a reduced level of pro-inflammatory cytokines. A recent meta-analysis of a total of 22 randomized controlled trials suggested that a supplementary use of melatonin is associated with a significant reduction of TNF-\\\\u03b1 and IL-6 level [61] . This clinical evidence suggests that the use of melatonin as a supplement may effectively reduce the levels of circulating cytokines, and may potentially also lower pro-inflammatory cytokine levels in COVID-19 patients.')], 'risk': [('Melatonin effects in cytokine levels in human', 'Although there is obviously no report related to the use of melatonin in COVID-19 patients, in subjects with other diseases and an increased level of inflammation, the application of melatonin showed promising results regarding the attenuation of circulating cytokines levels. In a randomized controlled trial, 8- week oral intake of 6 mg/d melatonin caused a significant decrease in serum levels of IL-6, TNF-\\\\u03b1 and hs-C-reactive protein (hs-CRP) in patients with diabetes mellitus and periodontitis [56] . In another trial of patients suffering with severe multiple sclerosis, orally 25 mg/d of melatonin for 6 months also promoted a significant reduction in serum concentrations of TNF-\\\\u03b1, IL-6, IL-1\\\\u03b2'), ('Melatonin & Other supportive adjuvant effects', 'Based on clinical reports of COVID-19, patients with severe ALI/ARDS may also have an increased risk of sepsis and cardiac arrest [2] . Published reports indicate that the application of melatonin may ameliorate the septic shock via the NLRP3 pathway [63] . Specifically, melatonin may a have preventive effect against sepsis-induced renal injury, septic cardiomyopathy and liver injury J o u r n a l P r e -p r o o f [64] [65] [66] . It was also reported that melatonin had benefits in patients with myocardial infarction, cardiomyopathy, hypertensive heart diseases and pulmonary hypertension, and probably functions via the TLR4/survivor activating factor enhancement pathway [67] . Moreover, melatonin exerts neurological protection by reducing the cerebral inflammatory response, cerebral edema and brain-blood barrier permeability under a number of experimental conditions [68] . In the ICU, deep sedation is associated with increased long-term mortality, and the application of melatonin reduces sedation use and the frequency of pain, agitation, anxiety [69, 70] . Also, a recent meta-analysis showed that melatonin improves sleep quality in patients in the ICU [71] . Thus, the rationale for the use of melatonin in COVID-19')], 'paper': ''}\n",
      "{'design': [('Study design and participants', 'This retrospective cohort study included two cohorts of adult inpatients (\\\\u226518 years old) from Jinyintan Hospital and Wuhan Pulmonary Hospital (Wuhan, China). All adult patients who were diagnosed with COVID-19 according to WHO interim guidance were screened, and those who died or were discharged between Dec 29, 2019 (ie, when the first patients were admitted), and Jan 31, 2020, were included in our study. Since these two hospitals were the only designated hospitals for transfer of patients with COVID-19 from other hospitals in Wuhan until Feb 1, 2020, our study enrolled all adult inpatients who were hospitalised for COVID-19 and had a definite outcome (dead or discharged) at the early stage of the outbreak.'), ('Added value of this study', 'In this retrospective cohort study of adult inpatients in two hospitals in Wuhan, China, we found increasing odds of in-hospital death associated with older age (odds ratio 1\\\\u00b710, 95% CI 1\\\\u00b703-1\\\\u00b717; p=0\\\\u00b70043), higher Sequential Organ Failure Assessment (SOFA) score (5\\\\u00b765, 2\\\\u00b761-12\\\\u00b723; p<0\\\\u00b70001), and d-dimer levels greater than 1\\\\u00b70 \\\\u00b5g/mL (18\\\\u00b742, 2\\\\u00b764-128\\\\u00b755; p=0\\\\u00b70033) on admission. Duration of viral shedding ranged between 8 and 37 days. The median duration of viral shedding was 20\\\\u00b70 days (IQR 17\\\\u00b70-24\\\\u00b70) in survivors, but continued until death in fatal cases.'), ('Discussion', 'This retrospective cohort study identified several risk factors for death in adults in Wuhan who were hospitalised with COVID-19. In particular, older age, d-dimer levels greater than 1 \\\\u03bcg/mL, and higher SOFA score on admission were associated with higher odds of in-hospital death. Additionally, elevated levels of blood IL-6, high-sensitivity cardiac troponin I, and lactate dehydrogenase and lymphopenia were more commonly seen in severe COVID-19 illness. Sustained viral detection in throat samples was observed in both survivors and non-survivors.'), ('Discussion', 'To the best of our knowledge, this is the largest retrospective cohort study among patients with COVID-19 who have experienced a definite outcome. We found that older age, higher SOFA score, and elevated d-dimer at admission were risk factors for death of adult patients with COVID-19. The prolonged viral shedding provides the rationale for testing novel coronavirus antiviral interventions in efforts to improve outcomes.')], 'risk': [('Statistical analysis', \"Continuous and categorical variables were presented as median (IQR) and n (%), respectively. We used the Mann-Whitney U test, \\\\u03c7\\\\u00b2 test, or Fisher's exact test to compare differences between survivors and non-survivors where appropriate. To explore the risk factors associated with in-hospital death, univariable and multivariable logistic regression models were used. Considering the total number of deaths (n=54) in our study and to avoid overfitting in the model, five variables were chosen for multivariable analysis on the basis of previous findings and clinical constraints. Previous studies have shown blood levels of d-dimer and Sequential Organ Failure Assessment (SOFA) scores to be higher in critically ill or fatal cases, whereas lymphopenia and cardiovascular disease have been less commonly observed in non-critical or surviving patients with SARS-COV-2 infection. 5 troponin I, creatine kinase, d-dimer, serum ferritin, and IL-6, might be unavailable in emergency circumstances. Therefore, we chose lymphocyte count, d-dimer, SOFA score, coronary heart disease, and age as the five variables for our multivariable logistic regression model.\"), ('Results', '813 adult patients were hospitalised in Jinyintan Hospital or Wuhan Pulmonary Hospital with COVID-19 before Jan 31, 2020. After excluding 613 patients that were still hospitalised or not confirmed by SARS-CoV-2 RNA detection as of Jan 31, 2020, and nine inpatients without available key information in their medical records, we included 191 inpatients (135 from Jinyintan Hospital and 56 from Wuhan Pulmonary Hospital) in the final analysis. 54 patients died during hospitalisation and 137 were discharged. The median age of the 191 patients was 56\\\\u00b70 years (IQR 46\\\\u00b70-67\\\\u00b70), ranging from 18 years to 87 years, and most patients were male (table 1) . Co morbidities were present in nearly half of patients, with hypertension being the most common comorbidity, followed by diabetes and coronary heart disease (table 1). The most common symptoms on admission were fever and cough, followed by sputum production and fatigue (table 1) . Lymphocytopenia occurred in 77 (40%) patients. 181 (95%) patients received antibiotics and 41 (21%) received antivirals (lopinavir/ritonavir; table 2). Systematic corticosteroid and intravenous immunoglobulin use differed significantly between non-survivors and survivors (table 2). The comparison of characteristics, treatment, and outcomes of patients from the two hospitals are shown in the appendix (pp 2-4).'), ('Results', 'The median time from illness onset (ie, before admission) to discharge was 22\\\\u00b70 days (IQR 18\\\\u00b70-25\\\\u00b70), whereas the median time to death was 18\\\\u00b75 days (15\\\\u00b70-22\\\\u00b70; table 2). 32 patients required invasive mechanical ventilation, of whom 31 (97%) died. The median time from illness onset to invasive mechanical ventilation was 14\\\\u00b75 days (12\\\\u00b70-19\\\\u00b70). Extracorporeal membrane oxygenation was used in three patients, none of whom survived. Sepsis was the most frequently observed complication, followed by respiratory failure, ARDS, heart failure, and septic shock (table 2). Half of non-survivors experienced a secondary infection, and ventilator-associated pneumonia occurred in ten (31%) of 32 patients requiring invasive mechanical ventilation. The frequency of complications were higher in non-survivors than survivors (table 2) . In univariable analysis, odds of in-hospital death was higher in patients with diabetes or coronary heart disease (table 3) . Age, lymphopenia, leucocytosis, and elevated ALT, lactate dehydrogenase, high-sensitivity cardiac troponin I, creatine kinase, d-dimer, serum ferritin, IL-6, prothrombin time, creatinine, and procalcitonin were also associated with death (table 3) .'), ('Discussion', 'Cardiac complications, including new or worsening heart failure, new or worsening arrhythmia, or myocardial infarction are common in patients with pneumonia. Cardiac arrest occurs in about 3% of inpatients with pneumonia. 21 Risk factors of cardiac events after pneumonia include older age, pre-existing cardiovascular diseases, and greater severity of pneumonia at presentation. 22 Coronary heart disease has also been found to be associated with acute cardiac events and poor outcomes in influenza and other respiratory viral infections. [22] [23] [24] In this study, increased high-sensitivity cardiac troponin I during hospitalisation was found in more than half of those who died. The first autopsy of a 53-year-old woman with chronic renal failure in Jinyintan Hospital showed acute myocardial infarction (data not published; personal communication with a pathologist from the Chinese Academy of Science). About 90% of inpatients with pneumonia had increased coagulation activity, marked by increased d-dimer concentrations. 25 In this study, we found d-dimer greater than 1 \\\\u00b5g/mL is associated with fatal outcome of COVID-19. High levels of d-dimer have a reported asso ciation with 28-day mortality in patients with infection or sepsis identified in the emergency department. 26 Contri butory mechanisms include systemic pro-inflammatory cytokine responses that are mediators of atherosclerosis directly contributing to plaque rupture through local inflammation, induction of procoagulant factors, and haemodynamic changes, which predispose to ischaemia and thrombosis. [27] [28] [29] In addition, angiotensin converting enzyme 2, the receptor for SARS-CoV-2, is expressed on myocytes and vascular endothelial cells, 30, 31 so there is at least theoretical potential possibility of direct cardiac involvement by the virus. Of note, interstitial mononuclear inflammatory infiltrates in heart tissue has 32 The level and duration of infectious virus replication are important factors in assessing the risk of trans mission and guiding decisions regarding isolation of patients. Because coronavirus RNA detection is more sensitive than virus isolation, most studies have used qualitative or quantitative viral RNA tests as a potential marker for infectious coronavirus. For SARS-CoV, viral RNA was detected in respiratory specimens from about a third of patients as long as 4 weeks after disease onset. 33 Similarly, the dura tion of MERS-CoV RNA detection in lower respiratory specimans persisted for at least 3 weeks, 34, 35 whereas the duration of SARS-CoV-2 RNA detection has not been well characterised.')], 'paper': 'Clinical course and risk factors for mortality of adult inpatients with COVID-19 in Wuhan, China: a retrospective cohort study'}\n",
      "{'design': [('Methodologic Considerations', 'critically assessed early reports on medRxiv, a pre-print server (https://www.medrxiv.org/) (date of last search: March 16, 2020) . Since the initial epicenter for this outbreak was from China, the majority of data on patients with COVID-19 are from this region. Although a systematic attempt was made to include reports and viewpoints from other heavily affected countries, data related to CV risk factors or presentation were limited. This is important, since the testing strategies, care seeking behavior, and hospitalization thresholds vary in different settings and can bias numerators and denominators, influencing estimates of the impact of the virus. This selection bias in testing, care and reporting can lead to differences in prevalence estimates of pre-existing risk factors and patient presentation across the reports from various countries. Further, the majority of the existing analyses, including those related to CV complications of COVID-19 are based on retrospective and often single-center series. Accordingly, data elements were usually reported via chart review, without external prospective ascertainment. No published or completed prospective cohort studies or randomized controlled trials were present in this literature search. These issues have important implications for research priority setting, and for interpretations of the results reported herein. There is an urgent need for high quality research in this area, but at this point it is useful to review the available data.')], 'risk': [('Pathophysiology, Epidemiology, and Clinical Features of COVID-19', 'https://www.arcgis.com/apps/opsdashboard/index.html#/bda7594740fd40299423467b48e9ecf6 (12) . The infectivity of COVID-19 is greater than that of influenza, with an estimated R 0 value (the basic reproduction number, representing viral infectivity) of 2.28 (14) . Notably, the death rate associated with COVID-19 is also considerably higher compared with the most recent WHO estimate of seasonal influenza mortality rate of less than 0.1%, and may reach much higher rates in elderly patients, those with comorbidities, and absent efficient intensive care support (13) . While other zoonotic coronaviruses, including the 2002-2003 severe acute respiratory syndrome (SARS) epidemic and the Middle East respiratory syndrome (MERS-CoV), had higher associated case fatality rates of 9.6% and 34.4%, respectively (15), COVID-19 has resulted in many more deaths than both of these prior outbreaks combined, an issue that is in part related to the greater infectivity and higher attack rate of this virus, leading to a larger number of infected patients (15, 16) . Uncertain and inconsistent disease ascertainment have resulted in variability in reported case fatality rates for several reasons, including: 1) the disease may be asymptomatic or mildly symptomatic in a large proportion of patients (15) , 2) inadequate testing capabilities in most geographies, leading to frequent underdiagnosis, especially in patients with less serious illness, and 3) complications and death often ensue much later than contagion (typically between 2 and 3 weeks after infection). Notably, the appraisal of SARS-CoV-2 infection may be further complicated by asymptomatic infection in a sizable portion of individuals (as many as 20%), which may significantly contribute to further spread of infection (17) The (18), although knowledge of the clinical feature of the disease is evolving daily (1, 19) . In severe cases, COVID-19 may present as pneumonia, the acute respiratory distress syndrome (ARDS), with or without both distributive and cardiogenic shock, to which elderly populations with preexisting medical comorbidities are the most vulnerable (1, 6, 19, 20) . Notably while rates of concomitant infections with other viruses and bacterial superinfections in preliminary data appear low (15) , patients with the most severe clinical presentations are likely still at risk for co-infections, and unsurprisingly, worse outcomes have been noted in such cases (20, 21) . Children account for the minority of laboratory-confirmed cases of COVID-19 in China and appear to be less susceptible to severe disease, possibly due to stronger innate immunity, fewer comorbidities, differences in maturation of viral receptors, and/or prior exposure to other coronavirus species (22) . However, moderate-to-severe illness has been described in children as well (23) . Moreover, it is not clear how often children were being tested.'), ('Prevalence of CVD in Patients with COVID-19', 'The lack of widespread testing, national surveillance and standardized data collection, as well as the potential sampling bias in sicker, hospitalized patients with more comorbidities such as CVD has complicated efforts to accurately estimate the prevalence of CVD in patients with COVID-19. Moreover, there is marked variation in testing by country. A number of studies in the available literature suggest an association between preexisting CVD and severe COVID-19, which are summarized in Tables 1 and 2 . A meta-analysis of six studies inclusive of 1,527 patients with COVID-19 examined the prevalence of CVD and reported the prevalence of hypertension, cardiac and cerebrovascular disease, and diabetes to be 17.1%, 16.4%, and 9.7%, respectively (4). Patients who required intensive care unit (ICU) admission were more likely to have these comorbidities compared to non-ICU patients. Increased case-fatality rates in the previously referenced analysis of 44,672 confirmed COVID-19 cases from Wuhan, China were noted in patients with CVD (10.5%), diabetes (7.3%), hypertension (6.0%), all notably higher than the overall case-fatality rate of 2.3% (15) . Several smaller cohort studies have yielded similar results suggesting higher risk for adverse events in patients with CVD who contract COVID-19, although biases related to testing and standardized data apply here as well (1, 19, (25) (26) (27) (28) . Notably, while reports outside of China are limited, data from Italy suggest similar mortality rates and an elevated risk for death in patients with comorbidities (29) . As emerging international data become available, analysis from multinational cohorts can help inform risk stratification for severe disease especially for patients with prior CVD.'), ('COVID-19 Outcomes and CVD: Potential Mechanisms of Increased Risk', 'Mechanisms that lead to CVD are increasingly recognized to overlap with pathways that regulate immune function. For instance, age is the strongest risk factor for CVD and the effect of aging on immune function may be equally important for COVID-19 suceptibility and severity. Exemplary of this, the effect of age on the immune system is exemplified by low protective titers among 50% of adults older than 65 who receive the influenza vaccine (30, 31) . Other traditional CVD risk factors such as diabetes and hyperlipidemia impact immune function, and conversely, dysregulated immunologic status corresponds with elevated risk of incident CVD (32) (33) (34) (35) . Thus, prevalent CVD may be a marker of accelerated immunologic aging/dysregulation and relate indirectly to COVID-19 prognosis. An increased frequency of adverse CVD events post COVID-19 infection might also play a role in prognosis, similar to other viral infections such as influenza with mechanistic underpinnings which are complex, multi-factorial, and bi-directional (36, 37) . In addition, COVID-19 infection may trigger pathways unique to this pathogen which contribute to outcomes in CVD patients. For instance, higher expression of ACE2 in patients with hypertension and CVD has been postulated to enhance susceptibility to SARS-CoV2, although the data are conflicting and without clear suggestion for treatment ( Figure 1 ) (5) . Additional study is needed to understand the potential mechanistic relationships between CVD and COVID-19 outcomes.'), ('Myocardial injury, myocarditis, and acute coronary syndromes', 'Cardiomyopathy and heart failure. Zhou and colleagues reported that heart failure was observed in 23.0% of patients with COVID-19 presentations (6) . Notably, heart failure was more commonly observed than acute kidney injury in this cohort and was more common in patients who did not survive the hospitalization compared to those who did survive (51.9% vs. 11.7%). Whether heart failure is most commonly due to exacerbation of pre-existing left ventricular dysfunction versus new cardiomyopathy (either due to myocarditis or stress cardiomyopathy) remains unclear (53) . Right heart failure and associated pulmonary hypertension should be also considered, in particular in the context of severe parenchymal lung disease and ARDS.'), ('Drug Therapy and COVID-19: Interactions and Cardiovascular Implications', 'Data regarding antiviral therapies and other treatment strategies, as well as their potential interaction with CV medications and CV toxicities are summarized in Tables 3-5 Methylprednisolone is another drug under investigation that is currently being used to treat severe cases of COVID-19 that are complicated by ARDS (48) . This steroid is known to cause fluid retention, electrolyte derangement, and hypertension as direct CV effects, and also may interact with warfarin via an undescribed mechanism. Clinicians are advised to observe for these drug interactions.'), ('Drug Therapy and COVID-19: Interactions and Cardiovascular Implications', 'Finally, patient debilitation from severe COVID-19 may pose challenges in administering routine CV medications, ranging from antiplatelet therapy to beta-blockers, thus putting patients with or at risk of ischemic heart disease or heart failure at risk of further deterioration of their clinical condition.'), ('Preparing for hospital surges and prioritizing care for the critically ill. A comprehensive', 'Need for education. Information on the most up to date evidence surrounding management and treatment of patients with COVID-19 should be widely disseminated and freely available, and should be provided in illustrative formats (e.g. infographics) that improve public knowledge and understanding. The free flow of communication between healthcare workers and hospitals is paramount to effectively combat the pandemic. The care of patients with COVID-19 will require the expertise of many specialty services including pulmonology/critical care, infectious diseases, cardiology, surgery, pharmacy, and hospital administration among others. Optimal infection control and treatment strategies for COVID-19 should be shared with the entire healthcare community. Accordingly, every effort must be made to provide clear and unambiguous information to patients and decision-makers, countering myths and false news which may generate panic or false optimism. As the evidence base surrounding COVID-19 and its management is evolving on a daily basis, the dissemination of accurate information must occur real-time.'), ('Hypertension Canada (90)', '\\\\u2022 Patients with hypertension should continue their home blood pressure medical regimen Canadian Cardiovascular Society (91)')], 'paper': 'Cardiovascular Considerations for Patients, Health Care Workers, and Health Systems During the Coronavirus Disease 2019 (COVID-19) Pandemic'}\n",
      "{'design': [('TREATMENT', \"1. Remdesivir: The experimental drug is a novel nucleotide analogue prodrug in development by Gilead Sciences, Inc. It is an unapproved antiviral drug being developed for Ebola and SARS. In a case report on the first case of 2019-nCoV in the United States administering remdesivir for compassionate use on day 11 after illness resulted in decreasing viral loads in nasopharyngeal and oropharyngeal samples and the patient's clinical condition improved. 9 However, randomized controlled trials are needed to determine the safety and efficacy of this drug for treatment of patients with 2019-nCoV infection. 2. Convalescent therapies (plasma from recovered COVID-19 patients): This strategy had been used to support passive immunization. Based on the studies from MERS, the therapeutic agents with potential benefits include convalescent plasma, interferon-beta/ribavirin combination therapy, and lopinavir. 19 However, there are no experience on COVID-19 and no randomized controlled clinical trials for this management at present. 3. Antiviral drugs: lopinavir/ritonavir and ribavirin had been tried to treat SARS disease with apparent favorable clinical response. 20 In vitro antiviral activity against SARS-associated coronavirus at 48 hours for lopinavir and ribavirin was demonstrated at concentrations of 4 and 50 \\\\u00b5g/mL, respectively. A recent report found uncanny similarity of unique insertions in the 2019-nCoV spike protein to HIV-1 gp120 and Gag. 21 Will anti-HIV drugs affect the 2019-nCoV treatment outcome? Further randomized controlled trials in patients with COVID-19 are mandatory. 4. Vaccine: There is currently no vaccine available for preventing 2019-nCoV infection. The spike protein may serve as a vaccine candidate, but the effect to human requires further evaluation.\")], 'risk': [('INTRODUCTION', \"In 2003, a new coronavirus, the etiology of a mysterious pneumonia, also originated from southeast China, especially Guangdong province, and was named SARS coronavirus that fulfilled the Koch's postulate. 4 The mortality rate caused by the virus was around 10%-15%. 5, 6 Through the years, the medical facilities have been improved; nevertheless, no proper treatment or vaccine is available for the SARS. 6 The emergence of another outbreak in 2012 of novel coronavirus in Middle East shared similar features with the outbreak in 2003. 7 Both were caused by coronavirus but the intermediate host for MERS is thought to be the dromedary camel and the mortality can be up to 37%. 5 The initial clinical manifestations for both SARS and MERS are usually nonspecific except that the majority of patients presented with fever and respiratory symptoms. Unprotected hospital staff who were exposed to patients' droplets or through contact prone to be infected and nosocomial infections ensue. 1,6 Furthermore, cases associated with travel had been identified for SARS, MERS, and COVID-19. 5, [8] [9] [10] [11] Because of global transportation and the popularity of tourism, COVID-19 is a genuine threat to Taiwan.\")], 'paper': 'The outbreak of COVID-19: An overview'}\n",
      "{'design': [('TREATMENT', \"1. Remdesivir: The experimental drug is a novel nucleotide analogue prodrug in development by Gilead Sciences, Inc. It is an unapproved antiviral drug being developed for Ebola and SARS. In a case report on the first case of 2019-nCoV in the United States administering remdesivir for compassionate use on day 11 after illness resulted in decreasing viral loads in nasopharyngeal and oropharyngeal samples and the patient's clinical condition improved. 9 However, randomized controlled trials are needed to determine the safety and efficacy of this drug for treatment of patients with 2019-nCoV infection. 2. Convalescent therapies (plasma from recovered COVID-19 patients): This strategy had been used to support passive immunization. Based on the studies from MERS, the therapeutic agents with potential benefits include convalescent plasma, interferon-beta/ribavirin combination therapy, and lopinavir. 19 However, there are no experience on COVID-19 and no randomized controlled clinical trials for this management at present. 3. Antiviral drugs: lopinavir/ritonavir and ribavirin had been tried to treat SARS disease with apparent favorable clinical response. 20 In vitro antiviral activity against SARS-associated coronavirus at 48 hours for lopinavir and ribavirin was demonstrated at concentrations of 4 and 50 \\\\u00b5g/mL, respectively. A recent report found uncanny similarity of unique insertions in the 2019-nCoV spike protein to HIV-1 gp120 and Gag. 21 Will anti-HIV drugs affect the 2019-nCoV treatment outcome? Further randomized controlled trials in patients with COVID-19 are mandatory. 4. Vaccine: There is currently no vaccine available for preventing 2019-nCoV infection. The spike protein may serve as a vaccine candidate, but the effect to human requires further evaluation.\")], 'risk': [('INTRODUCTION', \"In 2003, a new coronavirus, the etiology of a mysterious pneumonia, also originated from southeast China, especially Guangdong province, and was named SARS coronavirus that fulfilled the Koch's postulate. 4 The mortality rate caused by the virus was around 10%-15%. 5, 6 Through the years, the medical facilities have been improved; nevertheless, no proper treatment or vaccine is available for the SARS. 6 The emergence of another outbreak in 2012 of novel coronavirus in Middle East shared similar features with the outbreak in 2003. 7 Both were caused by coronavirus but the intermediate host for MERS is thought to be the dromedary camel and the mortality can be up to 37%. 5 The initial clinical manifestations for both SARS and MERS are usually nonspecific except that the majority of patients presented with fever and respiratory symptoms. Unprotected hospital staff who were exposed to patients' droplets or through contact prone to be infected and nosocomial infections ensue. 1,6 Furthermore, cases associated with travel had been identified for SARS, MERS, and COVID-19. 5, [8] [9] [10] [11] Because of global transportation and the popularity of tourism, COVID-19 is a genuine threat to Taiwan.\")], 'paper': 'The outbreak of COVID-19: An overview'}\n",
      "{'design': [('', \"The concept of MR is akin to randomized controlled trials (RCT). For example, consider a study on the causal effect of lipid on the risk of a certain disease. Subjects who have inherited lipid-lowering alleles at a locus (or a set of such alleles at multiple loci) will have lower lipid levels on average, which is analogous to receiving lipid-lowering drugs in an RCT 20 . The random allocation of alleles at conception is similar to random assignment of treatment in an RCT. As a result, the chance of spurious associations due to known or unknown confounders is reduced due to the 'random assignment' of treatment or risk factor. Another important point to . CC-BY-NC-ND 4.0 International license It is made available under a author/funder, who has granted medRxiv a license to display the preprint in perpetuity.\")], 'risk': [('', 'In a related work, recently Cai 15 performed an analysis with TCGA datasets and showed that smoking is associated with elevated expression of ACE2 in the lung, which may be associated with greater susceptibility to infection or more severe illness. However, there are several limitations as detailed by the author. For example, the samples studied are derived from patients with lung cancer, which may not be fully reflective of the expression in normal lung tissues. Another potential limitation is that it is difficult to control for all confounders, as smoking may be related to other unhealthy life habits 16 and multiple comorbid diseases 17, 18 .'), ('Diabetes-related traits', 'Remarkably, a number of top-ranked results were related to diabetes. We observed totally five diabetes-related traits that showed nominally significant MR results, and they were all positively associated with ACE2 expression. Three are related to diagnosis of diabetes (including both type I and II) in the UKBB.'), ('Diabetes-related traits', 'We also observed that starting insulin within one year of diagnosis, which was only assessed within diabetic subjects, was casually associated with increased ACE2 expression. Early use of insulin may indicate type I diabetes as the underlying diagnosis or more severe or late-stage disease for type II diabetic subjects 32 .'), ('Diabetes-related traits', 'In view of the consistent causal associations with diabetes or related traits, we further searched for GWAS summary statistics that have not been included in the IEU GWAS database. We found another publicly available dataset from the DIAGRAM Consortium, based on a recent meta-analysis of type II diabetes by Mahajan et al. 33 .'), ('Diabetes-related traits', 'is the (which was not peer-reviewed) The copyright holder for this preprint . https://doi.org/10.1101/2020.03.04.20031237 doi: medRxiv preprint powerful 30 ), all other methods showed (nominally) significant results. GSMR reported the lowest p-value of 2.49E-04 (beta = 0.1835, 95% CI: 0.0853 to 0.2817). While this study 33 has partial overlap with the trans-ethnic analysis in 2014 31 , the consistent associations provide further support to a causal link between diabetes and expression of ACE2.'), ('Diabetes-related traits', 'Regarding the effect size of casual associations, since the exposures were binary, the regression coefficients (beta) from MR may be roughly interpreted as average change in the outcome (increase in normalized expression level) per 2.72-fold increase in the prevalence of the exposure 34 . For type II diabetes, or self-reported diabetes from UKBB which presumably comprised mainly type II diabetes, the causal estimates ranged from ~0.1621 to 0.1835. These estimates were reasonably close despite different datasets being used.'), ('Diabetes-related traits', 'The causal estimate from type I diabetes was slightly lower and estimated to be ~0.1006.'), ('Other disease/traits', 'As shown in Table 1 , a number of other disease/traits also showed (nominally) significant results. Several neoplasms, such as breast and lung cancer, may be associated with increased ACE2 expression. We also observed that several autoimmune disorders, especially inflammatory bowel diseases may be casually associated with ACE2 expression. Interestingly, asthma and tobacco use also showed nominal significant associations with higher ACE2 expression. As for other traits, high alanine aminotransferase (ALT), commonly associated with liver diseases, may be related to elevated ACE2 expression. Other commonly measured blood measures that may lead to altered ACE2 expression also included red cell distribution width (often associated with iron-deficiency, folate or B12 deficiency anemia), basophil percentage (inverse relationship), calcium level, urate level, HDL-cholesterol and LDL cholesterol (inverse relationship).'), ('Diseases/traits causally linked to ACE2 expression', 'From our analysis, the most consistent finding was the casual link between diabetes (and related traits) with ACE2 expression, which was supported by multiple datasets and different analytic approaches. Other results were more tentative, but may be worthy of further studies. For example, several neoplasms (e.g. breast and lung cancers) and autoimmune diseases, elevated ALT, asthma and smoking all showed nominally significant and positive associations with ACE2 expression. If the findings are replicated and confirmed in further studies, there may be clinical implications.'), ('Diseases/traits causally linked to ACE2 expression', 'In a similar vein, if resources are limited, the more susceptible subjects may receive higher priority for diagnostic testing for the infection. As far as treatment is concerned, if certain conditions such as diabetes indeed increases susceptibility via ACE2, then drugs targeting at this gene/protein may be particularly useful for this patient subgroup. For example, human recombinant ACE2 has been proposed as a treatment and is under clinical trial for COVID-19 35 . It will be interesting to see if the drug may be more beneficial for DM patients. More generally speaking, if DM is causally linked to elevated ACE2 and potentially increased susceptibility to infection, then anti-diabetic drugs or improved glycemic control may reverse the process.'), ('Diseases/traits causally linked to ACE2 expression', 'Here we further discuss on a few disease/traits also supported by previous studies. First, as discussed in the introduction, a recent study 15 also suggested smoking was associated with higher ACE2 expression. Our analysis adds further support to the hypothesis, but we further showed that the relationship may be casual. As shown in Table S1 , a number of COVID-19 cases (~5.4%) were also comorbid with diabetes mellitus (DM).'), ('Diseases/traits causally linked to ACE2 expression', 'Similarly, DM was also common in patients infected with MERS-CoV 36,37 . Kulcsar et al. built a mouse model susceptible to MERS-CoV infection and induced type 2 DM using a high-fat diet. They found that, if affected by the virus, these diabetic mice suffered from a prolonged phase of disease and delayed recovery, which might be due to a dysregulated immune response 38 . With regards to comorbidity with cancers, Liang et al. recently carried out a nationwide analysis of 1,590 patients with laboratory-confirmed COVID-19 and suggested that cancer patients might have a higher infection risk than those without 39 . The study also reported higher risk of severe complications in such patients.'), ('Diseases/traits causally linked to ACE2 expression', 'On the other hand, we also wish to highlight some results could be false negatives. The main reason for false negatives is the limited sample size of GTEx, and that for some exposure traits, the number of instruments available may be small. For example, in our analysis, we do not find evidence of hypertension or blood pressure, history of coronary heart disease and stroke to be casually linked to ACE2 expression, although patients with severe infections have been reported to be enriched for these comorbidities.')], 'paper': 'Exploring diseases/traits and blood proteins causally related to expression of ACE2, the putative receptor of 2019-nCov: A Mendelian Randomization analysis'}\n",
      "{'design': [('Introduction', 'Quantifying the extent of infection overall in the population (including those infected with either mild, non-specific symptoms or who are asymptomatic, as depicted in the bottom of Figure 1 ) requires random population surveys of infection prevalence. Serological assays provide the best option for obtaining this denominator; however, robust assays are not currently available. The only such data providing an assessment of the level of infection in a subset of the population not presenting with symptoms at present is therefore the PCR infection prevalence surveys conducted in international residents of Wuhan that have been repatriated to their home country.')], 'risk': [('Introduction', 'Clinical studies conducted on hospitalised cases show that the onset of COVID-19 is associated with symptoms commonly associated with viral pneumonia, most commonly fever, cough/sore throat and myalgia/fatigue 2-6 . The case definition adopted in China and elsewhere includes further stratification of cases as severe (defined as tachypnoea (\\\\u226730 breaths/ min) or oxygen saturation \\\\u226493% at rest, or PaO2/FIO2 <300 mmHg) and critical (respiratory failure requiring mechanical ventilation, septic shock or other organ dysfunction/failure that requires intensive care) 7 . According to the WHO/China Joint Mission Report, 80% of laboratory-confirmed cases in China up to 20 February 2020 have mild-tomoderate disease -including both non-pneumonia and pneumonia cases; whilst 13.8% developed severe disease and 6.1% developed to a critical stage requiring intensive care 8 . In a study of clinical progression in 1,099 patients 4 , those at highest risk for severe disease and death included people over the age of 60 years and those with underlying conditions (including hypertension, diabetes, cardiovascular disease, chronic respiratory disease and cancer).'), ('(which was not peer-reviewed)', 'Our estimate of the CFR is substantially lower than the crude CFR obtained from China based on the cases and deaths observed to date, which is currently 3.67%, as well as many of the estimates currently in the literature. The principle reason for this is that the crude estimate does not take into account the severity of cases. Various estimates have been made from patient populations ranging from those with generally milder symptoms (for example international travellers detected through screening of travel history 13,32 ) through to those identified in the hospital setting 14,15,33 . We expect higher CFRs in those that are more severely ill. Many case reports note that the presence of other underlying conditions result in poorer prognosis. Although we were unable to adjust for this effect in the absence of detailed individual-level data, this is likely to be correlated with age. However, it should also be noted that the distribution of underlying conditions will vary geographically, and particularly between high-, middle-and low-income settings.')], 'paper': 'Estimates of the severity of COVID-19 disease'}\n",
      "{'design': [('Ongoing human trials for COVID-19', 'Four currently ongoing randomized controlled trials proposing to test treatments for COVID-19 were identified through keyword searches of clinicaltrials.gov. All four trials are being carried out in China, three are investigating antiviral medications (lopinavir/ritonavir, arbidol (umifenovir), darunavir, cobicstat, and, ASC09/ritonavir) and one trial is investigating a combination of lopinavir/ritonavir with Traditional Chinese Medicines (TCM). At the time of this writing two of the trials have started recruiting patients (further details in Table 3 ). Youth/Adult (14-80 yrs); lab-confirmed infection Intervention: TCM + conventional medicines** Comparator: Conventional medicines** **Conventional medicines includes: oxygen therapy, antiviral therapy (alfa interferon via aerosol inhalation, and lopinavir/ritonavir, 400mg/100mg, p.o, bid)')], 'risk': [('Characteristics of included studies', 'Of the 54 studies included in this review three were controlled trials 6-8 , 10 were cohort studies [9] [10] [11] [12] [13] [14] [15] [16] [17] [18] , seven were retrospective medical record/database studies 19-25 , and 34 were case reports or case series 26-59 ( Table 2 ). All of the included studies were published between 2003 and 2020 with the majority conducted in Hong Kong (n=14), followed by China (n=12), Saudi Arabia (n=10), Canada (n=5), South Korea (n=4), Taiwan (n=3), and one each from France, Germany, Greece, the United Arab Emirates, and the United States. Sample sizes for the studies ranged from single patients in the case reports to groups of >1000 patients in the cohort studies. Overall, the majority of studies (n=33) dealt with treatment of Severe Acute Respiratory Syndrome (SARS), followed by Middle East Respiratory Syndrome (MERS; n=16), COVID-19 (n=3) and two studies treated unspecified coronavirus. The majority of studies were conducted in adult populations (n=52), one case report 31 and one case series 36 included infant and pediatric populations, respectively. Four case reports/series 29,45,46,48 specifically included immunocompromised patients and one case study 34 included a pregnant woman with MERS; however, the majority of study populations included patients with comorbid conditions (n=33). Common comorbidities included diabetes, heart disease, hypertension, and renal failure (Appendix 3). The most common antiviral studied was ribavirin (n=41), followed by oseltamivir (n=10) and the combination of lopinavir/ritonavir (n=7). Additional therapies used in the studies included a variety of broad spectrum antibiotics (n=30), steroids including hyrdcortisone, methylprednisone, or prednisolone (n=39) or various interferons (n=12; Appendix 3). No animal or human trials investigating monoclonal antibodies for the treatment of COVID-19 were found in this rapid review. All of the studies recruited from or reported on hospitalized populations and the most commonly reported outcome was mortality (n=40), followed by ICU admission (n=21) and adverse events (n=18). '), ('Studies of COVID-19', 'The two case series 56,57 were conducted in China and included 4 and 138 patients, respectively. All patients were hospitalized and initial diagnosis was made based on WHO Criteria later confirmed by lab-testing of the patient specimens. The case series included an approximately even number of male and female (55% v 45%) patients ranging in age from 19 to 68 years old, with a variety of co-morbidities including cardiovascular disease, chronic kidney or liver disease, COPD, and diabetes (Appendix 3). In one case series 57 , patients (n=4) were treated with a combination of lopinavir/ritonavir, Arbidol (umifenovir), antibiotics, Shufeng Jiedu Capsule (Traditional Chinese Medicine), and intravenous immunoglobulins (Appendix 4). At study end (15 days ),) two patients tested negative for COVID-19 and were subsequently discharged from the hospital and two patients remained hospitalized, one of whom still required mechanical ventilation (Appendix 4). In the larger case series 56 , 124 patients were treated with oseltamivir combined with antibiotic therapy in 89 patients and combined with glucocorticoids in 62 patients (Appendix 4). Over the course of the study, 34 patients treated with oseltamivir were admitted to the ICU, 17 of which required invasive mechanical ventilation. At study end (19 days),) 47 patients had been discharged and 6 patients died, all of whom had been admitted to ICU (Appendix 4).'), ('Mortality', 'Mortality was reported in two of the included trials (ribavirin), all 10 cohort studies (ribavirin, lopinavir/ritonavir, oseltamivir), all seven retrospective studies (ribavirin, lopinavir/ritonavir, oseltamivir), and 21 case reports or case series (ribavirin, oseltamivir, lopinavir/ritonavir). The comparative studies (trials and cohorts) failed to find statistically significant results indicating that none of the antivirals they examined were effective in reducing mortality for SARS or MERS. One cohort study 10 of MERS patients found that treatment with ribavirin and interferons significantly increased 90-day mortality risk (adjusted odds ratio: 2.27, 95% CI 1.20-4.32). The patients in this cohort were generally older (median age 57 (IQR 47-70)) and had a number of underlying chronic conditions including diabetes, cardiovascular disease, chronic lung, renal, or liver disease and malignancy including leukemia or lymphoma which may in part explain the increased risk. One retrospective study 20 of SARS patients found the 21-day mortality rate was significantly higher in a cohort of patients treated with ribavirin compared to matched historical controls (6.5%, 95% CI 1.9% to 11.8%). Patients in this study were largely middle aged (34 to 57 years of age); however a large proportion of patients that died (approximately 80%) had underlying conditions such as diabetes or cancer.')], 'paper': 'Effectiveness and safety of antiviral or antibody treatments for coronavirus A rapid review Prepared for Public Health Agency of Canada'}\n",
      "{'design': [('Introduction', 'Meanwhile, a total of 44,377 confirmed cases and 1,446 deaths was reported in other 108 countries or regions.Currently, there are no approved specific antiviral agents targeting the novel virus, while some drugs are still under investigation, including remdesivir and lopinavir/ritonavir (4, 5) . Although remdesivirwas reported to possess potential antiviral effectin one COVID-19 patient from the U.S., randomized controlled trials of this drug are ongoing to determine its safety and efficacy (6) .')], 'risk': [('General characteristics of Patients in the trial', 'From January 23, 2020, to February 19, 2020, ten severe COVID-19 patients (six males and four females) were enrolled and received CP transfusion. The median age was 52.5 years (IQR, 45.0-59.5 years) ( Table 1) . None of the patients had direct exposure to Huanan Seafood Wholesale Market. The median time from onset of symptoms to hospital admission and CP transfusion was 6 days (IQR, 2.5-8.5 days) and 16.5 days (IQR11.0-19.3 days), respectively. Three patients were affected by clustering infection. The most common symptoms at disease onset were fever (seven of ten patients), cough (eight cases), and shortness of breath (eight cases), while less common symptoms included sputum production (five cases), chest pain (two cases), diarrhea (two cases), nausea and vomiting (two cases), headache (one case), and sore throat (one case). Four patients had underlying chronic diseases, including cardiovascular and/or cerebrovascular diseases and essential hypertension. Nine patients received arbidolmonotherapy or combination therapy with remdesivir (in one case not included in the current clinical trial), or ribavirin,or peramivir, while one patient received ribavirin monotherapy (Table 2) . Antibacterial or antifungal treatment was used when patients had co-infection. Six patients received intravenousmethylprednisolone (20 mg every 24 hrs).')], 'paper': 'The feasibility of convalescent plasma therapy in severe COVID- 19 patients: a pilot study'}\n",
      "{'design': [('', \"East Respiratory Syndrome coronavirus (MERS-CoV). 2 As of March 9 th , 2020, COVID-19 has infected more than 100,000 people worldwide and caused more than 3,500 deaths, and the data are still increasing; in Wuhan, the fatality rate of COVID-19 was 4.8% (2404/49965). Of note, critically ill patients with COVID-19 have a high mortality rate. In a study of 52 critically ill patients in Wuhan, 32 (61.5%) patients died at 28 days and the mortality rate was 81.1% (30/37) in patients requiring mechanical ventilation. 3 Accumulated evidence has strongly demonstrated that systemic inflammatory response, acute kidney injury (AKI) and fluid overload (FO) were associated with high mortality in severe sepsis. [4] [5] [6] In critically ill patients with COVID-19, the overwhelming inflammation including C-reactive protein (CRP) and interleukin (IL)-6, IL-8, IL-10, tumor necrosis factor \\\\u03b1 (TNF-\\\\u03b1) were observed, 7-10 which is consistent with patients suffering from SARS-CoV 11 and MERS-CoV. 12 Continuous renal replacement therapy (CRRT) is a great help in critically ill patients not only to control of electrolyte, acid-base derangements but also to remove inflammatory mediators and improves oxygenation in fluid overload. [13] [14] [15] CRRT has been applied to critically ill patients, including patients with SARS-CoV, MERS-CoV and other viral infectious diseases such as Ebola virus disease. 14, 16 However, the benefits of CRRT are still no consistent conclusion in critically ill patients. 17 CRRT significantly reduced the level of IL-6 and decreases hospital mortality rate in pediatric severe sepsis, especially in patients with acute respiratory distress syndrome (ARDS). 18 Besides, a meta-analysis revealed that patients who received CRRT had significantly lower mortality compared to conventional therapy. 19 Hoverer, CRRT was associated with increased mortality in patients with MERS-CoV. 16 The relationship between CRRT and patients' outcome varied in patients with the different disease and was effected by the modalities, anticoagulation, vascular access management, timing of initiation and intensity of CRRT. 17, 20, 21 To date, no specific treatment has been confirmed to be effective for COVID-19, and supportive treatment remains essential. As far as we know, the effect of CRRT on critically ill patients with COVID-19 has not been reported. In this retrospective cohort study, we aimed to explore the effect of CRRT on all-cause mortality in patients with COVID-19 undergoing invasive mechanical ventilation and the risk factors for mortality in patients with CRRT treatment.\")], 'risk': [('Description of the cohort', 'In total, 36 COVID-19 patients with invasive mechanical ventilation were enrolled in the study. Table 1 showed the baseline characteristics of the cohort patients. There were 30 men (83.3%) and 6 women (16.7%), ranging in age from 44 and 86 years. Common comorbidity factors in COVID-19 patients with invasive mechanical ventilation were hypertension (n=14, 38.9%) and cardiac disease (n=12, 33.3%). The mean/median level of inflammatory markers (including white blood cell count, neutrophil count, hCRP, procalcitonin, and ferritin) and cardiac injury biomarkers (including hs-cTnI and NT-proBNP) were higher than normal.')], 'paper': 'Effect of continuous renal replacement therapy on all-cause mortality in COVID-19 patients undergoing invasive mechanical ventilation: a retrospective cohort study'}\n",
      "{'design': [('Data sources and data extraction', 'This was a retrospective cohort study that collected data from patients with COVID-19 throughout China, under the coordination of the National Health Commission which mandated the reporting of clinical information from individual designated hospitals which admitted patients with COVID-19.')], 'risk': [('Introduction', 'The clinical manifestations of COVID-19 are, according to the latest reports [3] [4] [5] [6] [7] [8] , largely heterogeneous. On admission, 20-51% of patients reported as having at least one comorbidity, with diabetes (10-20%), hypertension (10-15%) and cardiovascular and cerebrovascular diseases (7-40%) being most common [3, 4, 6] . Previous studies have demonstrated that the presence of any comorbidity has been associated with a 3.4-fold increased risk of developing acute respiratory distress syndrome in patients with H7N9 infection [9] . Similar with influenza [10] [11] [12] [13] [14] , Severe Acute . CC-BY-NC-ND 4.0 International license It is made available under a author/funder, who has granted medRxiv a license to display the preprint in perpetuity.'), ('Data sources and data extraction', \"Comorbidities were determined based on patient's self-report on admission. Comorbidities were initially treated as a categorical variable (Yes vs. No) , and subsequently classified based on the number (Single vs. Multiple). Furthermore, comorbidities were sorted according to the organ systems (i.e. respiratory, cardiovascular, endocrine). Comorbidities that were classified into the same organ system (i.e. coronary heart disease, hypertension) would be merged into a single category.\"), ('Discussion', 'Overall, our findings have echoed the recently published studies in terms of the commonness of comorbidities in patients with . Despite considerable variations in the proportion in individual studies due to the limited sample size and the region where patients were managed, circulatory diseases (including hypertension and coronary heart diseases) remained the most . CC-BY-NC-ND 4.0 International license It is made available under a author/funder, who has granted medRxiv a license to display the preprint in perpetuity.'), ('Discussion', 'is the (which was not peer-reviewed) The copyright holder for this preprint Except for diabetes, no other comorbidities were identified to be the predictors of poor clinical outcomes in patients with MERS-CoV infections [21] . Few studies, however, have explored the . CC-BY-NC-ND 4.0 International license It is made available under a author/funder, who has granted medRxiv a license to display the preprint in perpetuity. There has been a considerable overlap in the comorbidities which has been widely accepted. For instance, diabetes [29] and COPD [30] frequently co-exist with hypertension or coronary heart diseases. Therefore, patients with co-existing comorbidities are more likely to have poorer baseline well-being. Importantly, we have verified the significantly escalated risk of poor prognosis in patients with two or more comorbidities as compared with those who had no or only a single comorbidity. Our findings implied that both the category and number of comorbidities should be taken into account when predicting the prognosis in patients with COVID-19.'), ('Acknowledgment:', 'We thank the hospital staff (see Supplementary Appendix for the full list) for . CC-BY-NC-ND 4.0 International license It is made available under a author/funder, who has granted medRxiv a license to display the preprint in perpetuity.'), ('Figure 2. Predictors of the composite endpoints in the proportional hazards model', 'The model has been adjusted with age and smoking status . CC-BY-NC-ND 4.0 International license It is made available under a author/funder, who has granted medRxiv a license to display the preprint in perpetuity.')], 'paper': 'performed data analysis'}\n",
      "{'design': [('Literature search', 'The copyright holder for this preprint (which was not peer-reviewed) is . https://doi.org/10.1101/2020.03. 15.20035360 doi: medRxiv preprint Table 1 shows details of all included studies including reported findings pertaining to symptoms and comorbidities related to disease severity or ICU admission. These 7 studies reported on a total of 1813 patients. All included studies were retrospective cohort studies in design, conducted between December 2019 and February 2020 in China, during the novel coronavirus (SARS-2-CoV) outbreak. Guan et al (10) conducted the largest study with 1099 COVID-19 patients, whilst Huang et al (9) included 40 patients in their study. The number of symptoms investigated varied from 5 in one study (13) to 14 in others (10, 11) . The range of comorbidities investigated varied greatly with two studies not including any (13, 14) and one including 22 comorbidities (12) . '), ('Quality of Included Studies', 'All 7 included studies were retrospective cohort studies, and were critically appraised using the STROBE checklist (17) . The 22 items on the STROBE checklist were formulated into 47 individual indicators, against which each study was marked. Figure 2 illustrates the proportion of included studies which met each individual appraisal indicator. Each paper was assigned an overall quality score based on the percentage of STROBE checklist criteria met (<55% = -, 55-65% = +, >65% = ++), as outlined in Table 1 .')], 'risk': [('Predictors and Outcomes', 'The symptoms or comorbidities presented were investigated in at least three included studies. Where studies measured symptoms ambiguously (including abdominal pain/diarrhea (8) , myalgia/fatigue (9) , and nausea/vomiting (10)), this data was excluded. Some studies reported heart disease and stroke separately (10) (11) (12) . To allow comparability between studies for meta-analysis, these were grouped into a single predictor (cardiovascular disease). One study was excluded from the analysis of dyspnoea as a predictor of severity, as dyspnoea was part of the definition for severity used by the authors (13) .'), ('Quality of Included Studies', 'The copyright holder for this preprint (which was not peer-reviewed) is . https://doi.org/10.1101/2020.03. 15.20035360 doi: medRxiv preprint Tables 3 and 4 show the odds ratios, 95% confidence intervals and p-values for the individual symptoms and comorbidities that were investigated in at least three of the included studies, for both severe disease and ICU admission, respectively. A total of seven symptoms were included in the model for severe disease and six for ICU admission, as well as four comorbidities in both. The most prevalent symptoms in the severe group were cough (70.5%), fever (64.1%) and fatigue (44.5%); in the ICU group these were cough (67.2%), fever (62.9%) and dyspnoea (61.2%). The most prevalent comorbidities in the severe group were hypertension (25.4%) and diabetes (16.8%) and in the ICU group were hypertension (40.5%) and CVD (24.1%).'), ('Meta-analysis', 'Although no more likely to be in the severe group, men were 1.55 times more likely than women to be admitted to ICU (95% CI 1.02 -2.36). Dyspnoea was the only symptom significantly associated with both severe disease (pOR 3.70, 95% CI 1.83 -7.46) and ICU admission (pOR 6.55, 95% CI 4.28-10.0), being more strongly associated with the latter. Cough was associated with severe disease (pOR 1.63, 95% respectively. In contrast, diabetes was not significantly associated with ICU admission, although the Tau-squared value here was unusually high implying a high level of heterogeneity between studies in this particular case.'), ('Meta-analysis', 'The findings reported here are in keeping with current knowledge that the elderly and those with comorbidities are more susceptible to severe infection. those with: cardiovascular disease (10.5%), diabetes (7.3%), chronic respiratory disease (6.3%) and hypertension (6.0%) (19) . Unlike the China CDC study (19) that presented case fatality rates for different groups, our findings compare those with particular comorbidities to those without, allowing us to estimate the effect of a particular comorbidity on COVID-19 severity. Although we did not investigate death (and included COPD rather than chronic respiratory disease), our analysis similarly suggests that comorbidities are not uniform in terms of the risk of severe COVID-19 disease. Despite being uncommon in our study population, COPD was by far the strongest risk factor for COVID-19 severity, followed by CVD and hypertension.'), ('Implications for clinical practice/public health', 'Identifying those at high-risk will aid the public health response in controlling the spread of disease. Given the ubiquity of comorbidities in the elderly population, and their increased susceptibility to severe COVID-19 infection (18), knowledge on the differing prevalence and risk of various conditions may help to focus and tailor public health efforts such as the screening of asymptomatic individuals, risk communication, contact tracing, self-isolation and social distancing. For instance, for COPD, which is less common in the general population and very strongly associated with ICU admission, a more targeted and intensive health protection strategy may be warranted, compared to other conditions (such as hypertension) that are more difficult to target due to their higher prevalence in the general population.'), ('Conclusions', 'The copyright holder for this preprint (which was not peer-reviewed) is . https://doi.org/10.1101/2020.03. 15.20035360 doi: medRxiv preprint and severe disease is not homogenous. Whilst COPD, cardiovascular disease, and hypertension were all associated with severity, COPD was the most strongly predictive. When looking at ICU-admitted patients, who represent the more severe end of the spectrum of clinical severity, the difference in effect sizes for COPD and the other included comorbidities was large, suggesting COPD patients are particularly vulnerable to critically severe disease. As the outbreak develops, future research must aim to substantiate these findings by investigating factors related to disease severity. This will aid clinical assessment, risk stratification, and resource allocation, and allow public health interventions to be targeted at the most vulnerable.')], 'paper': 'Title Systematic review and meta-analysis of predictive symptoms and comorbidities for severe COVID-19 infection'}\n",
      "{'design': [('', 'The recent outbreak of coronavirus disease 2019 (COVID-19), caused by a new zoonotic coronary virus, SARS-CoV-2 [1] , is being a great threat to public health. Up to February 11, 2020, it is reported that over 70,000 persons have been infected with SARS-CoV-2 in China [2] . The COVID-19 caused by SARS-CoV-2 infection represents a spectrum of clinical severity [3] [4] [5] . Some patients are asymptomatic or have merely mild upper respiratory tract symptoms. However, SARS-CoV-2 causes pneumonia that can be severe and characterized by fever, cough, dyspnea, bilateral pulmonary infiltrates, and acute respiratory injury. It is estimated that approximately 20% of patients are developing severe respiratory illness, with the overall mortality around 2.3% [2] . Thereby, it is critical to identify individuals who confer intrinsic susceptibility to become severe or even critically ill upon infection, for the purposes of prevention and treatment, especially when there is no drug directly targeting at SARS-CoV-2 that has been proven to be clinically effective. In the study, we explored potential host risk factors associated with severe cases at admission in a retrospective cohort of 487 patients in Zhejiang Province of China and attempt to establish a score system to identify high-risk individuals. We reviewed medical records, laboratory findings, and pulmonary CT scan of each patient with COVID-19, provided by the local health authority and inputted into a pre-specified electronic data collection form. Clinical outcomes were followed up to February 17, 2020. The primary endpoint was occurrence of death and severe cases.')], 'risk': [('', 'A total of 487 COVID-19 patients were included for analysis, with 49 (10.1%) severe cases at admission. As shown in Table 1 , severe cases are elderly (56 (17) vs. 45 (19), P < 0.001), with more male (73.5% vs. 50.9%, P = 0.003). They have a higher incidence of hypertension (53.1% vs. 16.7%, P < 0.001), diabetes (14.3% vs. 5.0%, P = 0.009), cardiovascular diseases (8.2% vs. 1.6%, P = 0.003), and malignancy (4.1% vs. 0.7%, P = 0.025), and less exposure to epidemic area (49.0% vs. 65.1%, P = 0.027), but more infected family members (P = 0.031). On multivariate analysis, elder age (OR 1.06 [95% CI 1.03-1.08], P < 0.001), male (OR 3.68 [95% CI 1.75-7.75], P = 0.001), and presence of hypertension (OR 2.71 [95% CI 1.32-5.59], P = 0.007) are independently associated with severe disease at admission, irrespective of adjustment of time to admission.'), ('', 'In summary, by identifying host risk factors associated with severe COVID-19, this study shed light on the underlying mechanisms of disease progression. In particular, the major finding that hypertension is a host risk factor for severe COVID-19 may underscore the involvement of renin-angiotensin system (RAS) in the pathogenesis of this disease. Additionally, the host risk score provides a useful tool to identify high-risk individuals, which is helpful for designing specific strategies for prevention and treatment of this disease. But further studies, particularly those enrolling Wuhan patients, are needed to validate the findings. Data are expressed as mean \\\\u00b1 standard deviation (SD), median (interquartile range), or number (percent). Comparisons between mild and severe cases were performed by the Mann-Whitney U test or a chi-square test Fig. 1 Definition of host risk factor score and incidences of severe cases by host risk score. The host risk factor score was calculated by the sum of three variables (a). The incidences of severe cases at admission (b) or developing during hospitalization (c) were compared across the different score groups by a linear-by-linear association test')], 'paper': 'Host susceptibility to severe COVID-19 and establishment of a host risk score: findings of 487 cases outside Wuhan'}\n",
      "{'design': [(\"Guideline's structural setup and refining the topics and coverage of this guideline\", \"Considering the lack of direct evidence for this newly identified 2019-nCoV infection, we searched and referred to the guidelines that related to the SARS (Severe Acute Respiratory Syndrome), MERS (Middle East Respiratory Syndrome), and influenza. We also referred to the guidelines which were newly-issued by the National Health Commission of People's Republic of China and WHO for 2019-nCoV. In addition, we have an independent literature searching team to search available indirect evidence from systematic reviews and/or RCTs (randomized controlled trials), which were for the treatment and/ or chemoprophylaxis of SARS, MERS, or other influenza virus infections.\"), ('Drug treatment 6.3.1 Antiviral treatment', \"Low-level evidences included retrospective cohort, historically controlled studies, case reports, and case series revealed that lopinavir/ritonavir alone or in combination with antivirals produced certain benefits in the treatment of SARS and MERS, such as reducing the incidence or mortality of ARDS [26] [27] [28] [29] . A recently systematic review showed that lopinavir/ritonavir's anti-coronavirus effect was mainly seen in its early application, for reducing patient mortality and reduced glucocorticoid consumption. However, if the early treatment window is missed, there will be no significant effect in their late application [30] . Real-world study stills need to further explore the clinical effects of its early use in 2019-nCoV infected pneumonia.\")], 'risk': [('Background', 'Medical professionals require an up-to-date guideline to follow when an urgent healthcare problem emerging. In response to the requests for reliable advice from frontline clinicians and public healthcare professionals managing 2019-nCoV pandemics, we developed this rapid advance guideline, involving disease epidemiology, etiology, diagnosis, treatment, nursing, and hospital infection control for clinicians, and also for public health workers and community residents.'), ('Prognostic factors', 'The population is generally susceptible to the virus. The elderly and those with underlying diseases show more serious conditions after infection, and children and infants also get infected by the 2019-nCoV. From current knowledge of the cases, most patients have a good prognosis, the symptoms of children are relatively mild, and a few patients are in critical condition. Death cases are more frequently seen in the elderly and those with chronic underlying diseases [12] . The newest study including the first 41 confirmed cases admitted to Wuhan between 16 December 2019 and 2 January 2020 showed the median age of patients was 49 years; and the main underlying diseases were diabetes, hypertension, and cardiovascular diseases. Of them, 12 cases experienced acute respiratory distress syndrome (ARDS), 13 cases were admitted to the intensive care unit (ICU), and 6 cases died [16] . Patients with any 2 of the following clinical features and any epidemiological risk: (1) clinical features: fever, imaging features of pneumonia, normal or reduced white blood cell count, or reduced lymphocyte count in the early stages of the disease onset. (2) epidemiologic risk: a history of travel to or residence in Wuhan city, China or other cities with continuous transmission of local cases in the last 14 days before symptom onset; contact with patients with fever or respiratory symptoms from Wuhan city, China or other cities with continuous transmission of local cases in the last 14 days before symptom onset; or epidemiologically connected to 2019-nCoV infections or clustered onsets [12] .'), ('Strong 2', \"Avoid direct contact with patient's secretions or discharges, especially oral or respiratory discharges; avoid direct contact with patient's feces. (2) Multiple, patchy or large patches of consolidation in both lungs, with a little grid-like or honeycombshaped interlobular septal thickening, especially in the middle and lower lobes ( Fig. 3: 26 cases, 31.3% in a total of 83 cases). It was more common in the elderly or severe condition patients.\"), ('Strong', 'Atypical CT/X-ray imaging manifestation, including (1) Single, or multiple, or extensive subpleural grid-like or honeycomb-like thickening of interlobular septum, thickening of the bronchial wall, and tortuous and thick strand-like opacity. Several patchy consolidations, occasionally with a small amount pleural effusion or enlargement of mediastinal lymph nodes, can be seen ( Fig. 4 : 6 cases, 7.2% in a total of 83 cases). This is mostly seen in the elderly.'), ('Sequential oxygen care', \"The critically illed patients mainly use oxygen therapy such as HFNO, NIV and invasive mechanical ventilation. When using various oxygen treatments in a sequential manner, the airway and breathing circuit need to be kept open, and the effect of oxygen treatment needs to be monitored dynamically. At the same time, skincare products need to be used reasonably to avoid damage to the nose, face and lips by pressure. When using a high-flow nasal catheter to inhale oxygen, the oxygen flow and temperature and humidity should be adjusted appropriately. When using non-invasive mechanical ventilation, patient should receive relevant health education. Patients are instructed to inhale through the nose. The pressure is set from low to high and gradually reaches the target value. The human-machine coordination is maximized. The patient's consciousness and respiratory function are closely observed. Patients with artificial airway established should use a closed suction tube to reduce virus spread. Nurses should wear goggles or a face shield to avoid occupational exposure.\")], 'paper': ''}\n",
      "{'design': [('PRevIous ePIdeMIcs cAused by coRonAvIRuses', 'Currently, randomized controlled trials have not shown any specific antiviral treatment to be effective for COVID-19. Therefore, treatment is based on symptomatic and supportive care, with intensive care measures for the most severe cases (22) . However, many forms of specific treatment are being tried, with various results, such as with remdesivir, lopinavir/ritonavir, chloroquine phosphate, convalescent plasma from patients who have recovered from COVID-19, and others (23) (24) (25) (26) .')], 'risk': [('', 'Since the 1960s, coronaviruses have caused a wide variety of human and animal diseases. In humans, they cause up to a third of all community-acquired upper respiratory tract infections, such as the common cold, pharyngitis, and otitis media. However, more severe forms of bronchiolitis, exacerbations of asthma, and pneumonia in children and adults have also been described, sometimes with fatal outcomes in infants, the elderly, and the immunocompromised. Some coronaviruses are associated with gastrointestinal disease in children. Sporadic infections of the central nervous system have also been reported, although the role of coronaviruses in infections outside the respiratory tract has not been completely clarified (8) .'), ('PRevIous ePIdeMIcs cAused by coRonAvIRuses', 'In less than a year, SARS-CoV infected 8098 people in 26 countries, of whom 774 died (10, 11) . Approximately 25% of the patients developed organ failure, most often acute respiratory distress syndrome (ARDS), requiring admission to an intensive care unit (ICU), while the case fatality rate (CFR) was 9.6%. However, in elderly patients (>60 years), the CFR was over 40%. Poor outcomes were seen in patients with certain comorbidities (diabetes mellitus and hepatitis B virus infection), patients with atypical symptoms, and those with elevated lactic acid dehydrogenase (LDH) values on admission. Interestingly, the course of the disease was biphasic in 80% of the cases, especially those with severe clinical profiles, suggesting that immunological mechanisms, rather than only the direct action of SARS-CoV, are responsible for some of the complications and fatal outcomes (8, 9) .'), ('PRevIous ePIdeMIcs cAused by coRonAvIRuses', 'From 2012 to the end of January 2020, over 2500 laboratory-confirmed MERS cases, including 866 associated deaths, were reported worldwide in 27 countries (13) . The largest number of such cases has been reported among the elderly, diabetics, and patients with chronic diseases of the heart, lungs, and kidneys. Over 80% of the patients required admission to the ICU, most often due to the development of ARDS, respiratory insufficiency requiring mechanical ventilation, acute kidney injury, or shock. The CFR is around 35%, and even 75% in patients >60 years of age. However, MERS-CoV, unlike its predecessor SARS-CoV, did not disappear, but still circulates among animal and human populations, occasionally causing outbreaks, either in connection with exposure to camels or infected persons (12) .'), ('PRevIous ePIdeMIcs cAused by coRonAvIRuses', 'The full clinical spectrum of COVID-19 ranges from asymptomatic cases, mild cases that do not require hospitalization, to severe cases that require hospitalization and ICU treatment, and those with fatal outcomes. Most cases were classified as mild (81%), 14% as severe, and 5% as critical (ie, respiratory failure, septic shock, and/or multiple organ dysfunction or failure). The overall CFR was 2.3%, while the rate in patients with comorbidities was considerably higher -10.5% for cardiovascular disease, 7.3% for diabetes, 6.3% for chronic respiratory diseases, 6.0% for hypertension, and 5.6% for cancer. The CFR in critical patients was as high as 49.0% (4).')], 'paper': ''}\n",
      "{'design': [('Study Identification and Selection', \"Examples of search strings can be found in Table S1 . We searched for randomized controlled trials (RCTs) and validation trials (for diagnostics test) published in English, that measured (a) the sensitivity and/or specificity of a rapid diagnostic test or a point-of-care testing kit, (b) the impact of drug therapy or (c) vaccine efficacy against either of these diseases with no date restriction applied. For the 2019-nCoV, we searched for all in vitro, animal, or human studies published in English between 1 December 2019 and 6 February 2020, on the same outcomes of interest. In addition, we reviewed the references of retrieved articles in order to identify additional studies or reports not retrieved by the initial searches. Studies that examined the mechanisms of diagnostic tests, drug therapy or vaccine efficacy against SARS, MERS and 2019-nCoV were excluded. A Google search for 2019-nCoV diagnostics (as of 6 February 2020; Table S2 ) yielded five webpage links from government and international bodies with official information and guidelines (WHO, Europe CDC, US CDC, US FDA), three webpage links on diagnostic protocols and scientific commentaries, and five webpage links on market news and press releases. Six protocols for diagnostics using reverse transcriptase polymerase chain reaction (RT-PCR) from six countries were published on WHO's website [9] . Google search for 2019-nCoV vaccines yielded 19 relevant articles.\"), ('Potential Therapeutics', '[85] Besides the six completed randomized controlled trials (RCT) selected from the systematic review (Table 6) , there is only one ongoing randomized controlled trial targeted at SARS therapeutics [92] . The studies found from ClinicalTrials.gov have not been updated since 2013. While many prospective and retrospective cohort studies conducted during the epidemic centered on usage of ribavirin with lopinavir/ritonavir or ribavirin only, there has yet to be well-designed clinical trials investigating their usage. Three completed randomized controlled trials were conducted during the SARS epidemic-3 in China, 1 in Taiwan and 2 in Hong Kong [93] [94] [95] [96] [97] . The studies respectively investigated antibiotic usage involving 190 participants, combination of western and Chinese treatment vs. Chinese treatment in 123 participants, integrative Chinese and Western treatment in 49 patients, usage of a specific Chinese medicine in four participants and early use of corticosteroid in 16 participants. Another notable study was an open non-randomized study investigating ribavirin/lopinavir/ritonavir usage in 152 participants [98] . One randomized controlled trial investigating integrative western and Chinese treatment during the SARS epidemic was excluded as it was a Chinese article [94] .'), ('Potential Therapeutics', 'There is only one ongoing randomized controlled trial targeted at MERS therapeutics [99] . It investigates the usage of Lopinavir/Ritonavir and Interferon Beta 1B. Likewise, many prospective and retrospective cohort studies conducted during the epidemic centered on usage of ribavirin with lopinavir/ritonavir/ribavirin, interferon, and convalescent plasma usage. To date, only one trial has been completed. One phase 1 clinical trial investigating the safety and tolerability of a fully human polyclonal IgG immunoglobulin (SAB-301) was found in available literature [46] . The trial conducted in the United States in 2017 demonstrated SAB-301 to be safe and well-tolerated at single doses. Another trial on MERS therapeutics was found on ClinicalTrials.gov-a phase 2/3 trial in the United States evaluating the safety, tolerability, pharmacokinetics (PK), and immunogenicity on coadministered MERS-CoV antibodies REGN3048 & REGN3051 [100].'), ('Therapeutics', 'Many interferons from the three classes have been tested for their antiviral activities against SARS-CoV both in vitro and in animal models. Interferon \\\\u03b2 has consistently been shown to be the most active, followed by interferon \\\\u03b1. The use of corticosteroids with interferon alfacon-1 (synthetic interferon \\\\u03b1) appeared to have improved oxygenation and faster resolution of chest radiograph abnormalities in observational studies with untreated controls. Interferon has been used in multiple observational studies to treat SARS-CoV and MERS-CoV patients [116, 117] . Interferons, with or without ribavirin, and lopinavir/ritonavir are most likely to be beneficial and are being trialed in China for 2019-nCoV. This drug treatment appears to be the most advanced. Timing of treatment is likely an important factor in effectiveness. A combination of ribavirin and lopinavir/ritonavir was used as a post-exposure prophylaxis in health care workers and may have reduced the risk of infection. Ribavirin alone is unlikely to have substantial antiviral activities at clinically used dosages. Hence, ribavirin with or without corticosteroids and with lopinavir and ritonavir are among the combinations employed. This was the most common agent reported in the available literature. Its efficacy has been assessed in observational studies, retrospective case series, retrospective cohort study, a prospective observational study, a prospective cohort study and randomized controlled trial ranging from seven to 229 participants [117] . Lopinavir/ritonavir (Kaletra) was the earliest protease inhibitor combination introduced for the treatment of SARS-CoV. Its efficacy was documented in several studies, causing notably lower incidence of adverse outcomes than with ribavirin alone. Combined usage with ribavirin was also associated with lower incidence of acute respiratory distress syndrome, nosocomial infection and death, amongst other favorable outcomes. Recent in vitro studies have shown another HIV protease inhibitor, nelfinavir, to have antiviral capacity against SARS-CoV, although it has yet to show favorable outcomes in animal studies [118] . Remdesivir (Gilead Sciences, GS-5734) nucleoside analogue in vitro and in vivo data support GS-5734 development as a potential pan-coronavirus antiviral based on results against several coronaviruses (CoVs), including highly pathogenic CoVs and potentially emergent BatCoVs. The use of remdesivir may be a good candidate as an investigational treatment.')], 'risk': [('Therapeutics', 'Apart from the timely diagnosis of cases, the achievement of favorable clinical outcomes depends on the timely treatment administered. ACE2 has been reported to be the same cell entry receptor used by 2019-nCoV to infect humans as SARS-CoV [113] . Hence, clinical similarity between the two viruses is expected, particularly in severe cases. In addition, most of those who have died from MERS-CoV, SARS-CoV and 2019-nCoV were advance in age and had underlying health conditions such as hypertension, diabetes or cardiovascular disease that compromised their immune systems [114] . Coronaviruses have error-prone RNA-dependent RNA polymerases (RdRP), which result in frequent mutations and recombination events. This results in quasispecies diversity that is closely associated with adaptive evolution and the capacity to enhance viral-cell entry to cause disease over time in a specific population at-risk [115] . Since ACE2 is abundantly present in humans in the epithelia of the lung and small intestine, coronaviruses are likely to infect the upper respiratory and gastrointestinal tract and this may influence the type of therapeutics against 2019-nCoV, similarly to SAR-CoV.')], 'paper': 'Potential Rapid Diagnostics, Vaccine and Therapeutics for 2019 Novel Coronavirus (2019-nCoV): A Systematic Review'}\n"
     ]
    }
   ],
   "source": [
    "for match in match_arr:\n",
    "    if len(match.keys()) > 2:\n",
    "        print(match)"
   ]
  },
  {
   "cell_type": "code",
   "execution_count": null,
   "metadata": {},
   "outputs": [],
   "source": []
  },
  {
   "cell_type": "markdown",
   "metadata": {},
   "source": [
    "## Design vs Risk Analysis"
   ]
  },
  {
   "cell_type": "code",
   "execution_count": 32,
   "metadata": {
    "scrolled": true
   },
   "outputs": [
    {
     "name": "stdout",
     "output_type": "stream",
     "text": [
      "['retrospective cohort', 'cross-sectional case-control', 'prevalence survey', 'systematic review , meta-analysis', 'matched case-control', 'medical records review', 'observational case series', 'time series analysis', 'pseudo-randomized controlled trials', 'randomized controlled trials']\n"
     ]
    }
   ],
   "source": [
    "print(words)"
   ]
  },
  {
   "cell_type": "code",
   "execution_count": 50,
   "metadata": {},
   "outputs": [
    {
     "name": "stdout",
     "output_type": "stream",
     "text": [
      "['diabetes', 'hypertension', 'heart disease', 'cancer', 'smoking status', 'history of lung disease', 'local climate', 'elderly', 'small children', 'immune compromised groups', 'age deciles among adults between the ages of 15 and 65', 'race/ethnicity', 'education', 'income', 'insurance status', 'housing status', 'immigration status', 'prison inmates', 'mental hospital inpatients', 'long-term care facility residents', 'health workers', 'first responders', 'hospital staff', 'nursing home staff', 'prison staff', 'pregnancy status', 'neonates']\n"
     ]
    }
   ],
   "source": [
    "print(risk_factors)"
   ]
  },
  {
   "cell_type": "code",
   "execution_count": 38,
   "metadata": {},
   "outputs": [
    {
     "name": "stdout",
     "output_type": "stream",
     "text": [
      "It has now been more than 70 years that corticosteroids (CS) are pivotal for RA management and their role as remission inducer and bridging therapy for the management of disease flare has recently been renewed by the latest update of EULAR recommendations for RA treatment [36] . Even though CS efficacy in rapidly suppressing inflammation during RA initial course or flares is well recognized [37] , their downside is the broad spectrum of adverse events, including severe infections and the high risk of developing comorbidities further increasing the risk of infection [27, 38] . Although RCTs conducted in the past with CS showed no higher risk of infections in RA patients [39] [40] [41] , cohort and case-control studies reported increased rates of overall infections in RA patients treated with CS, according to a dosedependent fashion [42] . The majority of these infectious events are of bacterial etiology, but RA patients receiving CS exhibit a greater risk of developing even viral infections. As an example, a 2012 retrospective cohort-study demonstrated an increased risk of Herpes Zoster infections with an incidence rate of 8.54 cases per 1000 patient-years in CS treated population [29] .\n"
     ]
    }
   ],
   "source": [
    "print(match_arr[0][1])"
   ]
  },
  {
   "cell_type": "code",
   "execution_count": 49,
   "metadata": {},
   "outputs": [],
   "source": [
    "for factor in risk_factors:\n",
    "    for match in match_arr:\n",
    "        if factor.lower() in match[1].lower():\n",
    "            print(factor, '\\n', match)\n",
    "            print('=======================================================================================')"
   ]
  },
  {
   "cell_type": "code",
   "execution_count": null,
   "metadata": {},
   "outputs": [],
   "source": []
  }
 ],
 "metadata": {
  "kernelspec": {
   "display_name": "Python 3",
   "language": "python",
   "name": "python3"
  },
  "language_info": {
   "codemirror_mode": {
    "name": "ipython",
    "version": 3
   },
   "file_extension": ".py",
   "mimetype": "text/x-python",
   "name": "python",
   "nbconvert_exporter": "python",
   "pygments_lexer": "ipython3",
   "version": "3.7.6"
  }
 },
 "nbformat": 4,
 "nbformat_minor": 2
}
