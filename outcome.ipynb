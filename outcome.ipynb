{
 "cells": [
  {
   "cell_type": "markdown",
   "metadata": {},
   "source": [
    "## What do we know about COVID-19 risk factors?\t\n",
    "## Data on potential risk factors: Smoking, pre-existing pulmonary disease"
   ]
  },
  {
   "cell_type": "code",
   "execution_count": 151,
   "metadata": {},
   "outputs": [],
   "source": [
    "root = '/Users/u6066091/Desktop/kaggle'"
   ]
  },
  {
   "cell_type": "code",
   "execution_count": 3,
   "metadata": {},
   "outputs": [],
   "source": [
    "import pandas as pd"
   ]
  },
  {
   "cell_type": "code",
   "execution_count": 18,
   "metadata": {},
   "outputs": [],
   "source": [
    "terms = pd.read_csv(root + '/input/corona_challenge/COVID-19_dictionary_sub_question.csv')\n",
    "risk_factors = pd.read_csv(root + '/input/corona_challenge/COVID-19 medical_dictionary-difference.dictionary.csv')"
   ]
  },
  {
   "cell_type": "code",
   "execution_count": 13,
   "metadata": {},
   "outputs": [
    {
     "data": {
      "text/html": [
       "<div>\n",
       "<style scoped>\n",
       "    .dataframe tbody tr th:only-of-type {\n",
       "        vertical-align: middle;\n",
       "    }\n",
       "\n",
       "    .dataframe tbody tr th {\n",
       "        vertical-align: top;\n",
       "    }\n",
       "\n",
       "    .dataframe thead th {\n",
       "        text-align: right;\n",
       "    }\n",
       "</style>\n",
       "<table border=\"1\" class=\"dataframe\">\n",
       "  <thead>\n",
       "    <tr style=\"text-align: right;\">\n",
       "      <th></th>\n",
       "      <th>Task</th>\n",
       "      <th>Question</th>\n",
       "      <th>Subquestion</th>\n",
       "      <th>Outcome.list</th>\n",
       "      <th>Differences.list</th>\n",
       "      <th>Design.list</th>\n",
       "      <th>Notes</th>\n",
       "    </tr>\n",
       "  </thead>\n",
       "  <tbody>\n",
       "    <tr>\n",
       "      <th>0</th>\n",
       "      <td>What is known about transmission, incubation, ...</td>\n",
       "      <td>Range of incubation periods for the disease in...</td>\n",
       "      <td>Range of incubation periods for humans: genera...</td>\n",
       "      <td>incubation period</td>\n",
       "      <td>age.</td>\n",
       "      <td>contact tracing, survival analysis, time-to-ev...</td>\n",
       "      <td>https://www.ncbi.nlm.nih.gov/pmc/articles/PMC4...</td>\n",
       "    </tr>\n",
       "    <tr>\n",
       "      <th>1</th>\n",
       "      <td>What is known about transmission, incubation, ...</td>\n",
       "      <td>Range of incubation periods for the disease in...</td>\n",
       "      <td>Range of incubation periods for humans: by age...</td>\n",
       "      <td>incubation period, stratified by age group</td>\n",
       "      <td>age.</td>\n",
       "      <td>contact tracing, survival analysis, time-to-ev...</td>\n",
       "      <td>Notes</td>\n",
       "    </tr>\n",
       "    <tr>\n",
       "      <th>2</th>\n",
       "      <td>What is known about transmission, incubation, ...</td>\n",
       "      <td>Range of incubation periods for the disease in...</td>\n",
       "      <td>Range of incubation periods for humans: by hea...</td>\n",
       "      <td>incubation period, stratified by health status...</td>\n",
       "      <td>health status (diabetes, hypertension, heart d...</td>\n",
       "      <td>contact tracing, survival analysis, time-to-ev...</td>\n",
       "      <td>Notes</td>\n",
       "    </tr>\n",
       "    <tr>\n",
       "      <th>3</th>\n",
       "      <td>What is known about transmission, incubation, ...</td>\n",
       "      <td>Range of incubation periods for the disease in...</td>\n",
       "      <td>How long are individuals contagious, even afte...</td>\n",
       "      <td>infectious period, serial interval, generation...</td>\n",
       "      <td>age, health status (diabetes, hypertension, he...</td>\n",
       "      <td>excretion profiles from experimental infection...</td>\n",
       "      <td>https://idpjournal.biomedcentral.com/articles/...</td>\n",
       "    </tr>\n",
       "    <tr>\n",
       "      <th>4</th>\n",
       "      <td>What is known about transmission, incubation, ...</td>\n",
       "      <td>Prevalence of asymptomatic shedding and transm...</td>\n",
       "      <td>Prevalence of asymptomatic shedding: general p...</td>\n",
       "      <td>nasal carriage, asymptomatic shedding</td>\n",
       "      <td>age, health status (diabetes, hypertension, he...</td>\n",
       "      <td>population prevalence survey using nasopharyng...</td>\n",
       "      <td>https://www.ncbi.nlm.nih.gov/pmc/articles/PMC6...</td>\n",
       "    </tr>\n",
       "  </tbody>\n",
       "</table>\n",
       "</div>"
      ],
      "text/plain": [
       "                                                Task  \\\n",
       "0  What is known about transmission, incubation, ...   \n",
       "1  What is known about transmission, incubation, ...   \n",
       "2  What is known about transmission, incubation, ...   \n",
       "3  What is known about transmission, incubation, ...   \n",
       "4  What is known about transmission, incubation, ...   \n",
       "\n",
       "                                            Question  \\\n",
       "0  Range of incubation periods for the disease in...   \n",
       "1  Range of incubation periods for the disease in...   \n",
       "2  Range of incubation periods for the disease in...   \n",
       "3  Range of incubation periods for the disease in...   \n",
       "4  Prevalence of asymptomatic shedding and transm...   \n",
       "\n",
       "                                         Subquestion  \\\n",
       "0  Range of incubation periods for humans: genera...   \n",
       "1  Range of incubation periods for humans: by age...   \n",
       "2  Range of incubation periods for humans: by hea...   \n",
       "3  How long are individuals contagious, even afte...   \n",
       "4  Prevalence of asymptomatic shedding: general p...   \n",
       "\n",
       "                                        Outcome.list  \\\n",
       "0                                  incubation period   \n",
       "1         incubation period, stratified by age group   \n",
       "2  incubation period, stratified by health status...   \n",
       "3  infectious period, serial interval, generation...   \n",
       "4              nasal carriage, asymptomatic shedding   \n",
       "\n",
       "                                    Differences.list  \\\n",
       "0                                               age.   \n",
       "1                                               age.   \n",
       "2  health status (diabetes, hypertension, heart d...   \n",
       "3  age, health status (diabetes, hypertension, he...   \n",
       "4  age, health status (diabetes, hypertension, he...   \n",
       "\n",
       "                                         Design.list  \\\n",
       "0  contact tracing, survival analysis, time-to-ev...   \n",
       "1  contact tracing, survival analysis, time-to-ev...   \n",
       "2  contact tracing, survival analysis, time-to-ev...   \n",
       "3  excretion profiles from experimental infection...   \n",
       "4  population prevalence survey using nasopharyng...   \n",
       "\n",
       "                                               Notes  \n",
       "0  https://www.ncbi.nlm.nih.gov/pmc/articles/PMC4...  \n",
       "1                                              Notes  \n",
       "2                                              Notes  \n",
       "3  https://idpjournal.biomedcentral.com/articles/...  \n",
       "4  https://www.ncbi.nlm.nih.gov/pmc/articles/PMC6...  "
      ]
     },
     "execution_count": 13,
     "metadata": {},
     "output_type": "execute_result"
    }
   ],
   "source": [
    "terms.head()"
   ]
  },
  {
   "cell_type": "code",
   "execution_count": 123,
   "metadata": {},
   "outputs": [],
   "source": [
    "risk_eval = risk_factors['difference.variable']"
   ]
  },
  {
   "cell_type": "code",
   "execution_count": 178,
   "metadata": {},
   "outputs": [],
   "source": [
    "outcome_list = ['Odds Ratio for COVID-19 carriage', 'Risk Ratio for COVID-19 acquisition', \n",
    "               'Hazard Ratio for COVID-19 acquisition', 'COVID-19 incidence (stratified by asthma severity)', \n",
    "               'frequency (of asthma) among COVID-19 cases in a case series', \n",
    "               'frequency (of asthma) in a COVID-19 prevalence survey', \n",
    "               'frequency (of asthma) in a COVID-19 syndromic surveillance survey']\n",
    "\n",
    "Difference_list = ['asthma', 'asthma severity (intermittent/persistent, mild/moderate/severe)', \n",
    "                    'FEV', 'oral systemic corticosteroids']\n",
    "\n",
    "# Design_list = ['risk factor analysis', 'logistic regression', 'retrospective cohort', 'cross-sectional case-control',\n",
    "#                'matched case-control', 'medical records review', 'mortality records review', 'observational case series', \n",
    "#                'time series analysis', 'survival analysis']\n",
    "\n",
    "Design_list = [ 'retrospective cohort', 'cross-sectional case-control','prevalence survey', 'systematic review , meta-analysis',\n",
    "               'matched case-control', 'medical records review', 'observational case series', \n",
    "               'time series analysis','pseudo-randomized controlled trials' ,'randomized controlled trials']\n",
    "\n",
    "# cov_list = ['covid',\n",
    "#                     'coronavirus disease 19',\n",
    "#                     'sars cov 2', # Note that search function replaces '-' with ' '\n",
    "#                     '2019 ncov',\n",
    "#                     '2019ncov',\n",
    "#                     r'2019 n cov\\b',\n",
    "#                     r'2019n cov\\b',\n",
    "#                     'ncov 2019',\n",
    "#                     r'\\bn cov 2019',\n",
    "#                     'coronavirus 2019',\n",
    "#                     'wuhan pneumonia',\n",
    "#                     'wuhan virus',\n",
    "#                     'wuhan coronavirus',\n",
    "#                     r'coronavirus 2\\b']\n",
    "cov_list = ['COVID-19', 'novel coronavirus','CORD-19' ,'2019-nCoV', 'Wuhan coronavirus']\n"
   ]
  },
  {
   "cell_type": "code",
   "execution_count": 15,
   "metadata": {},
   "outputs": [],
   "source": [
    "new_data = pd.read_csv(root + '/output/corona_challenge/all_data_metadata.csv')"
   ]
  },
  {
   "cell_type": "code",
   "execution_count": 32,
   "metadata": {},
   "outputs": [
    {
     "data": {
      "text/plain": [
       "Index(['Unnamed: 0', 'doc_id', 'source', 'title', 'abstract_x', 'text_body',\n",
       "       'sha', 'source_x', 'doi', 'pmcid', 'pubmed_id', 'license', 'abstract_y',\n",
       "       'publish_time', 'authors', 'journal', 'Microsoft Academic Paper ID',\n",
       "       'WHO #Covidence', 'has_full_text', 'full_text_file'],\n",
       "      dtype='object')"
      ]
     },
     "execution_count": 32,
     "metadata": {},
     "output_type": "execute_result"
    }
   ],
   "source": [
    "new_data.columns"
   ]
  },
  {
   "cell_type": "markdown",
   "metadata": {},
   "source": [
    "## Covid related papers"
   ]
  },
  {
   "cell_type": "code",
   "execution_count": 106,
   "metadata": {},
   "outputs": [],
   "source": [
    "import re\n",
    "title_cov = []\n",
    "\n",
    "# for cov in cov_list:\n",
    "for i in range(0,new_data.shape[0]):\n",
    "    a =  [re.findall(cov.lower(), new_data.loc[i,'abstract_x'].lower()) for cov in cov_list]\n",
    "    for aa in a:\n",
    "        if aa != []:\n",
    "            title_cov.append([new_data.loc[i,'title'],new_data.loc[i,'abstract_x'], new_data.loc[i,'text_body']])"
   ]
  },
  {
   "cell_type": "code",
   "execution_count": 130,
   "metadata": {},
   "outputs": [],
   "source": [
    "corona_data = pd.DataFrame(title_cov, columns = ['title', 'abstract', 'text_body']).drop_duplicates('title').reset_index()\n"
   ]
  },
  {
   "cell_type": "code",
   "execution_count": 138,
   "metadata": {},
   "outputs": [],
   "source": [
    "risk_data =[]\n",
    "design_data = []\n",
    "\n",
    "for i in range(0,corona_data.shape[0]):\n",
    "    a_risk =  [re.findall(risk.lower(), corona_data.loc[i,'text_body'].lower()) for risk in risk_eval]\n",
    "    a_design = [re.findall(des.lower(), corona_data.loc[i,'text_body'].lower()) for des in Design_list]\n",
    "\n",
    "    for risk in a_risk:\n",
    "        if risk != []:\n",
    "            risk_data.append([corona_data.loc[i,'title'],corona_data.loc[i,'abstract'], corona_data.loc[i,'text_body']])\n",
    "    for des in a_design:\n",
    "        if des != []:\n",
    "            design_data.append([corona_data.loc[i,'title'],corona_data.loc[i,'abstract'], corona_data.loc[i,'text_body']])\n"
   ]
  },
  {
   "cell_type": "code",
   "execution_count": 143,
   "metadata": {},
   "outputs": [],
   "source": [
    "design_data = pd.DataFrame(design_data, columns = ['title', 'abstract', 'text_body']).drop_duplicates('title').reset_index()\n"
   ]
  },
  {
   "cell_type": "code",
   "execution_count": 144,
   "metadata": {},
   "outputs": [],
   "source": [
    "risk_data = pd.DataFrame(risk_data, columns = ['title', 'abstract', 'text_body']).drop_duplicates('title').reset_index()\n"
   ]
  },
  {
   "cell_type": "code",
   "execution_count": 179,
   "metadata": {},
   "outputs": [
    {
     "data": {
      "text/plain": [
       "'retrospective cohort'"
      ]
     },
     "execution_count": 179,
     "metadata": {},
     "output_type": "execute_result"
    }
   ],
   "source": [
    "Design_list[0].lower()"
   ]
  },
  {
   "cell_type": "code",
   "execution_count": 182,
   "metadata": {},
   "outputs": [],
   "source": [
    "a_risk = []\n",
    "a_design = []\n",
    "def token_sliding_window(str, size):\n",
    "    tokens = str.lower().split(' ')\n",
    "    for i in range(len(tokens )- size + 1):\n",
    "        yield tokens[i: i+size]\n",
    "for i in range(0,corona_data.shape[0]):\n",
    "    doc = corona_data.loc[i,'text_body'].lower()\n",
    "    for x in range(len(doc)-100):\n",
    "        words = doc[x:x+100]\n",
    "    \n",
    "        a_design.append([re.findall(des.lower(), words) for des in Design_list])\n",
    " \n"
   ]
  },
  {
   "cell_type": "code",
   "execution_count": null,
   "metadata": {},
   "outputs": [],
   "source": [
    "pattern =  \"([^\"]*(commonly used|the stability)[^\"]*)((?!\"section\").)*\"section\": \"([^\"]*)\"\n",
    "                                                                                    "
   ]
  },
  {
   "cell_type": "code",
   "execution_count": 163,
   "metadata": {},
   "outputs": [
    {
     "name": "stdout",
     "output_type": "stream",
     "text": [
      "On December 31, 2019, a cluster of cases of \"pneumonia of unknown origin\" in people associated with\n",
      "the Huanan Seafood Wholesale Market has been reported in Wuhan, China. Only a few days later,\n",
      "Chinese health authorities confirmed that this cluster was associated with a Novel Coronavirus 1 of\n",
      "them had comorbidities. Importantly, the patients admitted to the intensive care unit (ICU) had a\n",
      "higher number of comorbidities(72.2%) than those not admitted to the ICU(37.3%). This suggests that\n",
      "complications may be a risk factor for adverse outcomes 4 . Assessing the prevalence of these\n",
      "chronic diseases is the basis for mitigating complications in patients with COVID-19 infections.\n",
      "However, the effort was hampered by the limited number of cases.  To get a more convincing result,\n",
      "we will provide a systematic evaluation and detail not only estimate the Prevalence of comorbidities\n",
      "in all patients, also assess the risk of underlying diseases in severe patients compared to non-\n",
      "severe patients. The result may aid the management while developing policies for prevention, and\n",
      "response to COVID-19 and its critical outcomes.   The two investigators (J Yang and YP Wang) who\n",
      "performed the literature search also independently extracted the data from included studies.\n",
      "Disagreements were resolved with a third investigator (YN Zhou) or by consensus. We extracted the\n",
      "following variables: author, date, age, gender, number of participates in severe and Non-severe, the\n",
      "prevalence of clinical symptoms such as fever, cough, fatigue, and dyspnea, together with\n",
      "comorbidities including hypertension, diabetes, respiratory system disease, and cardiovascular\n",
      "diseases. All calculations were performed by STATA MP version 13.0. The odds ratio (OR, 95%\n",
      "confidence intervals (CI)) was used to describe the ratio of the probability of the Coronavirus\n",
      "occurring in severe patients vs.  Non-severe. Owing to heterogeneity within and between studies, a\n",
      "random effect model was used to estimating the average effect and its precision, which would give a\n",
      "more conservative estimate of the 95% CI. Using the I 2 statistic and Cochran's Q test to assess\n",
      "statistical heterogeneity.  Terms initially searched a total of 108 articles. After we removed\n",
      "duplicates, checked the title and abstract, and reviewed full-text, eight studies 3-10 eventually\n",
      "met the predetermined inclusion and exclusion criteria. As of February 25, 2020, a total of J o u r\n",
      "n a l P r e -p r o o f 46248 participants were included in our meta-analysis. As presented in Table\n",
      "1 , the median age was 46.0 years and 23871 (51.6%) were men.  The result of this meta-analysis\n",
      "showed the most prevalent clinical symptom was fever ( 91±3, 95% CI 86-97% ), followed by cough\n",
      "(67±7, 95% CI 59-76%), fatigue ( 51±0, 95% CI 34-68% ) and dyspnea ( 30±4, 95% CI 21-40% ). However,\n",
      "the I 2 varying from 84.9% to 96.4% in the evaluates of the clinical features showed significant\n",
      "statistic heterogeneity (p=0.00). The prevalence of comorbidities including hypertension, diabetes,\n",
      "respiratory system disease, and cardiovascular diseases. As shown in Figure 2 (inserts A, B, C, D),\n",
      "the most prevalent comorbidity were hypertension ( 17±7, 95% CI 14-22% ) and diabetes ( 8±6, 95% CI\n",
      "6-11% ),followed by cardiovascular diseases ( 5±4, 95% CI 4-7% ) and respiratory system disease(\n",
      "2±0, 95% CI 1-3% ). In analysis by the proportion of comorbidities, the significant heterogeneity\n",
      "observed for estimates of hypertension, diabetes and cardiovascular diseases (p=0.000), but not\n",
      "respiratory system disease (p=0.126) with an I 2 index ranging from 39.9 to 87.5%.  In Figure 3 , we\n",
      "analyzed the relationship between complications and severe group and Non-severe group. A higher risk\n",
      "of with hypertension, respiratory system disease, and cardiovascular diseases in the severe group\n",
      "compared to those in Non-severe, the result were (OR 2.36, 95% CI: 1.46-3.83), (OR 2.46, 95% CI:\n",
      "1.76-3.44) and (OR 3.42, 95% CI: 1.88-6.22)respectively. They showed low heterogeneity, with I 2\n",
      "from 0 to 39.3 %. However, it was not a statistically significant difference in diabetes, (OR 2.07,\n",
      "95% CI: 0.89-4.82).  The meta-analysis was based on data from 8 studies with laboratory-confirmed\n",
      "COVID -19. All the cases were from hospitals in China. The result we observed more men than women,\n",
      "statistics about 23871:22377 in the COVID-19 infection. MERS-CoV and SARS-CoV have also been found\n",
      "to infect more males than females 11, 12 . It is customary to think women are less likely to affect\n",
      "many bacteria and viruses than men, partly because of their more robust innate and adaptive immune\n",
      "responses 13 .  However, it may be related to the occupational risk factors for men in Huanan wet\n",
      "market exposure history in Huang's report 3 . Aged people and severe patients are more susceptible\n",
      "to COVID-19, this may be associated with a higher frequency of comorbidities 9 .  A meta-analysis of\n",
      "the comorbidities suggests that hypertension prevalent in approximately 17% of the patients,\n",
      "diabetes, cardiovascular diseases, and respiratory system disease were present in 8%, 5%, and 2% of\n",
      "the cases, respectively.  Hypertension, diabetes mellitus consistent with the prevalence of\n",
      "hypertension and diabetes in China were 23.2% 14 16 . The comorbidities effect had also been noted\n",
      "to have similar effects in other respiratory illnesses, such as MERS-CoV 11 . In our study, the\n",
      "association also showed in hypertension, cardiovascular diseases, and respiratory system disease\n",
      "group. Overall, the severe patients were older 4 and had a more significant number of comorbid\n",
      "conditions than those Non-severe. These results suggest that age and comorbidities may be risk\n",
      "factors for critical patients.  The diseases such as hypertension, diabetes, respiratory system\n",
      "disease,   The study does not require ethical approval because the meta-analysis are based on\n",
      "published research and the original data are anonymous.  The authors declared that they have no\n",
      "conflicts of interest to this work.\n"
     ]
    }
   ],
   "source": [
    "import textwrap\n",
    "wrapper = textwrap.TextWrapper(width = 100)\n",
    "text = risk_data.loc[7,'text_body']    \n",
    "print(wrapper.fill(text))"
   ]
  },
  {
   "cell_type": "code",
   "execution_count": null,
   "metadata": {},
   "outputs": [],
   "source": []
  }
 ],
 "metadata": {
  "kernelspec": {
   "display_name": "Python 3",
   "language": "python",
   "name": "python3"
  },
  "language_info": {
   "codemirror_mode": {
    "name": "ipython",
    "version": 3
   },
   "file_extension": ".py",
   "mimetype": "text/x-python",
   "name": "python",
   "nbconvert_exporter": "python",
   "pygments_lexer": "ipython3",
   "version": "3.7.6"
  }
 },
 "nbformat": 4,
 "nbformat_minor": 4
}
