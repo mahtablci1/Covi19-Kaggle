{
 "cells": [
  {
   "cell_type": "markdown",
   "metadata": {},
   "source": [
    "### This is notebook has two main modules, the first one extract and ranks the papers that in their abstract risk and covid are being addressed and the second one generate an abstractive summary of those papers."
   ]
  },
  {
   "cell_type": "code",
   "execution_count": null,
   "metadata": {},
   "outputs": [],
   "source": [
    "import pandas as pd\n",
    "import numpy as np"
   ]
  },
  {
   "cell_type": "code",
   "execution_count": null,
   "metadata": {},
   "outputs": [],
   "source": [
    "corona_df = all_4[[ 'doc_id', 'source', 'title', 'abstract', 'text_body']].drop_duplicates(['title']).dropna().reset_index(drop = True)\n"
   ]
  },
  {
   "cell_type": "markdown",
   "metadata": {},
   "source": [
    "### Extracting papers with risk and covid words in their abstracts\n"
   ]
  },
  {
   "cell_type": "code",
   "execution_count": null,
   "metadata": {},
   "outputs": [],
   "source": [
    "risk_ind = []\n",
    "count_risk = []\n",
    "\n",
    "for i in corona_df['abstract']:\n",
    "    if (str(i).lower().find('risk') != -1 and str(i).lower().find('covid') != -1):\n",
    "        risk_ind.append(i)\n",
    "        count_risk.append(i.lower().count('risk'))\n",
    "corona_df_risk_covid = corona_df[corona_df['abstract'].isin(risk_ind)] \n",
    "corona_df_risk_covid['count_risk'] = count_risk"
   ]
  },
  {
   "cell_type": "markdown",
   "metadata": {},
   "source": [
    "### Bert Extractive Summarizer\n",
    "#### This tool utilizes the HuggingFace Pytorch transformers library to run extractive summarizations.\n",
    "#### This works by first embedding the sentences, then running a clustering algorithm, finding the sentences \n",
    "#### that are closest to the cluster's centroids. This library also uses coreference techniques,\n",
    "#### utilizing the https://github.com/huggingface/neuralcoref library to resolve words in summaries that need \n",
    "#### more context. The greedyness of the neuralcoref library can be tweaked in the SingleModel class."
   ]
  },
  {
   "cell_type": "code",
   "execution_count": null,
   "metadata": {},
   "outputs": [],
   "source": [
    "!pip install bert-extractive-summarizer\n",
    "!pip install spacy\n",
    "!pip install transformers==2.2.0"
   ]
  },
  {
   "cell_type": "code",
   "execution_count": null,
   "metadata": {},
   "outputs": [],
   "source": [
    "model = Summarizer()\n",
    "result = model(body, min_length=60)\n",
    "full = ''.join(result)\n",
    "print(full)\n",
    "summary = []\n",
    "model = Summarizer()\n",
    "for i in corona_df_risk_covid['text_body']:\n",
    "    result = model(i, min_length=60)\n",
    "    full = ''.join(result)\n",
    "    summary.append(full)"
   ]
  }
 ],
 "metadata": {
  "kernelspec": {
   "display_name": "Python 3",
   "language": "python",
   "name": "python3"
  },
  "language_info": {
   "codemirror_mode": {
    "name": "ipython",
    "version": 3
   },
   "file_extension": ".py",
   "mimetype": "text/x-python",
   "name": "python",
   "nbconvert_exporter": "python",
   "pygments_lexer": "ipython3",
   "version": "3.7.6"
  }
 },
 "nbformat": 4,
 "nbformat_minor": 4
}
